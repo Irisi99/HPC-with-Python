{
 "cells": [
  {
   "cell_type": "markdown",
   "metadata": {},
   "source": [
    "# The diffusion equation - parallelized"
   ]
  },
  {
   "cell_type": "code",
   "execution_count": null,
   "metadata": {},
   "outputs": [],
   "source": [
    "# Note, this is only for jupyter notebooks\n",
    "import ipyparallel as ipp\n",
    "# Start the cluster\n",
    "cluster = ipp.Cluster(engines=\"mpi\", n=8)\n",
    "client = cluster.start_and_connect_sync()\n",
    "client.ids"
   ]
  },
  {
   "cell_type": "code",
   "execution_count": null,
   "metadata": {},
   "outputs": [],
   "source": [
    "%px %matplotlib inline"
   ]
  },
  {
   "cell_type": "code",
   "execution_count": null,
   "metadata": {},
   "outputs": [],
   "source": [
    "%%px\n",
    "import numpy as np\n",
    "import matplotlib.pyplot as plt\n",
    "from mpi4py import MPI\n",
    "#\n",
    "comm = MPI.COMM_WORLD\n",
    "size = comm.Get_size()\n",
    "rank = comm.Get_rank()\n",
    "\n",
    "print('Rank {}/{} is alive.'.format(rank, size))"
   ]
  },
  {
   "cell_type": "markdown",
   "metadata": {},
   "source": [
    "#### Define the spatial grid and the time increment"
   ]
  },
  {
   "cell_type": "code",
   "execution_count": null,
   "metadata": {},
   "outputs": [],
   "source": [
    "%%px\n",
    "nx = 1000\n",
    "dx = 0.1\n",
    "nt = 10000\n",
    "dt = 0.001\n",
    "D = 1 # diffusion constant"
   ]
  },
  {
   "cell_type": "markdown",
   "metadata": {},
   "source": [
    "#### Domain decomposition"
   ]
  },
  {
   "cell_type": "code",
   "execution_count": null,
   "metadata": {},
   "outputs": [],
   "source": [
    "%%px\n",
    "# Domain decomposition: set up domain boundaries\n",
    "nx1 = rank*nx//size\n",
    "nx2 = (rank+1)*nx//size\n",
    "\n",
    "print('{}, Domain boundaries: {}-{}'.format(rank, nx1, nx2-1))\n",
    "\n",
    "# We include one additional cell at the boundaries for communication purposes\n",
    "x = np.arange(nx1-1, nx2+1)*dx"
   ]
  },
  {
   "cell_type": "markdown",
   "metadata": {},
   "source": [
    "#### Initial condition: We use a Gaussian concentration profile initially"
   ]
  },
  {
   "cell_type": "code",
   "execution_count": null,
   "metadata": {},
   "outputs": [],
   "source": [
    "%%px\n",
    "sigma0 = 20*dx\n",
    "c = np.exp(-(x-nx*dx/2)**2/(2*sigma0**2)) / (np.sqrt(2*np.pi)*sigma0)\n",
    "\n",
    "plt.title('rank ${}$'.format(rank))\n",
    "plt.xlim(0, nx*dx)\n",
    "plt.ylim(0, 0.3)\n",
    "plt.plot(x, c)"
   ]
  },
  {
   "cell_type": "markdown",
   "metadata": {},
   "source": [
    "#### Propagate in time"
   ]
  },
  {
   "cell_type": "code",
   "execution_count": null,
   "metadata": {},
   "outputs": [],
   "source": [
    "%%px\n",
    "for t in range(nt):\n",
    "    # Send to right, receive from left\n",
    "    comm.Sendrecv(c[-2:-1], (rank+1)%size, recvbuf=c[:1], source=(rank-1)%size)\n",
    "    # Send to left, receive from right\n",
    "    comm.Sendrecv(c[1:2], (rank-1)%size, recvbuf=c[-1:], source=(rank+1)%size)\n",
    "    if t % (nt/5) == 0:\n",
    "        plt.plot(x, c, '-', label='$t={}$'.format(t*dt))\n",
    "\n",
    "    d2c_dx2 = (np.roll(c, 1)-2*c+np.roll(c, -1))/(dx**2)\n",
    "    c += D*d2c_dx2*dt\n",
    "plt.legend(loc='best')"
   ]
  },
  {
   "cell_type": "code",
   "execution_count": null,
   "metadata": {},
   "outputs": [],
   "source": [
    "%%px\n",
    "print(c.shape)"
   ]
  },
  {
   "cell_type": "markdown",
   "metadata": {},
   "source": [
    "#### Gather all data on rank 0 and plot"
   ]
  },
  {
   "cell_type": "code",
   "execution_count": null,
   "metadata": {},
   "outputs": [],
   "source": [
    "%%px\n",
    "x_full_range = np.arange(nx)*dx\n",
    "c_full_range = np.zeros(nx)\n",
    "comm.Gather(c[1:-1], c_full_range, root=0)\n",
    "if rank == 0:\n",
    "    plt.plot(x_full_range, c_full_range, '-')"
   ]
  },
  {
   "cell_type": "markdown",
   "metadata": {},
   "source": [
    "#### Gather during progation so we can plot the evolution of the concentration profile"
   ]
  },
  {
   "cell_type": "code",
   "execution_count": null,
   "metadata": {},
   "outputs": [],
   "source": [
    "%%px\n",
    "if rank == 0:\n",
    "    x_full_range = np.arange(nx)*dx\n",
    "    c_full_range = np.zeros(nx)\n",
    "for t in range(nt):\n",
    "    # Send to right, receive from left\n",
    "    comm.Sendrecv(c[-2:-1], (rank+1)%size, recvbuf=c[:1], source=(rank-1)%size)\n",
    "    # Send to left, receive from right\n",
    "    comm.Sendrecv(c[1:2], (rank-1)%size, recvbuf=c[-1:], source=(rank+1)%size)\n",
    "    if t % (nt/5) == 0:\n",
    "        comm.Gather(c[1:-1], c_full_range, root=0)\n",
    "        if rank == 0:\n",
    "            plt.plot(x_full_range, c_full_range, '-', label='$t={}$'.format(t*dt))\n",
    "\n",
    "    d2c_dx2 = (np.roll(c, 1)-2*c+np.roll(c, -1))/(dx**2)\n",
    "    c += D*d2c_dx2*dt\n",
    "if rank == 0:\n",
    "    plt.legend(loc='best')"
   ]
  },
  {
   "cell_type": "code",
   "execution_count": null,
   "metadata": {},
   "outputs": [],
   "source": [
    "%%px\n",
    "if rank == 1: print(c_full_range)"
   ]
  },
  {
   "cell_type": "code",
   "execution_count": null,
   "metadata": {},
   "outputs": [],
   "source": [
    "%%px\n",
    "print('Process {} knows about dx = {}'.format(rank,dx))"
   ]
  },
  {
   "cell_type": "code",
   "execution_count": null,
   "metadata": {},
   "outputs": [],
   "source": [
    "%%px \n",
    "c_full_range"
   ]
  },
  {
   "cell_type": "code",
   "execution_count": null,
   "metadata": {},
   "outputs": [],
   "source": []
  }
 ],
 "metadata": {
  "kernelspec": {
   "display_name": "Python 3 (ipykernel)",
   "language": "python",
   "name": "python3"
  },
  "language_info": {
   "codemirror_mode": {
    "name": "ipython",
    "version": 3
   },
   "file_extension": ".py",
   "mimetype": "text/x-python",
   "name": "python",
   "nbconvert_exporter": "python",
   "pygments_lexer": "ipython3",
   "version": "3.7.0"
  }
 },
 "nbformat": 4,
 "nbformat_minor": 2
}
