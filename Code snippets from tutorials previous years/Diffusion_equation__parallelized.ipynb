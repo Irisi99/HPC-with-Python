{
 "cells": [
  {
   "cell_type": "markdown",
   "metadata": {},
   "source": [
    "# The diffusion equation - parallelized"
   ]
  },
  {
   "cell_type": "code",
   "execution_count": 1,
   "metadata": {},
   "outputs": [
    {
     "name": "stdout",
     "output_type": "stream",
     "text": [
      "Starting 8 engines with <class 'ipyparallel.cluster.launcher.MPIEngineSetLauncher'>\n"
     ]
    },
    {
     "data": {
      "application/vnd.jupyter.widget-view+json": {
       "model_id": "0a45970264384afc98c9a37e0949c43f",
       "version_major": 2,
       "version_minor": 0
      },
      "text/plain": [
       "  0%|          | 0/8 [00:00<?, ?engine/s]"
      ]
     },
     "metadata": {},
     "output_type": "display_data"
    },
    {
     "data": {
      "text/plain": [
       "[0, 1, 2, 3, 4, 5, 6, 7]"
      ]
     },
     "execution_count": 1,
     "metadata": {},
     "output_type": "execute_result"
    }
   ],
   "source": [
    "# Note, this is only for jupyter notebooks\n",
    "import ipyparallel as ipp\n",
    "# Start the cluster\n",
    "cluster = ipp.Cluster(engines=\"mpi\", n=8)\n",
    "client = cluster.start_and_connect_sync()\n",
    "client.ids"
   ]
  },
  {
   "cell_type": "code",
   "execution_count": 2,
   "metadata": {},
   "outputs": [],
   "source": [
    "%px %matplotlib inline"
   ]
  },
  {
   "cell_type": "code",
   "execution_count": 3,
   "metadata": {},
   "outputs": [
    {
     "data": {
      "text/plain": [
       "[stdout:0] Rank 0/8 is alive.\n"
      ]
     },
     "metadata": {},
     "output_type": "display_data"
    },
    {
     "data": {
      "text/plain": [
       "[stdout:1] Rank 1/8 is alive.\n"
      ]
     },
     "metadata": {},
     "output_type": "display_data"
    },
    {
     "data": {
      "text/plain": [
       "[stdout:3] Rank 3/8 is alive.\n"
      ]
     },
     "metadata": {},
     "output_type": "display_data"
    },
    {
     "data": {
      "text/plain": [
       "[stdout:2] Rank 2/8 is alive.\n"
      ]
     },
     "metadata": {},
     "output_type": "display_data"
    },
    {
     "data": {
      "text/plain": [
       "[stdout:4] Rank 4/8 is alive.\n"
      ]
     },
     "metadata": {},
     "output_type": "display_data"
    },
    {
     "data": {
      "text/plain": [
       "[stdout:5] Rank 5/8 is alive.\n"
      ]
     },
     "metadata": {},
     "output_type": "display_data"
    },
    {
     "data": {
      "text/plain": [
       "[stdout:6] Rank 6/8 is alive.\n"
      ]
     },
     "metadata": {},
     "output_type": "display_data"
    },
    {
     "data": {
      "text/plain": [
       "[stdout:7] Rank 7/8 is alive.\n"
      ]
     },
     "metadata": {},
     "output_type": "display_data"
    }
   ],
   "source": [
    "%%px\n",
    "import numpy as np\n",
    "import matplotlib.pyplot as plt\n",
    "from mpi4py import MPI\n",
    "#\n",
    "comm = MPI.COMM_WORLD\n",
    "size = comm.Get_size()\n",
    "rank = comm.Get_rank()\n",
    "\n",
    "print('Rank {}/{} is alive.'.format(rank, size))"
   ]
  },
  {
   "cell_type": "markdown",
   "metadata": {},
   "source": [
    "#### Define the spatial grid and the time increment"
   ]
  },
  {
   "cell_type": "code",
   "execution_count": 7,
   "metadata": {},
   "outputs": [],
   "source": [
    "%%px\n",
    "nx = 1000\n",
    "dx = 0.1\n",
    "nt = 10000\n",
    "dt = 0.001\n",
    "D = 1 # diffusion constant"
   ]
  },
  {
   "cell_type": "markdown",
   "metadata": {},
   "source": [
    "#### Domain decomposition"
   ]
  },
  {
   "cell_type": "code",
   "execution_count": 12,
   "metadata": {},
   "outputs": [
    {
     "data": {
      "text/plain": [
       "[stdout:0] 0, Domain boundaries: 0-124\n"
      ]
     },
     "metadata": {},
     "output_type": "display_data"
    },
    {
     "data": {
      "text/plain": [
       "[stdout:1] 1, Domain boundaries: 125-249\n"
      ]
     },
     "metadata": {},
     "output_type": "display_data"
    },
    {
     "data": {
      "text/plain": [
       "[stdout:2] 2, Domain boundaries: 250-374\n"
      ]
     },
     "metadata": {},
     "output_type": "display_data"
    },
    {
     "data": {
      "text/plain": [
       "[stdout:3] 3, Domain boundaries: 375-499\n"
      ]
     },
     "metadata": {},
     "output_type": "display_data"
    },
    {
     "data": {
      "text/plain": [
       "[stdout:4] 4, Domain boundaries: 500-624\n"
      ]
     },
     "metadata": {},
     "output_type": "display_data"
    },
    {
     "data": {
      "text/plain": [
       "[stdout:5] 5, Domain boundaries: 625-749\n"
      ]
     },
     "metadata": {},
     "output_type": "display_data"
    },
    {
     "data": {
      "text/plain": [
       "[stdout:6] 6, Domain boundaries: 750-874\n"
      ]
     },
     "metadata": {},
     "output_type": "display_data"
    },
    {
     "data": {
      "text/plain": [
       "[stdout:7] 7, Domain boundaries: 875-999\n"
      ]
     },
     "metadata": {},
     "output_type": "display_data"
    }
   ],
   "source": [
    "%%px\n",
    "# Domain decomposition: set up domain boundaries\n",
    "nx1 = rank*nx//size\n",
    "nx2 = (rank+1)*nx//size\n",
    "\n",
    "print('{}, Domain boundaries: {}-{}'.format(rank, nx1, nx2-1))\n",
    "\n",
    "# We include one additional cell at the boundaries for communication purposes\n",
    "x = np.arange(nx1-1, nx2+1)*dx"
   ]
  },
  {
   "cell_type": "markdown",
   "metadata": {},
   "source": [
    "#### Initial condition: We use a Gaussian concentration profile initially"
   ]
  },
  {
   "cell_type": "code",
   "execution_count": 14,
   "metadata": {},
   "outputs": [
    {
     "data": {
      "text/plain": [
       "\u001b[0;31mOut[2:12]: \u001b[0m[<matplotlib.lines.Line2D at 0x1138933a0>]"
      ]
     },
     "metadata": {
      "after": null,
      "completed": null,
      "data": {},
      "engine_id": 2,
      "engine_uuid": "83e25974-c2efa43a0889a6ba58ebe5a0",
      "error": null,
      "execute_input": "sigma0 = 20*dx\nc = np.exp(-(x-nx*dx/2)**2/(2*sigma0**2)) / (np.sqrt(2*np.pi)*sigma0)\n\nplt.title('rank ${}$'.format(rank))\nplt.xlim(0, nx*dx)\nplt.ylim(0, 0.3)\nplt.plot(x, c)\n",
      "execute_result": {
       "data": {
        "text/plain": "[<matplotlib.lines.Line2D at 0x1138933a0>]"
       },
       "execution_count": 12,
       "metadata": {}
      },
      "follow": null,
      "msg_id": null,
      "outputs": [],
      "received": null,
      "started": null,
      "status": null,
      "stderr": "",
      "stdout": "",
      "submitted": "2022-06-14T13:13:49.087173Z"
     },
     "output_type": "display_data"
    },
    {
     "data": {
      "text/plain": [
       "\u001b[0;31mOut[1:12]: \u001b[0m[<matplotlib.lines.Line2D at 0x13fcc23a0>]"
      ]
     },
     "metadata": {
      "after": null,
      "completed": null,
      "data": {},
      "engine_id": 1,
      "engine_uuid": "c3fc1bc9-f92137e48936134917d657de",
      "error": null,
      "execute_input": "sigma0 = 20*dx\nc = np.exp(-(x-nx*dx/2)**2/(2*sigma0**2)) / (np.sqrt(2*np.pi)*sigma0)\n\nplt.title('rank ${}$'.format(rank))\nplt.xlim(0, nx*dx)\nplt.ylim(0, 0.3)\nplt.plot(x, c)\n",
      "execute_result": {
       "data": {
        "text/plain": "[<matplotlib.lines.Line2D at 0x13fcc23a0>]"
       },
       "execution_count": 12,
       "metadata": {}
      },
      "follow": null,
      "msg_id": null,
      "outputs": [],
      "received": null,
      "started": null,
      "status": null,
      "stderr": "",
      "stdout": "",
      "submitted": "2022-06-14T13:13:49.086988Z"
     },
     "output_type": "display_data"
    },
    {
     "data": {
      "text/plain": [
       "\u001b[0;31mOut[4:12]: \u001b[0m[<matplotlib.lines.Line2D at 0x10fdd43a0>]"
      ]
     },
     "metadata": {
      "after": null,
      "completed": null,
      "data": {},
      "engine_id": 4,
      "engine_uuid": "d58cde31-50c8c039d40168eb151b766d",
      "error": null,
      "execute_input": "sigma0 = 20*dx\nc = np.exp(-(x-nx*dx/2)**2/(2*sigma0**2)) / (np.sqrt(2*np.pi)*sigma0)\n\nplt.title('rank ${}$'.format(rank))\nplt.xlim(0, nx*dx)\nplt.ylim(0, 0.3)\nplt.plot(x, c)\n",
      "execute_result": {
       "data": {
        "text/plain": "[<matplotlib.lines.Line2D at 0x10fdd43a0>]"
       },
       "execution_count": 12,
       "metadata": {}
      },
      "follow": null,
      "msg_id": null,
      "outputs": [],
      "received": null,
      "started": null,
      "status": null,
      "stderr": "",
      "stdout": "",
      "submitted": "2022-06-14T13:13:49.087375Z"
     },
     "output_type": "display_data"
    },
    {
     "data": {
      "text/plain": [
       "\u001b[0;31mOut[5:12]: \u001b[0m[<matplotlib.lines.Line2D at 0x10bc533a0>]"
      ]
     },
     "metadata": {
      "after": null,
      "completed": null,
      "data": {},
      "engine_id": 5,
      "engine_uuid": "5945294b-f0727d7acbe8e9f05769db0c",
      "error": null,
      "execute_input": "sigma0 = 20*dx\nc = np.exp(-(x-nx*dx/2)**2/(2*sigma0**2)) / (np.sqrt(2*np.pi)*sigma0)\n\nplt.title('rank ${}$'.format(rank))\nplt.xlim(0, nx*dx)\nplt.ylim(0, 0.3)\nplt.plot(x, c)\n",
      "execute_result": {
       "data": {
        "text/plain": "[<matplotlib.lines.Line2D at 0x10bc533a0>]"
       },
       "execution_count": 12,
       "metadata": {}
      },
      "follow": null,
      "msg_id": null,
      "outputs": [],
      "received": null,
      "started": null,
      "status": null,
      "stderr": "",
      "stdout": "",
      "submitted": "2022-06-14T13:13:49.087472Z"
     },
     "output_type": "display_data"
    },
    {
     "data": {
      "text/plain": [
       "\u001b[0;31mOut[0:12]: \u001b[0m[<matplotlib.lines.Line2D at 0x10ab933a0>]"
      ]
     },
     "metadata": {
      "after": null,
      "completed": null,
      "data": {},
      "engine_id": 0,
      "engine_uuid": "54d2c700-ac8848bd4c2af1b6c846b91b",
      "error": null,
      "execute_input": "sigma0 = 20*dx\nc = np.exp(-(x-nx*dx/2)**2/(2*sigma0**2)) / (np.sqrt(2*np.pi)*sigma0)\n\nplt.title('rank ${}$'.format(rank))\nplt.xlim(0, nx*dx)\nplt.ylim(0, 0.3)\nplt.plot(x, c)\n",
      "execute_result": {
       "data": {
        "text/plain": "[<matplotlib.lines.Line2D at 0x10ab933a0>]"
       },
       "execution_count": 12,
       "metadata": {}
      },
      "follow": null,
      "msg_id": null,
      "outputs": [],
      "received": null,
      "started": null,
      "status": null,
      "stderr": "",
      "stdout": "",
      "submitted": "2022-06-14T13:13:49.086561Z"
     },
     "output_type": "display_data"
    },
    {
     "data": {
      "text/plain": [
       "\u001b[0;31mOut[6:12]: \u001b[0m[<matplotlib.lines.Line2D at 0x11612b3d0>]"
      ]
     },
     "metadata": {
      "after": null,
      "completed": null,
      "data": {},
      "engine_id": 6,
      "engine_uuid": "52cbb748-268295a012b4db105837b03a",
      "error": null,
      "execute_input": "sigma0 = 20*dx\nc = np.exp(-(x-nx*dx/2)**2/(2*sigma0**2)) / (np.sqrt(2*np.pi)*sigma0)\n\nplt.title('rank ${}$'.format(rank))\nplt.xlim(0, nx*dx)\nplt.ylim(0, 0.3)\nplt.plot(x, c)\n",
      "execute_result": {
       "data": {
        "text/plain": "[<matplotlib.lines.Line2D at 0x11612b3d0>]"
       },
       "execution_count": 12,
       "metadata": {}
      },
      "follow": null,
      "msg_id": null,
      "outputs": [],
      "received": null,
      "started": null,
      "status": null,
      "stderr": "",
      "stdout": "",
      "submitted": "2022-06-14T13:13:49.087565Z"
     },
     "output_type": "display_data"
    },
    {
     "data": {
      "text/plain": [
       "\u001b[0;31mOut[3:12]: \u001b[0m[<matplotlib.lines.Line2D at 0x1196533a0>]"
      ]
     },
     "metadata": {
      "after": null,
      "completed": null,
      "data": {},
      "engine_id": 3,
      "engine_uuid": "aa29e2f1-7574ed3ecd12f3953ae86e0c",
      "error": null,
      "execute_input": "sigma0 = 20*dx\nc = np.exp(-(x-nx*dx/2)**2/(2*sigma0**2)) / (np.sqrt(2*np.pi)*sigma0)\n\nplt.title('rank ${}$'.format(rank))\nplt.xlim(0, nx*dx)\nplt.ylim(0, 0.3)\nplt.plot(x, c)\n",
      "execute_result": {
       "data": {
        "text/plain": "[<matplotlib.lines.Line2D at 0x1196533a0>]"
       },
       "execution_count": 12,
       "metadata": {}
      },
      "follow": null,
      "msg_id": null,
      "outputs": [],
      "received": null,
      "started": null,
      "status": null,
      "stderr": "",
      "stdout": "",
      "submitted": "2022-06-14T13:13:49.087276Z"
     },
     "output_type": "display_data"
    },
    {
     "data": {
      "text/plain": [
       "\u001b[0;31mOut[7:12]: \u001b[0m[<matplotlib.lines.Line2D at 0x127b103d0>]"
      ]
     },
     "metadata": {
      "after": null,
      "completed": null,
      "data": {},
      "engine_id": 7,
      "engine_uuid": "86e0317d-f628829d599352a97330813b",
      "error": null,
      "execute_input": "sigma0 = 20*dx\nc = np.exp(-(x-nx*dx/2)**2/(2*sigma0**2)) / (np.sqrt(2*np.pi)*sigma0)\n\nplt.title('rank ${}$'.format(rank))\nplt.xlim(0, nx*dx)\nplt.ylim(0, 0.3)\nplt.plot(x, c)\n",
      "execute_result": {
       "data": {
        "text/plain": "[<matplotlib.lines.Line2D at 0x127b103d0>]"
       },
       "execution_count": 12,
       "metadata": {}
      },
      "follow": null,
      "msg_id": null,
      "outputs": [],
      "received": null,
      "started": null,
      "status": null,
      "stderr": "",
      "stdout": "",
      "submitted": "2022-06-14T13:13:49.087658Z"
     },
     "output_type": "display_data"
    },
    {
     "data": {
      "text/plain": [
       "[output:4]"
      ]
     },
     "metadata": {},
     "output_type": "display_data"
    },
    {
     "data": {
      "image/png": "[encoded data removed]",
      "text/plain": [
       "<Figure size 432x288 with 1 Axes>"
      ]
     },
     "metadata": {
      "engine": 4,
      "needs_background": "light"
     },
     "output_type": "display_data"
    },
    {
     "data": {
      "text/plain": [
       "[output:0]"
      ]
     },
     "metadata": {},
     "output_type": "display_data"
    },
    {
     "data": {
      "image/png": "[encoded data removed]",
      "text/plain": [
       "<Figure size 432x288 with 1 Axes>"
      ]
     },
     "metadata": {
      "engine": 0,
      "needs_background": "light"
     },
     "output_type": "display_data"
    },
    {
     "data": {
      "text/plain": [
       "[output:2]"
      ]
     },
     "metadata": {},
     "output_type": "display_data"
    },
    {
     "data": {
      "image/png": "[encoded data removed]",
      "text/plain": [
       "<Figure size 432x288 with 1 Axes>"
      ]
     },
     "metadata": {
      "engine": 2,
      "needs_background": "light"
     },
     "output_type": "display_data"
    },
    {
     "data": {
      "text/plain": [
       "[output:1]"
      ]
     },
     "metadata": {},
     "output_type": "display_data"
    },
    {
     "data": {
      "image/png": "[encoded data removed]",
      "text/plain": [
       "<Figure size 432x288 with 1 Axes>"
      ]
     },
     "metadata": {
      "engine": 1,
      "needs_background": "light"
     },
     "output_type": "display_data"
    },
    {
     "data": {
      "text/plain": [
       "[output:6]"
      ]
     },
     "metadata": {},
     "output_type": "display_data"
    },
    {
     "data": {
      "image/png": "[encoded data removed]",
      "text/plain": [
       "<Figure size 432x288 with 1 Axes>"
      ]
     },
     "metadata": {
      "engine": 6,
      "needs_background": "light"
     },
     "output_type": "display_data"
    },
    {
     "data": {
      "text/plain": [
       "[output:3]"
      ]
     },
     "metadata": {},
     "output_type": "display_data"
    },
    {
     "data": {
      "image/png": "[encoded data removed]",
      "text/plain": [
       "<Figure size 432x288 with 1 Axes>"
      ]
     },
     "metadata": {
      "engine": 3,
      "needs_background": "light"
     },
     "output_type": "display_data"
    },
    {
     "data": {
      "text/plain": [
       "[output:5]"
      ]
     },
     "metadata": {},
     "output_type": "display_data"
    },
    {
     "data": {
      "image/png": "[encoded data removed]",
      "text/plain": [
       "<Figure size 432x288 with 1 Axes>"
      ]
     },
     "metadata": {
      "engine": 5,
      "needs_background": "light"
     },
     "output_type": "display_data"
    },
    {
     "data": {
      "text/plain": [
       "[output:7]"
      ]
     },
     "metadata": {},
     "output_type": "display_data"
    },
    {
     "data": {
      "image/png": "[encoded data removed]",
      "text/plain": [
       "<Figure size 432x288 with 1 Axes>"
      ]
     },
     "metadata": {
      "engine": 7,
      "needs_background": "light"
     },
     "output_type": "display_data"
    }
   ],
   "source": [
    "%%px\n",
    "sigma0 = 20*dx\n",
    "c = np.exp(-(x-nx*dx/2)**2/(2*sigma0**2)) / (np.sqrt(2*np.pi)*sigma0)\n",
    "\n",
    "plt.title('rank ${}$'.format(rank))\n",
    "plt.xlim(0, nx*dx)\n",
    "plt.ylim(0, 0.3)\n",
    "plt.plot(x, c)"
   ]
  },
  {
   "cell_type": "markdown",
   "metadata": {},
   "source": [
    "#### Propagate in time"
   ]
  },
  {
   "cell_type": "code",
   "execution_count": 15,
   "metadata": {},
   "outputs": [
    {
     "data": {
      "text/plain": [
       "\u001b[0;31mOut[1:13]: \u001b[0m<matplotlib.legend.Legend at 0x13ff22100>"
      ]
     },
     "metadata": {
      "after": null,
      "completed": null,
      "data": {},
      "engine_id": 1,
      "engine_uuid": "c3fc1bc9-f92137e48936134917d657de",
      "error": null,
      "execute_input": "for t in range(nt):\n    # Send to right, receive from left\n    comm.Sendrecv(c[-2:-1], (rank+1)%size, recvbuf=c[:1], source=(rank-1)%size)\n    # Send to left, receive from right\n    comm.Sendrecv(c[1:2], (rank-1)%size, recvbuf=c[-1:], source=(rank+1)%size)\n    if t % (nt/5) == 0:\n        plt.plot(x, c, '-', label='$t={}$'.format(t*dt))\n\n    d2c_dx2 = (np.roll(c, 1)-2*c+np.roll(c, -1))/(dx**2)\n    c += D*d2c_dx2*dt\nplt.legend(loc='best')\n",
      "execute_result": {
       "data": {
        "text/plain": "<matplotlib.legend.Legend at 0x13ff22100>"
       },
       "execution_count": 13,
       "metadata": {}
      },
      "follow": null,
      "msg_id": null,
      "outputs": [],
      "received": null,
      "started": null,
      "status": null,
      "stderr": "",
      "stdout": "",
      "submitted": "2022-06-14T13:15:33.442028Z"
     },
     "output_type": "display_data"
    },
    {
     "data": {
      "text/plain": [
       "\u001b[0;31mOut[3:13]: \u001b[0m<matplotlib.legend.Legend at 0x1197a10a0>"
      ]
     },
     "metadata": {
      "after": null,
      "completed": null,
      "data": {},
      "engine_id": 3,
      "engine_uuid": "aa29e2f1-7574ed3ecd12f3953ae86e0c",
      "error": null,
      "execute_input": "for t in range(nt):\n    # Send to right, receive from left\n    comm.Sendrecv(c[-2:-1], (rank+1)%size, recvbuf=c[:1], source=(rank-1)%size)\n    # Send to left, receive from right\n    comm.Sendrecv(c[1:2], (rank-1)%size, recvbuf=c[-1:], source=(rank+1)%size)\n    if t % (nt/5) == 0:\n        plt.plot(x, c, '-', label='$t={}$'.format(t*dt))\n\n    d2c_dx2 = (np.roll(c, 1)-2*c+np.roll(c, -1))/(dx**2)\n    c += D*d2c_dx2*dt\nplt.legend(loc='best')\n",
      "execute_result": {
       "data": {
        "text/plain": "<matplotlib.legend.Legend at 0x1197a10a0>"
       },
       "execution_count": 13,
       "metadata": {}
      },
      "follow": null,
      "msg_id": null,
      "outputs": [],
      "received": null,
      "started": null,
      "status": null,
      "stderr": "",
      "stdout": "",
      "submitted": "2022-06-14T13:15:33.442239Z"
     },
     "output_type": "display_data"
    },
    {
     "data": {
      "text/plain": [
       "\u001b[0;31mOut[6:13]: \u001b[0m<matplotlib.legend.Legend at 0x1162790d0>"
      ]
     },
     "metadata": {
      "after": null,
      "completed": null,
      "data": {},
      "engine_id": 6,
      "engine_uuid": "52cbb748-268295a012b4db105837b03a",
      "error": null,
      "execute_input": "for t in range(nt):\n    # Send to right, receive from left\n    comm.Sendrecv(c[-2:-1], (rank+1)%size, recvbuf=c[:1], source=(rank-1)%size)\n    # Send to left, receive from right\n    comm.Sendrecv(c[1:2], (rank-1)%size, recvbuf=c[-1:], source=(rank+1)%size)\n    if t % (nt/5) == 0:\n        plt.plot(x, c, '-', label='$t={}$'.format(t*dt))\n\n    d2c_dx2 = (np.roll(c, 1)-2*c+np.roll(c, -1))/(dx**2)\n    c += D*d2c_dx2*dt\nplt.legend(loc='best')\n",
      "execute_result": {
       "data": {
        "text/plain": "<matplotlib.legend.Legend at 0x1162790d0>"
       },
       "execution_count": 13,
       "metadata": {}
      },
      "follow": null,
      "msg_id": null,
      "outputs": [],
      "received": null,
      "started": null,
      "status": null,
      "stderr": "",
      "stdout": "",
      "submitted": "2022-06-14T13:15:33.442689Z"
     },
     "output_type": "display_data"
    },
    {
     "data": {
      "text/plain": [
       "\u001b[0;31mOut[4:13]: \u001b[0m<matplotlib.legend.Legend at 0x118021100>"
      ]
     },
     "metadata": {
      "after": null,
      "completed": null,
      "data": {},
      "engine_id": 4,
      "engine_uuid": "d58cde31-50c8c039d40168eb151b766d",
      "error": null,
      "execute_input": "for t in range(nt):\n    # Send to right, receive from left\n    comm.Sendrecv(c[-2:-1], (rank+1)%size, recvbuf=c[:1], source=(rank-1)%size)\n    # Send to left, receive from right\n    comm.Sendrecv(c[1:2], (rank-1)%size, recvbuf=c[-1:], source=(rank+1)%size)\n    if t % (nt/5) == 0:\n        plt.plot(x, c, '-', label='$t={}$'.format(t*dt))\n\n    d2c_dx2 = (np.roll(c, 1)-2*c+np.roll(c, -1))/(dx**2)\n    c += D*d2c_dx2*dt\nplt.legend(loc='best')\n",
      "execute_result": {
       "data": {
        "text/plain": "<matplotlib.legend.Legend at 0x118021100>"
       },
       "execution_count": 13,
       "metadata": {}
      },
      "follow": null,
      "msg_id": null,
      "outputs": [],
      "received": null,
      "started": null,
      "status": null,
      "stderr": "",
      "stdout": "",
      "submitted": "2022-06-14T13:15:33.442340Z"
     },
     "output_type": "display_data"
    },
    {
     "data": {
      "text/plain": [
       "\u001b[0;31mOut[7:13]: \u001b[0m<matplotlib.legend.Legend at 0x127c600d0>"
      ]
     },
     "metadata": {
      "after": null,
      "completed": null,
      "data": {},
      "engine_id": 7,
      "engine_uuid": "86e0317d-f628829d599352a97330813b",
      "error": null,
      "execute_input": "for t in range(nt):\n    # Send to right, receive from left\n    comm.Sendrecv(c[-2:-1], (rank+1)%size, recvbuf=c[:1], source=(rank-1)%size)\n    # Send to left, receive from right\n    comm.Sendrecv(c[1:2], (rank-1)%size, recvbuf=c[-1:], source=(rank+1)%size)\n    if t % (nt/5) == 0:\n        plt.plot(x, c, '-', label='$t={}$'.format(t*dt))\n\n    d2c_dx2 = (np.roll(c, 1)-2*c+np.roll(c, -1))/(dx**2)\n    c += D*d2c_dx2*dt\nplt.legend(loc='best')\n",
      "execute_result": {
       "data": {
        "text/plain": "<matplotlib.legend.Legend at 0x127c600d0>"
       },
       "execution_count": 13,
       "metadata": {}
      },
      "follow": null,
      "msg_id": null,
      "outputs": [],
      "received": null,
      "started": null,
      "status": null,
      "stderr": "",
      "stdout": "",
      "submitted": "2022-06-14T13:15:33.442788Z"
     },
     "output_type": "display_data"
    },
    {
     "data": {
      "text/plain": [
       "\u001b[0;31mOut[5:13]: \u001b[0m<matplotlib.legend.Legend at 0x10bda1100>"
      ]
     },
     "metadata": {
      "after": null,
      "completed": null,
      "data": {},
      "engine_id": 5,
      "engine_uuid": "5945294b-f0727d7acbe8e9f05769db0c",
      "error": null,
      "execute_input": "for t in range(nt):\n    # Send to right, receive from left\n    comm.Sendrecv(c[-2:-1], (rank+1)%size, recvbuf=c[:1], source=(rank-1)%size)\n    # Send to left, receive from right\n    comm.Sendrecv(c[1:2], (rank-1)%size, recvbuf=c[-1:], source=(rank+1)%size)\n    if t % (nt/5) == 0:\n        plt.plot(x, c, '-', label='$t={}$'.format(t*dt))\n\n    d2c_dx2 = (np.roll(c, 1)-2*c+np.roll(c, -1))/(dx**2)\n    c += D*d2c_dx2*dt\nplt.legend(loc='best')\n",
      "execute_result": {
       "data": {
        "text/plain": "<matplotlib.legend.Legend at 0x10bda1100>"
       },
       "execution_count": 13,
       "metadata": {}
      },
      "follow": null,
      "msg_id": null,
      "outputs": [],
      "received": null,
      "started": null,
      "status": null,
      "stderr": "",
      "stdout": "",
      "submitted": "2022-06-14T13:15:33.442584Z"
     },
     "output_type": "display_data"
    },
    {
     "data": {
      "text/plain": [
       "\u001b[0;31mOut[2:13]: \u001b[0m<matplotlib.legend.Legend at 0x1139e1100>"
      ]
     },
     "metadata": {
      "after": null,
      "completed": null,
      "data": {},
      "engine_id": 2,
      "engine_uuid": "83e25974-c2efa43a0889a6ba58ebe5a0",
      "error": null,
      "execute_input": "for t in range(nt):\n    # Send to right, receive from left\n    comm.Sendrecv(c[-2:-1], (rank+1)%size, recvbuf=c[:1], source=(rank-1)%size)\n    # Send to left, receive from right\n    comm.Sendrecv(c[1:2], (rank-1)%size, recvbuf=c[-1:], source=(rank+1)%size)\n    if t % (nt/5) == 0:\n        plt.plot(x, c, '-', label='$t={}$'.format(t*dt))\n\n    d2c_dx2 = (np.roll(c, 1)-2*c+np.roll(c, -1))/(dx**2)\n    c += D*d2c_dx2*dt\nplt.legend(loc='best')\n",
      "execute_result": {
       "data": {
        "text/plain": "<matplotlib.legend.Legend at 0x1139e1100>"
       },
       "execution_count": 13,
       "metadata": {}
      },
      "follow": null,
      "msg_id": null,
      "outputs": [],
      "received": null,
      "started": null,
      "status": null,
      "stderr": "",
      "stdout": "",
      "submitted": "2022-06-14T13:15:33.442136Z"
     },
     "output_type": "display_data"
    },
    {
     "data": {
      "application/vnd.jupyter.widget-view+json": {
       "model_id": "b761015188f24ba29eeca70b1a273298",
       "version_major": 2,
       "version_minor": 0
      },
      "text/plain": [
       "%px:   0%|          | 0/8 [00:00<?, ?tasks/s]"
      ]
     },
     "metadata": {},
     "output_type": "display_data"
    },
    {
     "data": {
      "text/plain": [
       "\u001b[0;31mOut[0:13]: \u001b[0m<matplotlib.legend.Legend at 0x10ace1100>"
      ]
     },
     "metadata": {
      "after": null,
      "completed": null,
      "data": {},
      "engine_id": 0,
      "engine_uuid": "54d2c700-ac8848bd4c2af1b6c846b91b",
      "error": null,
      "execute_input": "for t in range(nt):\n    # Send to right, receive from left\n    comm.Sendrecv(c[-2:-1], (rank+1)%size, recvbuf=c[:1], source=(rank-1)%size)\n    # Send to left, receive from right\n    comm.Sendrecv(c[1:2], (rank-1)%size, recvbuf=c[-1:], source=(rank+1)%size)\n    if t % (nt/5) == 0:\n        plt.plot(x, c, '-', label='$t={}$'.format(t*dt))\n\n    d2c_dx2 = (np.roll(c, 1)-2*c+np.roll(c, -1))/(dx**2)\n    c += D*d2c_dx2*dt\nplt.legend(loc='best')\n",
      "execute_result": {
       "data": {
        "text/plain": "<matplotlib.legend.Legend at 0x10ace1100>"
       },
       "execution_count": 13,
       "metadata": {}
      },
      "follow": null,
      "msg_id": null,
      "outputs": [],
      "received": null,
      "started": null,
      "status": null,
      "stderr": "",
      "stdout": "",
      "submitted": "2022-06-14T13:15:33.441878Z"
     },
     "output_type": "display_data"
    },
    {
     "data": {
      "text/plain": [
       "[output:6]"
      ]
     },
     "metadata": {},
     "output_type": "display_data"
    },
    {
     "data": {
      "image/png": "[encoded data removed]",
      "text/plain": [
       "<Figure size 432x288 with 1 Axes>"
      ]
     },
     "metadata": {
      "engine": 6,
      "needs_background": "light"
     },
     "output_type": "display_data"
    },
    {
     "data": {
      "text/plain": [
       "[output:0]"
      ]
     },
     "metadata": {},
     "output_type": "display_data"
    },
    {
     "data": {
      "image/png": "[encoded data removed]",
      "text/plain": [
       "<Figure size 432x288 with 1 Axes>"
      ]
     },
     "metadata": {
      "engine": 0,
      "needs_background": "light"
     },
     "output_type": "display_data"
    },
    {
     "data": {
      "text/plain": [
       "[output:4]"
      ]
     },
     "metadata": {},
     "output_type": "display_data"
    },
    {
     "data": {
      "image/png": "[encoded data removed]",
      "text/plain": [
       "<Figure size 432x288 with 1 Axes>"
      ]
     },
     "metadata": {
      "engine": 4,
      "needs_background": "light"
     },
     "output_type": "display_data"
    },
    {
     "data": {
      "text/plain": [
       "[output:5]"
      ]
     },
     "metadata": {},
     "output_type": "display_data"
    },
    {
     "data": {
      "image/png": "[encoded data removed]",
      "text/plain": [
       "<Figure size 432x288 with 1 Axes>"
      ]
     },
     "metadata": {
      "engine": 5,
      "needs_background": "light"
     },
     "output_type": "display_data"
    },
    {
     "data": {
      "text/plain": [
       "[output:2]"
      ]
     },
     "metadata": {},
     "output_type": "display_data"
    },
    {
     "data": {
      "image/png": "[encoded data removed]",
      "text/plain": [
       "<Figure size 432x288 with 1 Axes>"
      ]
     },
     "metadata": {
      "engine": 2,
      "needs_background": "light"
     },
     "output_type": "display_data"
    },
    {
     "data": {
      "text/plain": [
       "[output:1]"
      ]
     },
     "metadata": {},
     "output_type": "display_data"
    },
    {
     "data": {
      "image/png": "[encoded data removed]",
      "text/plain": [
       "<Figure size 432x288 with 1 Axes>"
      ]
     },
     "metadata": {
      "engine": 1,
      "needs_background": "light"
     },
     "output_type": "display_data"
    },
    {
     "data": {
      "text/plain": [
       "[output:3]"
      ]
     },
     "metadata": {},
     "output_type": "display_data"
    },
    {
     "data": {
      "image/png": "[encoded data removed]",
      "text/plain": [
       "<Figure size 432x288 with 1 Axes>"
      ]
     },
     "metadata": {
      "engine": 3,
      "needs_background": "light"
     },
     "output_type": "display_data"
    },
    {
     "data": {
      "text/plain": [
       "[output:7]"
      ]
     },
     "metadata": {},
     "output_type": "display_data"
    },
    {
     "data": {
      "image/png": "[encoded data removed]",
      "text/plain": [
       "<Figure size 432x288 with 1 Axes>"
      ]
     },
     "metadata": {
      "engine": 7,
      "needs_background": "light"
     },
     "output_type": "display_data"
    }
   ],
   "source": [
    "%%px\n",
    "for t in range(nt):\n",
    "    # Send to right, receive from left\n",
    "    comm.Sendrecv(c[-2:-1], (rank+1)%size, recvbuf=c[:1], source=(rank-1)%size)\n",
    "    # Send to left, receive from right\n",
    "    comm.Sendrecv(c[1:2], (rank-1)%size, recvbuf=c[-1:], source=(rank+1)%size)\n",
    "    if t % (nt/5) == 0:\n",
    "        plt.plot(x, c, '-', label='$t={}$'.format(t*dt))\n",
    "\n",
    "    d2c_dx2 = (np.roll(c, 1)-2*c+np.roll(c, -1))/(dx**2)\n",
    "    c += D*d2c_dx2*dt\n",
    "plt.legend(loc='best')"
   ]
  },
  {
   "cell_type": "code",
   "execution_count": 16,
   "metadata": {},
   "outputs": [
    {
     "data": {
      "text/plain": [
       "[stdout:0] (127,)\n"
      ]
     },
     "metadata": {},
     "output_type": "display_data"
    },
    {
     "data": {
      "text/plain": [
       "[stdout:1] (127,)\n"
      ]
     },
     "metadata": {},
     "output_type": "display_data"
    },
    {
     "data": {
      "text/plain": [
       "[stdout:3] (127,)\n"
      ]
     },
     "metadata": {},
     "output_type": "display_data"
    },
    {
     "data": {
      "text/plain": [
       "[stdout:2] (127,)\n"
      ]
     },
     "metadata": {},
     "output_type": "display_data"
    },
    {
     "data": {
      "text/plain": [
       "[stdout:4] (127,)\n"
      ]
     },
     "metadata": {},
     "output_type": "display_data"
    },
    {
     "data": {
      "text/plain": [
       "[stdout:5] (127,)\n"
      ]
     },
     "metadata": {},
     "output_type": "display_data"
    },
    {
     "data": {
      "text/plain": [
       "[stdout:6] (127,)\n"
      ]
     },
     "metadata": {},
     "output_type": "display_data"
    },
    {
     "data": {
      "text/plain": [
       "[stdout:7] (127,)\n"
      ]
     },
     "metadata": {},
     "output_type": "display_data"
    }
   ],
   "source": [
    "%%px\n",
    "print(c.shape)"
   ]
  },
  {
   "cell_type": "markdown",
   "metadata": {},
   "source": [
    "#### Gather all data on rank 0 and plot"
   ]
  },
  {
   "cell_type": "code",
   "execution_count": 20,
   "metadata": {},
   "outputs": [
    {
     "data": {
      "text/plain": [
       "[output:0]"
      ]
     },
     "metadata": {},
     "output_type": "display_data"
    },
    {
     "data": {
      "image/png": "[encoded data removed]",
      "text/plain": [
       "<Figure size 432x288 with 1 Axes>"
      ]
     },
     "metadata": {
      "engine": 0,
      "needs_background": "light"
     },
     "output_type": "display_data"
    }
   ],
   "source": [
    "%%px\n",
    "x_full_range = np.arange(nx)*dx\n",
    "c_full_range = np.zeros(nx)\n",
    "comm.Gather(c[1:-1], c_full_range, root=0)\n",
    "if rank == 0:\n",
    "    plt.plot(x_full_range, c_full_range, '-')"
   ]
  },
  {
   "cell_type": "markdown",
   "metadata": {},
   "source": [
    "#### Gather during progation so we can plot the evolution of the concentration profile"
   ]
  },
  {
   "cell_type": "code",
   "execution_count": null,
   "metadata": {},
   "outputs": [],
   "source": [
    "%%px\n",
    "if rank == 0:\n",
    "    x_full_range = np.arange(nx)*dx\n",
    "    c_full_range = np.zeros(nx)\n",
    "for t in range(nt):\n",
    "    # Send to right, receive from left\n",
    "    comm.Sendrecv(c[-2:-1], (rank+1)%size, recvbuf=c[:1], source=(rank-1)%size)\n",
    "    # Send to left, receive from right\n",
    "    comm.Sendrecv(c[1:2], (rank-1)%size, recvbuf=c[-1:], source=(rank+1)%size)\n",
    "    if t % (nt/5) == 0:\n",
    "        comm.Gather(c[1:-1], c_full_range, root=0)\n",
    "        if rank == 0:\n",
    "            plt.plot(x_full_range, c_full_range, '-', label='$t={}$'.format(t*dt))\n",
    "\n",
    "    d2c_dx2 = (np.roll(c, 1)-2*c+np.roll(c, -1))/(dx**2)\n",
    "    c += D*d2c_dx2*dt\n",
    "if rank == 0:\n",
    "    plt.legend(loc='best')"
   ]
  },
  {
   "cell_type": "code",
   "execution_count": null,
   "metadata": {},
   "outputs": [],
   "source": [
    "%%px\n",
    "if rank == 1: print(c_full_range)"
   ]
  },
  {
   "cell_type": "code",
   "execution_count": 11,
   "metadata": {},
   "outputs": [
    {
     "data": {
      "text/plain": [
       "[stdout:0] Process 0 knows about dx = 0.1\n"
      ]
     },
     "metadata": {},
     "output_type": "display_data"
    },
    {
     "data": {
      "text/plain": [
       "[stdout:1] Process 1 knows about dx = 0.1\n"
      ]
     },
     "metadata": {},
     "output_type": "display_data"
    },
    {
     "data": {
      "text/plain": [
       "[stdout:2] Process 2 knows about dx = 0.1\n"
      ]
     },
     "metadata": {},
     "output_type": "display_data"
    },
    {
     "data": {
      "text/plain": [
       "[stdout:3] Process 3 knows about dx = 0.1\n"
      ]
     },
     "metadata": {},
     "output_type": "display_data"
    },
    {
     "data": {
      "text/plain": [
       "[stdout:4] Process 4 knows about dx = 0.1\n"
      ]
     },
     "metadata": {},
     "output_type": "display_data"
    },
    {
     "data": {
      "text/plain": [
       "[stdout:5] Process 5 knows about dx = 0.1\n"
      ]
     },
     "metadata": {},
     "output_type": "display_data"
    },
    {
     "data": {
      "text/plain": [
       "[stdout:6] Process 6 knows about dx = 0.1\n"
      ]
     },
     "metadata": {},
     "output_type": "display_data"
    },
    {
     "data": {
      "text/plain": [
       "[stdout:7] Process 7 knows about dx = 0.1\n"
      ]
     },
     "metadata": {},
     "output_type": "display_data"
    }
   ],
   "source": [
    "%%px\n",
    "print('Process {} knows about dx = {}'.format(rank,dx))"
   ]
  },
  {
   "cell_type": "code",
   "execution_count": 18,
   "metadata": {},
   "outputs": [
    {
     "data": {
      "text/plain": [
       "\u001b[0;31mOut[2:16]: \u001b[0m\n",
       "array([0., 0., 0., 0., 0., 0., 0., 0., 0., 0., 0., 0., 0., 0., 0., 0., 0.,\n",
       "       0., 0., 0., 0., 0., 0., 0., 0., 0., 0., 0., 0., 0., 0., 0., 0., 0.,\n",
       "       0., 0., 0., 0., 0., 0., 0., 0., 0., 0., 0., 0., 0., 0., 0., 0., 0.,\n",
       "       0., 0., 0., 0., 0., 0., 0., 0., 0., 0., 0., 0., 0., 0., 0., 0., 0.,\n",
       "       0., 0., 0., 0., 0., 0., 0., 0., 0., 0., 0., 0., 0., 0., 0., 0., 0.,\n",
       "       0., 0., 0., 0., 0., 0., 0., 0., 0., 0., 0., 0., 0., 0., 0., 0., 0.,\n",
       "       0., 0., 0., 0., 0., 0., 0., 0., 0., 0., 0., 0., 0., 0., 0., 0., 0.,\n",
       "       0., 0., 0., 0., 0., 0., 0., 0., 0., 0., 0., 0., 0., 0., 0., 0., 0.,\n",
       "       0., 0., 0., 0., 0., 0., 0., 0., 0., 0., 0., 0., 0., 0., 0., 0., 0.,\n",
       "       0., 0., 0., 0., 0., 0., 0., 0., 0., 0., 0., 0., 0., 0., 0., 0., 0.,\n",
       "       0., 0., 0., 0., 0., 0., 0., 0., 0., 0., 0., 0., 0., 0., 0., 0., 0.,\n",
       "       0., 0., 0., 0., 0., 0., 0., 0., 0., 0., 0., 0., 0., 0., 0., 0., 0.,\n",
       "       0., 0., 0., 0., 0., 0., 0., 0., 0., 0., 0., 0., 0., 0., 0., 0., 0.,\n",
       "       0., 0., 0., 0., 0., 0., 0., 0., 0., 0., 0., 0., 0., 0., 0., 0., 0.,\n",
       "       0., 0., 0., 0., 0., 0., 0., 0., 0., 0., 0., 0., 0., 0., 0., 0., 0.,\n",
       "       0., 0., 0., 0., 0., 0., 0., 0., 0., 0., 0., 0., 0., 0., 0., 0., 0.,\n",
       "       0., 0., 0., 0., 0., 0., 0., 0., 0., 0., 0., 0., 0., 0., 0., 0., 0.,\n",
       "       0., 0., 0., 0., 0., 0., 0., 0., 0., 0., 0., 0., 0., 0., 0., 0., 0.,\n",
       "       0., 0., 0., 0., 0., 0., 0., 0., 0., 0., 0., 0., 0., 0., 0., 0., 0.,\n",
       "       0., 0., 0., 0., 0., 0., 0., 0., 0., 0., 0., 0., 0., 0., 0., 0., 0.,\n",
       "       0., 0., 0., 0., 0., 0., 0., 0., 0., 0., 0., 0., 0., 0., 0., 0., 0.,\n",
       "       0., 0., 0., 0., 0., 0., 0., 0., 0., 0., 0., 0., 0., 0., 0., 0., 0.,\n",
       "       0., 0., 0., 0., 0., 0., 0., 0., 0., 0., 0., 0., 0., 0., 0., 0., 0.,\n",
       "       0., 0., 0., 0., 0., 0., 0., 0., 0., 0., 0., 0., 0., 0., 0., 0., 0.,\n",
       "       0., 0., 0., 0., 0., 0., 0., 0., 0., 0., 0., 0., 0., 0., 0., 0., 0.,\n",
       "       0., 0., 0., 0., 0., 0., 0., 0., 0., 0., 0., 0., 0., 0., 0., 0., 0.,\n",
       "       0., 0., 0., 0., 0., 0., 0., 0., 0., 0., 0., 0., 0., 0., 0., 0., 0.,\n",
       "       0., 0., 0., 0., 0., 0., 0., 0., 0., 0., 0., 0., 0., 0., 0., 0., 0.,\n",
       "       0., 0., 0., 0., 0., 0., 0., 0., 0., 0., 0., 0., 0., 0., 0., 0., 0.,\n",
       "       0., 0., 0., 0., 0., 0., 0., 0., 0., 0., 0., 0., 0., 0., 0., 0., 0.,\n",
       "       0., 0., 0., 0., 0., 0., 0., 0., 0., 0., 0., 0., 0., 0., 0., 0., 0.,\n",
       "       0., 0., 0., 0., 0., 0., 0., 0., 0., 0., 0., 0., 0., 0., 0., 0., 0.,\n",
       "       0., 0., 0., 0., 0., 0., 0., 0., 0., 0., 0., 0., 0., 0., 0., 0., 0.,\n",
       "       0., 0., 0., 0., 0., 0., 0., 0., 0., 0., 0., 0., 0., 0., 0., 0., 0.,\n",
       "       0., 0., 0., 0., 0., 0., 0., 0., 0., 0., 0., 0., 0., 0., 0., 0., 0.,\n",
       "       0., 0., 0., 0., 0., 0., 0., 0., 0., 0., 0., 0., 0., 0., 0., 0., 0.,\n",
       "       0., 0., 0., 0., 0., 0., 0., 0., 0., 0., 0., 0., 0., 0., 0., 0., 0.,\n",
       "       0., 0., 0., 0., 0., 0., 0., 0., 0., 0., 0., 0., 0., 0., 0., 0., 0.,\n",
       "       0., 0., 0., 0., 0., 0., 0., 0., 0., 0., 0., 0., 0., 0., 0., 0., 0.,\n",
       "       0., 0., 0., 0., 0., 0., 0., 0., 0., 0., 0., 0., 0., 0., 0., 0., 0.,\n",
       "       0., 0., 0., 0., 0., 0., 0., 0., 0., 0., 0., 0., 0., 0., 0., 0., 0.,\n",
       "       0., 0., 0., 0., 0., 0., 0., 0., 0., 0., 0., 0., 0., 0., 0., 0., 0.,\n",
       "       0., 0., 0., 0., 0., 0., 0., 0., 0., 0., 0., 0., 0., 0., 0., 0., 0.,\n",
       "       0., 0., 0., 0., 0., 0., 0., 0., 0., 0., 0., 0., 0., 0., 0., 0., 0.,\n",
       "       0., 0., 0., 0., 0., 0., 0., 0., 0., 0., 0., 0., 0., 0., 0., 0., 0.,\n",
       "       0., 0., 0., 0., 0., 0., 0., 0., 0., 0., 0., 0., 0., 0., 0., 0., 0.,\n",
       "       0., 0., 0., 0., 0., 0., 0., 0., 0., 0., 0., 0., 0., 0., 0., 0., 0.,\n",
       "       0., 0., 0., 0., 0., 0., 0., 0., 0., 0., 0., 0., 0., 0., 0., 0., 0.,\n",
       "       0., 0., 0., 0., 0., 0., 0., 0., 0., 0., 0., 0., 0., 0., 0., 0., 0.,\n",
       "       0., 0., 0., 0., 0., 0., 0., 0., 0., 0., 0., 0., 0., 0., 0., 0., 0.,\n",
       "       0., 0., 0., 0., 0., 0., 0., 0., 0., 0., 0., 0., 0., 0., 0., 0., 0.,\n",
       "       0., 0., 0., 0., 0., 0., 0., 0., 0., 0., 0., 0., 0., 0., 0., 0., 0.,\n",
       "       0., 0., 0., 0., 0., 0., 0., 0., 0., 0., 0., 0., 0., 0., 0., 0., 0.,\n",
       "       0., 0., 0., 0., 0., 0., 0., 0., 0., 0., 0., 0., 0., 0., 0., 0., 0.,\n",
       "       0., 0., 0., 0., 0., 0., 0., 0., 0., 0., 0., 0., 0., 0., 0., 0., 0.,\n",
       "       0., 0., 0., 0., 0., 0., 0., 0., 0., 0., 0., 0., 0., 0., 0., 0., 0.,\n",
       "       0., 0., 0., 0., 0., 0., 0., 0., 0., 0., 0., 0., 0., 0., 0., 0., 0.,\n",
       "       0., 0., 0., 0., 0., 0., 0., 0., 0., 0., 0., 0., 0., 0., 0., 0., 0.,\n",
       "       0., 0., 0., 0., 0., 0., 0., 0., 0., 0., 0., 0., 0., 0.])"
      ]
     },
     "metadata": {
      "after": null,
      "completed": null,
      "data": {},
      "engine_id": 2,
      "engine_uuid": "83e25974-c2efa43a0889a6ba58ebe5a0",
      "error": null,
      "execute_input": "c_full_range\n",
      "execute_result": {
       "data": {
        "text/plain": "array([0., 0., 0., 0., 0., 0., 0., 0., 0., 0., 0., 0., 0., 0., 0., 0., 0.,\n       0., 0., 0., 0., 0., 0., 0., 0., 0., 0., 0., 0., 0., 0., 0., 0., 0.,\n       0., 0., 0., 0., 0., 0., 0., 0., 0., 0., 0., 0., 0., 0., 0., 0., 0.,\n       0., 0., 0., 0., 0., 0., 0., 0., 0., 0., 0., 0., 0., 0., 0., 0., 0.,\n       0., 0., 0., 0., 0., 0., 0., 0., 0., 0., 0., 0., 0., 0., 0., 0., 0.,\n       0., 0., 0., 0., 0., 0., 0., 0., 0., 0., 0., 0., 0., 0., 0., 0., 0.,\n       0., 0., 0., 0., 0., 0., 0., 0., 0., 0., 0., 0., 0., 0., 0., 0., 0.,\n       0., 0., 0., 0., 0., 0., 0., 0., 0., 0., 0., 0., 0., 0., 0., 0., 0.,\n       0., 0., 0., 0., 0., 0., 0., 0., 0., 0., 0., 0., 0., 0., 0., 0., 0.,\n       0., 0., 0., 0., 0., 0., 0., 0., 0., 0., 0., 0., 0., 0., 0., 0., 0.,\n       0., 0., 0., 0., 0., 0., 0., 0., 0., 0., 0., 0., 0., 0., 0., 0., 0.,\n       0., 0., 0., 0., 0., 0., 0., 0., 0., 0., 0., 0., 0., 0., 0., 0., 0.,\n       0., 0., 0., 0., 0., 0., 0., 0., 0., 0., 0., 0., 0., 0., 0., 0., 0.,\n       0., 0., 0., 0., 0., 0., 0., 0., 0., 0., 0., 0., 0., 0., 0., 0., 0.,\n       0., 0., 0., 0., 0., 0., 0., 0., 0., 0., 0., 0., 0., 0., 0., 0., 0.,\n       0., 0., 0., 0., 0., 0., 0., 0., 0., 0., 0., 0., 0., 0., 0., 0., 0.,\n       0., 0., 0., 0., 0., 0., 0., 0., 0., 0., 0., 0., 0., 0., 0., 0., 0.,\n       0., 0., 0., 0., 0., 0., 0., 0., 0., 0., 0., 0., 0., 0., 0., 0., 0.,\n       0., 0., 0., 0., 0., 0., 0., 0., 0., 0., 0., 0., 0., 0., 0., 0., 0.,\n       0., 0., 0., 0., 0., 0., 0., 0., 0., 0., 0., 0., 0., 0., 0., 0., 0.,\n       0., 0., 0., 0., 0., 0., 0., 0., 0., 0., 0., 0., 0., 0., 0., 0., 0.,\n       0., 0., 0., 0., 0., 0., 0., 0., 0., 0., 0., 0., 0., 0., 0., 0., 0.,\n       0., 0., 0., 0., 0., 0., 0., 0., 0., 0., 0., 0., 0., 0., 0., 0., 0.,\n       0., 0., 0., 0., 0., 0., 0., 0., 0., 0., 0., 0., 0., 0., 0., 0., 0.,\n       0., 0., 0., 0., 0., 0., 0., 0., 0., 0., 0., 0., 0., 0., 0., 0., 0.,\n       0., 0., 0., 0., 0., 0., 0., 0., 0., 0., 0., 0., 0., 0., 0., 0., 0.,\n       0., 0., 0., 0., 0., 0., 0., 0., 0., 0., 0., 0., 0., 0., 0., 0., 0.,\n       0., 0., 0., 0., 0., 0., 0., 0., 0., 0., 0., 0., 0., 0., 0., 0., 0.,\n       0., 0., 0., 0., 0., 0., 0., 0., 0., 0., 0., 0., 0., 0., 0., 0., 0.,\n       0., 0., 0., 0., 0., 0., 0., 0., 0., 0., 0., 0., 0., 0., 0., 0., 0.,\n       0., 0., 0., 0., 0., 0., 0., 0., 0., 0., 0., 0., 0., 0., 0., 0., 0.,\n       0., 0., 0., 0., 0., 0., 0., 0., 0., 0., 0., 0., 0., 0., 0., 0., 0.,\n       0., 0., 0., 0., 0., 0., 0., 0., 0., 0., 0., 0., 0., 0., 0., 0., 0.,\n       0., 0., 0., 0., 0., 0., 0., 0., 0., 0., 0., 0., 0., 0., 0., 0., 0.,\n       0., 0., 0., 0., 0., 0., 0., 0., 0., 0., 0., 0., 0., 0., 0., 0., 0.,\n       0., 0., 0., 0., 0., 0., 0., 0., 0., 0., 0., 0., 0., 0., 0., 0., 0.,\n       0., 0., 0., 0., 0., 0., 0., 0., 0., 0., 0., 0., 0., 0., 0., 0., 0.,\n       0., 0., 0., 0., 0., 0., 0., 0., 0., 0., 0., 0., 0., 0., 0., 0., 0.,\n       0., 0., 0., 0., 0., 0., 0., 0., 0., 0., 0., 0., 0., 0., 0., 0., 0.,\n       0., 0., 0., 0., 0., 0., 0., 0., 0., 0., 0., 0., 0., 0., 0., 0., 0.,\n       0., 0., 0., 0., 0., 0., 0., 0., 0., 0., 0., 0., 0., 0., 0., 0., 0.,\n       0., 0., 0., 0., 0., 0., 0., 0., 0., 0., 0., 0., 0., 0., 0., 0., 0.,\n       0., 0., 0., 0., 0., 0., 0., 0., 0., 0., 0., 0., 0., 0., 0., 0., 0.,\n       0., 0., 0., 0., 0., 0., 0., 0., 0., 0., 0., 0., 0., 0., 0., 0., 0.,\n       0., 0., 0., 0., 0., 0., 0., 0., 0., 0., 0., 0., 0., 0., 0., 0., 0.,\n       0., 0., 0., 0., 0., 0., 0., 0., 0., 0., 0., 0., 0., 0., 0., 0., 0.,\n       0., 0., 0., 0., 0., 0., 0., 0., 0., 0., 0., 0., 0., 0., 0., 0., 0.,\n       0., 0., 0., 0., 0., 0., 0., 0., 0., 0., 0., 0., 0., 0., 0., 0., 0.,\n       0., 0., 0., 0., 0., 0., 0., 0., 0., 0., 0., 0., 0., 0., 0., 0., 0.,\n       0., 0., 0., 0., 0., 0., 0., 0., 0., 0., 0., 0., 0., 0., 0., 0., 0.,\n       0., 0., 0., 0., 0., 0., 0., 0., 0., 0., 0., 0., 0., 0., 0., 0., 0.,\n       0., 0., 0., 0., 0., 0., 0., 0., 0., 0., 0., 0., 0., 0., 0., 0., 0.,\n       0., 0., 0., 0., 0., 0., 0., 0., 0., 0., 0., 0., 0., 0., 0., 0., 0.,\n       0., 0., 0., 0., 0., 0., 0., 0., 0., 0., 0., 0., 0., 0., 0., 0., 0.,\n       0., 0., 0., 0., 0., 0., 0., 0., 0., 0., 0., 0., 0., 0., 0., 0., 0.,\n       0., 0., 0., 0., 0., 0., 0., 0., 0., 0., 0., 0., 0., 0., 0., 0., 0.,\n       0., 0., 0., 0., 0., 0., 0., 0., 0., 0., 0., 0., 0., 0., 0., 0., 0.,\n       0., 0., 0., 0., 0., 0., 0., 0., 0., 0., 0., 0., 0., 0., 0., 0., 0.,\n       0., 0., 0., 0., 0., 0., 0., 0., 0., 0., 0., 0., 0., 0.])"
       },
       "execution_count": 16,
       "metadata": {}
      },
      "follow": null,
      "msg_id": null,
      "outputs": [],
      "received": null,
      "started": null,
      "status": null,
      "stderr": "",
      "stdout": "",
      "submitted": "2022-06-14T13:32:16.173058Z"
     },
     "output_type": "display_data"
    },
    {
     "data": {
      "text/plain": [
       "\u001b[0;31mOut[1:16]: \u001b[0m\n",
       "array([0., 0., 0., 0., 0., 0., 0., 0., 0., 0., 0., 0., 0., 0., 0., 0., 0.,\n",
       "       0., 0., 0., 0., 0., 0., 0., 0., 0., 0., 0., 0., 0., 0., 0., 0., 0.,\n",
       "       0., 0., 0., 0., 0., 0., 0., 0., 0., 0., 0., 0., 0., 0., 0., 0., 0.,\n",
       "       0., 0., 0., 0., 0., 0., 0., 0., 0., 0., 0., 0., 0., 0., 0., 0., 0.,\n",
       "       0., 0., 0., 0., 0., 0., 0., 0., 0., 0., 0., 0., 0., 0., 0., 0., 0.,\n",
       "       0., 0., 0., 0., 0., 0., 0., 0., 0., 0., 0., 0., 0., 0., 0., 0., 0.,\n",
       "       0., 0., 0., 0., 0., 0., 0., 0., 0., 0., 0., 0., 0., 0., 0., 0., 0.,\n",
       "       0., 0., 0., 0., 0., 0., 0., 0., 0., 0., 0., 0., 0., 0., 0., 0., 0.,\n",
       "       0., 0., 0., 0., 0., 0., 0., 0., 0., 0., 0., 0., 0., 0., 0., 0., 0.,\n",
       "       0., 0., 0., 0., 0., 0., 0., 0., 0., 0., 0., 0., 0., 0., 0., 0., 0.,\n",
       "       0., 0., 0., 0., 0., 0., 0., 0., 0., 0., 0., 0., 0., 0., 0., 0., 0.,\n",
       "       0., 0., 0., 0., 0., 0., 0., 0., 0., 0., 0., 0., 0., 0., 0., 0., 0.,\n",
       "       0., 0., 0., 0., 0., 0., 0., 0., 0., 0., 0., 0., 0., 0., 0., 0., 0.,\n",
       "       0., 0., 0., 0., 0., 0., 0., 0., 0., 0., 0., 0., 0., 0., 0., 0., 0.,\n",
       "       0., 0., 0., 0., 0., 0., 0., 0., 0., 0., 0., 0., 0., 0., 0., 0., 0.,\n",
       "       0., 0., 0., 0., 0., 0., 0., 0., 0., 0., 0., 0., 0., 0., 0., 0., 0.,\n",
       "       0., 0., 0., 0., 0., 0., 0., 0., 0., 0., 0., 0., 0., 0., 0., 0., 0.,\n",
       "       0., 0., 0., 0., 0., 0., 0., 0., 0., 0., 0., 0., 0., 0., 0., 0., 0.,\n",
       "       0., 0., 0., 0., 0., 0., 0., 0., 0., 0., 0., 0., 0., 0., 0., 0., 0.,\n",
       "       0., 0., 0., 0., 0., 0., 0., 0., 0., 0., 0., 0., 0., 0., 0., 0., 0.,\n",
       "       0., 0., 0., 0., 0., 0., 0., 0., 0., 0., 0., 0., 0., 0., 0., 0., 0.,\n",
       "       0., 0., 0., 0., 0., 0., 0., 0., 0., 0., 0., 0., 0., 0., 0., 0., 0.,\n",
       "       0., 0., 0., 0., 0., 0., 0., 0., 0., 0., 0., 0., 0., 0., 0., 0., 0.,\n",
       "       0., 0., 0., 0., 0., 0., 0., 0., 0., 0., 0., 0., 0., 0., 0., 0., 0.,\n",
       "       0., 0., 0., 0., 0., 0., 0., 0., 0., 0., 0., 0., 0., 0., 0., 0., 0.,\n",
       "       0., 0., 0., 0., 0., 0., 0., 0., 0., 0., 0., 0., 0., 0., 0., 0., 0.,\n",
       "       0., 0., 0., 0., 0., 0., 0., 0., 0., 0., 0., 0., 0., 0., 0., 0., 0.,\n",
       "       0., 0., 0., 0., 0., 0., 0., 0., 0., 0., 0., 0., 0., 0., 0., 0., 0.,\n",
       "       0., 0., 0., 0., 0., 0., 0., 0., 0., 0., 0., 0., 0., 0., 0., 0., 0.,\n",
       "       0., 0., 0., 0., 0., 0., 0., 0., 0., 0., 0., 0., 0., 0., 0., 0., 0.,\n",
       "       0., 0., 0., 0., 0., 0., 0., 0., 0., 0., 0., 0., 0., 0., 0., 0., 0.,\n",
       "       0., 0., 0., 0., 0., 0., 0., 0., 0., 0., 0., 0., 0., 0., 0., 0., 0.,\n",
       "       0., 0., 0., 0., 0., 0., 0., 0., 0., 0., 0., 0., 0., 0., 0., 0., 0.,\n",
       "       0., 0., 0., 0., 0., 0., 0., 0., 0., 0., 0., 0., 0., 0., 0., 0., 0.,\n",
       "       0., 0., 0., 0., 0., 0., 0., 0., 0., 0., 0., 0., 0., 0., 0., 0., 0.,\n",
       "       0., 0., 0., 0., 0., 0., 0., 0., 0., 0., 0., 0., 0., 0., 0., 0., 0.,\n",
       "       0., 0., 0., 0., 0., 0., 0., 0., 0., 0., 0., 0., 0., 0., 0., 0., 0.,\n",
       "       0., 0., 0., 0., 0., 0., 0., 0., 0., 0., 0., 0., 0., 0., 0., 0., 0.,\n",
       "       0., 0., 0., 0., 0., 0., 0., 0., 0., 0., 0., 0., 0., 0., 0., 0., 0.,\n",
       "       0., 0., 0., 0., 0., 0., 0., 0., 0., 0., 0., 0., 0., 0., 0., 0., 0.,\n",
       "       0., 0., 0., 0., 0., 0., 0., 0., 0., 0., 0., 0., 0., 0., 0., 0., 0.,\n",
       "       0., 0., 0., 0., 0., 0., 0., 0., 0., 0., 0., 0., 0., 0., 0., 0., 0.,\n",
       "       0., 0., 0., 0., 0., 0., 0., 0., 0., 0., 0., 0., 0., 0., 0., 0., 0.,\n",
       "       0., 0., 0., 0., 0., 0., 0., 0., 0., 0., 0., 0., 0., 0., 0., 0., 0.,\n",
       "       0., 0., 0., 0., 0., 0., 0., 0., 0., 0., 0., 0., 0., 0., 0., 0., 0.,\n",
       "       0., 0., 0., 0., 0., 0., 0., 0., 0., 0., 0., 0., 0., 0., 0., 0., 0.,\n",
       "       0., 0., 0., 0., 0., 0., 0., 0., 0., 0., 0., 0., 0., 0., 0., 0., 0.,\n",
       "       0., 0., 0., 0., 0., 0., 0., 0., 0., 0., 0., 0., 0., 0., 0., 0., 0.,\n",
       "       0., 0., 0., 0., 0., 0., 0., 0., 0., 0., 0., 0., 0., 0., 0., 0., 0.,\n",
       "       0., 0., 0., 0., 0., 0., 0., 0., 0., 0., 0., 0., 0., 0., 0., 0., 0.,\n",
       "       0., 0., 0., 0., 0., 0., 0., 0., 0., 0., 0., 0., 0., 0., 0., 0., 0.,\n",
       "       0., 0., 0., 0., 0., 0., 0., 0., 0., 0., 0., 0., 0., 0., 0., 0., 0.,\n",
       "       0., 0., 0., 0., 0., 0., 0., 0., 0., 0., 0., 0., 0., 0., 0., 0., 0.,\n",
       "       0., 0., 0., 0., 0., 0., 0., 0., 0., 0., 0., 0., 0., 0., 0., 0., 0.,\n",
       "       0., 0., 0., 0., 0., 0., 0., 0., 0., 0., 0., 0., 0., 0., 0., 0., 0.,\n",
       "       0., 0., 0., 0., 0., 0., 0., 0., 0., 0., 0., 0., 0., 0., 0., 0., 0.,\n",
       "       0., 0., 0., 0., 0., 0., 0., 0., 0., 0., 0., 0., 0., 0., 0., 0., 0.,\n",
       "       0., 0., 0., 0., 0., 0., 0., 0., 0., 0., 0., 0., 0., 0., 0., 0., 0.,\n",
       "       0., 0., 0., 0., 0., 0., 0., 0., 0., 0., 0., 0., 0., 0.])"
      ]
     },
     "metadata": {
      "after": null,
      "completed": null,
      "data": {},
      "engine_id": 1,
      "engine_uuid": "c3fc1bc9-f92137e48936134917d657de",
      "error": null,
      "execute_input": "c_full_range\n",
      "execute_result": {
       "data": {
        "text/plain": "array([0., 0., 0., 0., 0., 0., 0., 0., 0., 0., 0., 0., 0., 0., 0., 0., 0.,\n       0., 0., 0., 0., 0., 0., 0., 0., 0., 0., 0., 0., 0., 0., 0., 0., 0.,\n       0., 0., 0., 0., 0., 0., 0., 0., 0., 0., 0., 0., 0., 0., 0., 0., 0.,\n       0., 0., 0., 0., 0., 0., 0., 0., 0., 0., 0., 0., 0., 0., 0., 0., 0.,\n       0., 0., 0., 0., 0., 0., 0., 0., 0., 0., 0., 0., 0., 0., 0., 0., 0.,\n       0., 0., 0., 0., 0., 0., 0., 0., 0., 0., 0., 0., 0., 0., 0., 0., 0.,\n       0., 0., 0., 0., 0., 0., 0., 0., 0., 0., 0., 0., 0., 0., 0., 0., 0.,\n       0., 0., 0., 0., 0., 0., 0., 0., 0., 0., 0., 0., 0., 0., 0., 0., 0.,\n       0., 0., 0., 0., 0., 0., 0., 0., 0., 0., 0., 0., 0., 0., 0., 0., 0.,\n       0., 0., 0., 0., 0., 0., 0., 0., 0., 0., 0., 0., 0., 0., 0., 0., 0.,\n       0., 0., 0., 0., 0., 0., 0., 0., 0., 0., 0., 0., 0., 0., 0., 0., 0.,\n       0., 0., 0., 0., 0., 0., 0., 0., 0., 0., 0., 0., 0., 0., 0., 0., 0.,\n       0., 0., 0., 0., 0., 0., 0., 0., 0., 0., 0., 0., 0., 0., 0., 0., 0.,\n       0., 0., 0., 0., 0., 0., 0., 0., 0., 0., 0., 0., 0., 0., 0., 0., 0.,\n       0., 0., 0., 0., 0., 0., 0., 0., 0., 0., 0., 0., 0., 0., 0., 0., 0.,\n       0., 0., 0., 0., 0., 0., 0., 0., 0., 0., 0., 0., 0., 0., 0., 0., 0.,\n       0., 0., 0., 0., 0., 0., 0., 0., 0., 0., 0., 0., 0., 0., 0., 0., 0.,\n       0., 0., 0., 0., 0., 0., 0., 0., 0., 0., 0., 0., 0., 0., 0., 0., 0.,\n       0., 0., 0., 0., 0., 0., 0., 0., 0., 0., 0., 0., 0., 0., 0., 0., 0.,\n       0., 0., 0., 0., 0., 0., 0., 0., 0., 0., 0., 0., 0., 0., 0., 0., 0.,\n       0., 0., 0., 0., 0., 0., 0., 0., 0., 0., 0., 0., 0., 0., 0., 0., 0.,\n       0., 0., 0., 0., 0., 0., 0., 0., 0., 0., 0., 0., 0., 0., 0., 0., 0.,\n       0., 0., 0., 0., 0., 0., 0., 0., 0., 0., 0., 0., 0., 0., 0., 0., 0.,\n       0., 0., 0., 0., 0., 0., 0., 0., 0., 0., 0., 0., 0., 0., 0., 0., 0.,\n       0., 0., 0., 0., 0., 0., 0., 0., 0., 0., 0., 0., 0., 0., 0., 0., 0.,\n       0., 0., 0., 0., 0., 0., 0., 0., 0., 0., 0., 0., 0., 0., 0., 0., 0.,\n       0., 0., 0., 0., 0., 0., 0., 0., 0., 0., 0., 0., 0., 0., 0., 0., 0.,\n       0., 0., 0., 0., 0., 0., 0., 0., 0., 0., 0., 0., 0., 0., 0., 0., 0.,\n       0., 0., 0., 0., 0., 0., 0., 0., 0., 0., 0., 0., 0., 0., 0., 0., 0.,\n       0., 0., 0., 0., 0., 0., 0., 0., 0., 0., 0., 0., 0., 0., 0., 0., 0.,\n       0., 0., 0., 0., 0., 0., 0., 0., 0., 0., 0., 0., 0., 0., 0., 0., 0.,\n       0., 0., 0., 0., 0., 0., 0., 0., 0., 0., 0., 0., 0., 0., 0., 0., 0.,\n       0., 0., 0., 0., 0., 0., 0., 0., 0., 0., 0., 0., 0., 0., 0., 0., 0.,\n       0., 0., 0., 0., 0., 0., 0., 0., 0., 0., 0., 0., 0., 0., 0., 0., 0.,\n       0., 0., 0., 0., 0., 0., 0., 0., 0., 0., 0., 0., 0., 0., 0., 0., 0.,\n       0., 0., 0., 0., 0., 0., 0., 0., 0., 0., 0., 0., 0., 0., 0., 0., 0.,\n       0., 0., 0., 0., 0., 0., 0., 0., 0., 0., 0., 0., 0., 0., 0., 0., 0.,\n       0., 0., 0., 0., 0., 0., 0., 0., 0., 0., 0., 0., 0., 0., 0., 0., 0.,\n       0., 0., 0., 0., 0., 0., 0., 0., 0., 0., 0., 0., 0., 0., 0., 0., 0.,\n       0., 0., 0., 0., 0., 0., 0., 0., 0., 0., 0., 0., 0., 0., 0., 0., 0.,\n       0., 0., 0., 0., 0., 0., 0., 0., 0., 0., 0., 0., 0., 0., 0., 0., 0.,\n       0., 0., 0., 0., 0., 0., 0., 0., 0., 0., 0., 0., 0., 0., 0., 0., 0.,\n       0., 0., 0., 0., 0., 0., 0., 0., 0., 0., 0., 0., 0., 0., 0., 0., 0.,\n       0., 0., 0., 0., 0., 0., 0., 0., 0., 0., 0., 0., 0., 0., 0., 0., 0.,\n       0., 0., 0., 0., 0., 0., 0., 0., 0., 0., 0., 0., 0., 0., 0., 0., 0.,\n       0., 0., 0., 0., 0., 0., 0., 0., 0., 0., 0., 0., 0., 0., 0., 0., 0.,\n       0., 0., 0., 0., 0., 0., 0., 0., 0., 0., 0., 0., 0., 0., 0., 0., 0.,\n       0., 0., 0., 0., 0., 0., 0., 0., 0., 0., 0., 0., 0., 0., 0., 0., 0.,\n       0., 0., 0., 0., 0., 0., 0., 0., 0., 0., 0., 0., 0., 0., 0., 0., 0.,\n       0., 0., 0., 0., 0., 0., 0., 0., 0., 0., 0., 0., 0., 0., 0., 0., 0.,\n       0., 0., 0., 0., 0., 0., 0., 0., 0., 0., 0., 0., 0., 0., 0., 0., 0.,\n       0., 0., 0., 0., 0., 0., 0., 0., 0., 0., 0., 0., 0., 0., 0., 0., 0.,\n       0., 0., 0., 0., 0., 0., 0., 0., 0., 0., 0., 0., 0., 0., 0., 0., 0.,\n       0., 0., 0., 0., 0., 0., 0., 0., 0., 0., 0., 0., 0., 0., 0., 0., 0.,\n       0., 0., 0., 0., 0., 0., 0., 0., 0., 0., 0., 0., 0., 0., 0., 0., 0.,\n       0., 0., 0., 0., 0., 0., 0., 0., 0., 0., 0., 0., 0., 0., 0., 0., 0.,\n       0., 0., 0., 0., 0., 0., 0., 0., 0., 0., 0., 0., 0., 0., 0., 0., 0.,\n       0., 0., 0., 0., 0., 0., 0., 0., 0., 0., 0., 0., 0., 0., 0., 0., 0.,\n       0., 0., 0., 0., 0., 0., 0., 0., 0., 0., 0., 0., 0., 0.])"
       },
       "execution_count": 16,
       "metadata": {}
      },
      "follow": null,
      "msg_id": null,
      "outputs": [],
      "received": null,
      "started": null,
      "status": null,
      "stderr": "",
      "stdout": "",
      "submitted": "2022-06-14T13:32:16.172941Z"
     },
     "output_type": "display_data"
    },
    {
     "data": {
      "text/plain": [
       "\u001b[0;31mOut[0:16]: \u001b[0m\n",
       "array([4.14813651e-24, 4.23718670e-24, 4.50801098e-24, 4.97177576e-24,\n",
       "       5.64758141e-24, 6.56321621e-24, 7.75625136e-24, 9.27551839e-24,\n",
       "       1.11830244e-23, 1.35563770e-23, 1.64918092e-23, 2.01079175e-23,\n",
       "       2.45502517e-23, 2.99969247e-23, 3.66654517e-23, 4.48210662e-23,\n",
       "       5.47868186e-23, 6.69558236e-23, 8.18060985e-23, 9.99185286e-23,\n",
       "       1.21998602e-22, 1.48902691e-22, 1.81669808e-22, 2.21559971e-22,\n",
       "       2.70100510e-22, 3.29141956e-22, 4.00925440e-22, 4.88163960e-22,\n",
       "       5.94140301e-22, 7.22824993e-22, 8.79018319e-22, 1.06852123e-21,\n",
       "       1.29834090e-21, 1.57693797e-21, 1.91452359e-21, 2.32341635e-21,\n",
       "       2.81847081e-21, 3.41759194e-21, 4.14235223e-21, 5.01873177e-21,\n",
       "       6.07800537e-21, 7.35780546e-21, 8.90339504e-21, 1.07691915e-20,\n",
       "       1.30205901e-20, 1.57361447e-20, 1.90101749e-20, 2.29558818e-20,\n",
       "       2.77090692e-20, 3.34325867e-20, 4.03216322e-20, 4.86100765e-20,\n",
       "       5.85780049e-20, 7.05607057e-20, 8.49593767e-20, 1.02253876e-19,\n",
       "       1.23017895e-19, 1.47937016e-19, 1.77830177e-19, 2.13675195e-19,\n",
       "       2.56639081e-19, 3.08114052e-19, 3.69760270e-19, 4.43556561e-19,\n",
       "       5.31860562e-19, 6.37480025e-19, 7.63757316e-19, 9.14669483e-19,\n",
       "       1.09494674e-18, 1.31021268e-18, 1.56715009e-18, 1.87369704e-18,\n",
       "       2.23927862e-18, 2.67508061e-18, 3.19437271e-18, 3.81288995e-18,\n",
       "       4.54928263e-18, 5.42564691e-18, 6.46815015e-18, 7.70776757e-18,\n",
       "       9.18114983e-18, 1.09316441e-17, 1.30104953e-17, 1.54782591e-17,\n",
       "       1.84064623e-17, 2.18795540e-17, 2.59971971e-17, 3.08769580e-17,\n",
       "       3.66574625e-17, 4.35020980e-17, 5.16033516e-17, 6.11878958e-17,\n",
       "       7.25225430e-17, 8.59212176e-17, 1.01753114e-16, 1.20452240e-16,\n",
       "       1.42528572e-16, 1.68581091e-16, 1.99313016e-16, 2.35549576e-16,\n",
       "       2.78258769e-16, 3.28575555e-16, 3.87830086e-16, 4.57580591e-16,\n",
       "       5.39651689e-16, 6.36179000e-16, 7.49661069e-16, 8.83019758e-16,\n",
       "       1.03967049e-15, 1.22360386e-15, 1.43948049e-15, 1.69274114e-15,\n",
       "       1.98973449e-15, 2.33786549e-15, 2.74576723e-15, 3.22350034e-15,\n",
       "       3.78278381e-15, 4.43726246e-15, 5.20281647e-15, 6.09791943e-15,\n",
       "       7.14405257e-15, 8.36618341e-15, 9.79331890e-15, 1.14591442e-14,\n",
       "       1.34027600e-14, 1.56695332e-14, 1.83120784e-14, 2.13913886e-14,\n",
       "       2.49781383e-14, 2.91541850e-14, 3.40142961e-14, 3.96681378e-14,\n",
       "       4.62425608e-14, 5.38842289e-14, 6.27626394e-14, 7.30735913e-14,\n",
       "       8.50431674e-14, 9.89323034e-14, 1.15042028e-13, 1.33719471e-13,\n",
       "       1.55364745e-13, 1.80438833e-13, 2.09472609e-13, 2.43077169e-13,\n",
       "       2.81955643e-13, 3.26916696e-13, 3.78889959e-13, 4.38943653e-13,\n",
       "       5.08304705e-13, 5.88381704e-13, 6.80791087e-13, 7.87386981e-13,\n",
       "       9.10295220e-13, 1.05195208e-12, 1.21514836e-12, 1.40307959e-12,\n",
       "       1.61940307e-12, 1.86830276e-12, 2.15456299e-12, 2.48365218e-12,\n",
       "       2.86181786e-12, 3.29619454e-12, 3.79492598e-12, 4.36730386e-12,\n",
       "       5.02392480e-12, 5.77686833e-12, 6.63989822e-12, 7.62869034e-12,\n",
       "       8.76109034e-12, 1.00574049e-11, 1.15407308e-11, 1.32373266e-11,\n",
       "       1.51770321e-11, 1.73937415e-11, 1.99259373e-11, 2.28172914e-11,\n",
       "       2.61173433e-11, 2.98822631e-11, 3.41757101e-11, 3.90697991e-11,\n",
       "       4.46461873e-11, 5.09972949e-11, 5.82276768e-11, 6.64555632e-11,\n",
       "       7.58145877e-11, 8.64557261e-11, 9.85494704e-11, 1.12288265e-10,\n",
       "       1.27889235e-10, 1.45597241e-10, 1.65688297e-10, 1.88473396e-10,\n",
       "       2.14302780e-10, 2.43570720e-10, 2.76720845e-10, 3.14252101e-10,\n",
       "       3.56725389e-10, 4.04770974e-10, 4.59096745e-10, 5.20497408e-10,\n",
       "       5.89864734e-10, 6.68198955e-10, 7.56621449e-10, 8.56388841e-10,\n",
       "       9.68908667e-10, 1.09575679e-09, 1.23869670e-09, 1.39970101e-09,\n",
       "       1.58097517e-09, 1.78498388e-09, 2.01448027e-09, 2.27253828e-09,\n",
       "       2.56258844e-09, 2.88845751e-09, 3.25441222e-09, 3.66520778e-09,\n",
       "       4.12614125e-09, 4.64311065e-09, 5.22268010e-09, 5.87215164e-09,\n",
       "       6.59964449e-09, 7.41418232e-09, 8.32578933e-09, 9.34559611e-09,\n",
       "       1.04859560e-08, 1.17605729e-08, 1.31846424e-08, 1.47750056e-08,\n",
       "       1.65503190e-08, 1.85312410e-08, 2.07406352e-08, 2.32037947e-08,\n",
       "       2.59486867e-08, 2.90062213e-08, 3.24105449e-08, 3.61993615e-08,\n",
       "       4.04142837e-08, 4.51012164e-08, 5.03107760e-08, 5.60987478e-08,\n",
       "       6.25265842e-08, 6.96619497e-08, 7.75793126e-08, 8.63605915e-08,\n",
       "       9.60958570e-08, 1.06884097e-07, 1.18834049e-07, 1.32065099e-07,\n",
       "       1.46708270e-07, 1.62907279e-07, 1.80819701e-07, 2.00618214e-07,\n",
       "       2.22491963e-07, 2.46648028e-07, 2.73313017e-07, 3.02734790e-07,\n",
       "       3.35184320e-07, 3.70957706e-07, 4.10378349e-07, 4.53799297e-07,\n",
       "       5.01605781e-07, 5.54217939e-07, 6.12093763e-07, 6.75732265e-07,\n",
       "       7.45676889e-07, 8.22519176e-07, 9.06902711e-07, 9.99527358e-07,\n",
       "       1.10115381e-06, 1.21260847e-06, 1.33478870e-06, 1.46866840e-06,\n",
       "       1.61530406e-06, 1.77584118e-06, 1.95152115e-06, 2.14368860e-06,\n",
       "       2.35379930e-06, 2.58342855e-06, 2.83428012e-06, 3.10819585e-06,\n",
       "       3.40716580e-06, 3.73333913e-06, 4.08903568e-06, 4.47675819e-06,\n",
       "       4.89920544e-06, 5.35928607e-06, 5.86013339e-06, 6.40512094e-06,\n",
       "       6.99787910e-06, 7.64231267e-06, 8.34261943e-06, 9.10330985e-06,\n",
       "       9.92922786e-06, 1.08255728e-05, 1.17979228e-05, 1.28522590e-05,\n",
       "       1.39949915e-05, 1.52329864e-05, 1.65735949e-05, 1.80246827e-05,\n",
       "       1.95946621e-05, 2.12925252e-05, 2.31278787e-05, 2.51109802e-05,\n",
       "       2.72527772e-05, 2.95649466e-05, 3.20599367e-05, 3.47510116e-05,\n",
       "       3.76522963e-05, 4.07788251e-05, 4.41465908e-05, 4.77725974e-05,\n",
       "       5.16749131e-05, 5.58727274e-05, 6.03864088e-05, 6.52375655e-05,\n",
       "       7.04491082e-05, 7.60453147e-05, 8.20518977e-05, 8.84960737e-05,\n",
       "       9.54066350e-05, 1.02814023e-04, 1.10750407e-04, 1.19249757e-04,\n",
       "       1.28347930e-04, 1.38082751e-04, 1.48494095e-04, 1.59623976e-04,\n",
       "       1.71516638e-04, 1.84218640e-04, 1.97778952e-04, 2.12249050e-04,\n",
       "       2.27683007e-04, 2.44137594e-04, 2.61672377e-04, 2.80349816e-04,\n",
       "       3.00235363e-04, 3.21397567e-04, 3.43908173e-04, 3.67842222e-04,\n",
       "       3.93278155e-04, 4.20297916e-04, 4.48987047e-04, 4.79434796e-04,\n",
       "       5.11734207e-04, 5.45982227e-04, 5.82279794e-04, 6.20731935e-04,\n",
       "       6.61447855e-04, 7.04541027e-04, 7.50129275e-04, 7.98334854e-04,\n",
       "       8.49284530e-04, 9.03109648e-04, 9.59946204e-04, 1.01993490e-03,\n",
       "       1.08322120e-03, 1.14995537e-03, 1.22029256e-03, 1.29439276e-03,\n",
       "       1.37242090e-03, 1.45454683e-03, 1.54094530e-03, 1.63179601e-03,\n",
       "       1.72728357e-03, 1.82759746e-03, 1.93293201e-03, 2.04348631e-03,\n",
       "       2.15946422e-03, 2.28107422e-03, 2.40852933e-03, 2.54204704e-03,\n",
       "       2.68184914e-03, 2.82816161e-03, 2.98121446e-03, 3.14124151e-03,\n",
       "       3.30848028e-03, 3.48317171e-03, 3.66555998e-03, 3.85589220e-03,\n",
       "       4.05441824e-03, 4.26139033e-03, 4.47706284e-03, 4.70169193e-03,\n",
       "       4.93553518e-03, 5.17885123e-03, 5.43189943e-03, 5.69493936e-03,\n",
       "       5.96823048e-03, 6.25203162e-03, 6.54660052e-03, 6.85219338e-03,\n",
       "       7.16906428e-03, 7.49746471e-03, 7.83764300e-03, 8.18984373e-03,\n",
       "       8.55430719e-03, 8.93126873e-03, 9.32095816e-03, 9.72359913e-03,\n",
       "       1.01394085e-02, 1.05685955e-02, 1.10113613e-02, 1.14678983e-02,\n",
       "       1.19383893e-02, 1.24230066e-02, 1.29219119e-02, 1.34352550e-02,\n",
       "       1.39631733e-02, 1.45057910e-02, 1.50632187e-02, 1.56355520e-02,\n",
       "       1.62228716e-02, 1.68252418e-02, 1.74427103e-02, 1.80753074e-02,\n",
       "       1.87230452e-02, 1.93859169e-02, 2.00638964e-02, 2.07569372e-02,\n",
       "       2.14649724e-02, 2.21879133e-02, 2.29256496e-02, 2.36780485e-02,\n",
       "       2.44449538e-02, 2.52261863e-02, 2.60215426e-02, 2.68307948e-02,\n",
       "       2.76536904e-02, 2.84899517e-02, 2.93392756e-02, 3.02013335e-02,\n",
       "       3.10757706e-02, 3.19622063e-02, 3.28602338e-02, 3.37694201e-02,\n",
       "       3.46893058e-02, 3.56194056e-02, 3.65592080e-02, 3.75081757e-02,\n",
       "       3.84657457e-02, 3.94313295e-02, 4.04043137e-02, 4.13840601e-02,\n",
       "       4.23699067e-02, 4.33611675e-02, 4.43571335e-02, 4.53570735e-02,\n",
       "       4.63602346e-02, 4.73658428e-02, 4.83731043e-02, 4.93812061e-02,\n",
       "       5.03893169e-02, 5.13965884e-02, 5.24021562e-02, 5.34051408e-02,\n",
       "       5.44046491e-02, 5.53997754e-02, 5.63896028e-02, 5.73732045e-02,\n",
       "       5.83496453e-02, 5.93179826e-02, 6.02772685e-02, 6.12265509e-02,\n",
       "       6.21648749e-02, 6.30912847e-02, 6.40048253e-02, 6.49045434e-02,\n",
       "       6.57894898e-02, 6.66587208e-02, 6.75112995e-02, 6.83462982e-02,\n",
       "       6.91627991e-02, 6.99598971e-02, 7.07367004e-02, 7.14923327e-02,\n",
       "       7.22259351e-02, 7.29366669e-02, 7.36237080e-02, 7.42862600e-02,\n",
       "       7.49235480e-02, 7.55348220e-02, 7.61193583e-02, 7.66764609e-02,\n",
       "       7.72054633e-02, 7.77057292e-02, 7.81766543e-02, 7.86176670e-02,\n",
       "       7.90282302e-02, 7.94078417e-02, 7.97560360e-02, 8.00723844e-02,\n",
       "       8.03564964e-02, 8.06080206e-02, 8.08266450e-02, 8.10120980e-02,\n",
       "       8.11641487e-02, 8.12826076e-02, 8.13673270e-02, 8.14182010e-02,\n",
       "       8.14351661e-02, 8.14182010e-02, 8.13673270e-02, 8.12826076e-02,\n",
       "       8.11641487e-02, 8.10120980e-02, 8.08266450e-02, 8.06080206e-02,\n",
       "       8.03564964e-02, 8.00723844e-02, 7.97560360e-02, 7.94078417e-02,\n",
       "       7.90282302e-02, 7.86176670e-02, 7.81766543e-02, 7.77057292e-02,\n",
       "       7.72054633e-02, 7.66764609e-02, 7.61193583e-02, 7.55348220e-02,\n",
       "       7.49235480e-02, 7.42862600e-02, 7.36237080e-02, 7.29366669e-02,\n",
       "       7.22259351e-02, 7.14923327e-02, 7.07367004e-02, 6.99598971e-02,\n",
       "       6.91627991e-02, 6.83462982e-02, 6.75112995e-02, 6.66587208e-02,\n",
       "       6.57894898e-02, 6.49045434e-02, 6.40048253e-02, 6.30912847e-02,\n",
       "       6.21648749e-02, 6.12265509e-02, 6.02772685e-02, 5.93179826e-02,\n",
       "       5.83496453e-02, 5.73732045e-02, 5.63896028e-02, 5.53997754e-02,\n",
       "       5.44046491e-02, 5.34051408e-02, 5.24021562e-02, 5.13965884e-02,\n",
       "       5.03893169e-02, 4.93812061e-02, 4.83731043e-02, 4.73658428e-02,\n",
       "       4.63602346e-02, 4.53570735e-02, 4.43571335e-02, 4.33611675e-02,\n",
       "       4.23699067e-02, 4.13840601e-02, 4.04043137e-02, 3.94313295e-02,\n",
       "       3.84657457e-02, 3.75081757e-02, 3.65592080e-02, 3.56194056e-02,\n",
       "       3.46893058e-02, 3.37694201e-02, 3.28602338e-02, 3.19622063e-02,\n",
       "       3.10757706e-02, 3.02013335e-02, 2.93392756e-02, 2.84899517e-02,\n",
       "       2.76536904e-02, 2.68307948e-02, 2.60215426e-02, 2.52261863e-02,\n",
       "       2.44449538e-02, 2.36780485e-02, 2.29256496e-02, 2.21879133e-02,\n",
       "       2.14649724e-02, 2.07569372e-02, 2.00638964e-02, 1.93859169e-02,\n",
       "       1.87230452e-02, 1.80753074e-02, 1.74427103e-02, 1.68252418e-02,\n",
       "       1.62228716e-02, 1.56355520e-02, 1.50632187e-02, 1.45057910e-02,\n",
       "       1.39631733e-02, 1.34352550e-02, 1.29219119e-02, 1.24230066e-02,\n",
       "       1.19383893e-02, 1.14678983e-02, 1.10113613e-02, 1.05685955e-02,\n",
       "       1.01394085e-02, 9.72359913e-03, 9.32095816e-03, 8.93126873e-03,\n",
       "       8.55430719e-03, 8.18984373e-03, 7.83764300e-03, 7.49746471e-03,\n",
       "       7.16906428e-03, 6.85219338e-03, 6.54660052e-03, 6.25203162e-03,\n",
       "       5.96823048e-03, 5.69493936e-03, 5.43189943e-03, 5.17885123e-03,\n",
       "       4.93553518e-03, 4.70169193e-03, 4.47706284e-03, 4.26139033e-03,\n",
       "       4.05441824e-03, 3.85589220e-03, 3.66555998e-03, 3.48317171e-03,\n",
       "       3.30848028e-03, 3.14124151e-03, 2.98121446e-03, 2.82816161e-03,\n",
       "       2.68184914e-03, 2.54204704e-03, 2.40852933e-03, 2.28107422e-03,\n",
       "       2.15946422e-03, 2.04348631e-03, 1.93293201e-03, 1.82759746e-03,\n",
       "       1.72728357e-03, 1.63179601e-03, 1.54094530e-03, 1.45454683e-03,\n",
       "       1.37242090e-03, 1.29439276e-03, 1.22029256e-03, 1.14995537e-03,\n",
       "       1.08322120e-03, 1.01993490e-03, 9.59946204e-04, 9.03109648e-04,\n",
       "       8.49284530e-04, 7.98334854e-04, 7.50129275e-04, 7.04541027e-04,\n",
       "       6.61447855e-04, 6.20731935e-04, 5.82279794e-04, 5.45982227e-04,\n",
       "       5.11734207e-04, 4.79434796e-04, 4.48987047e-04, 4.20297916e-04,\n",
       "       3.93278155e-04, 3.67842222e-04, 3.43908173e-04, 3.21397567e-04,\n",
       "       3.00235363e-04, 2.80349816e-04, 2.61672377e-04, 2.44137594e-04,\n",
       "       2.27683007e-04, 2.12249050e-04, 1.97778952e-04, 1.84218640e-04,\n",
       "       1.71516638e-04, 1.59623976e-04, 1.48494095e-04, 1.38082751e-04,\n",
       "       1.28347930e-04, 1.19249757e-04, 1.10750407e-04, 1.02814023e-04,\n",
       "       9.54066350e-05, 8.84960737e-05, 8.20518977e-05, 7.60453147e-05,\n",
       "       7.04491082e-05, 6.52375655e-05, 6.03864088e-05, 5.58727274e-05,\n",
       "       5.16749131e-05, 4.77725974e-05, 4.41465908e-05, 4.07788251e-05,\n",
       "       3.76522963e-05, 3.47510116e-05, 3.20599367e-05, 2.95649466e-05,\n",
       "       2.72527772e-05, 2.51109802e-05, 2.31278787e-05, 2.12925252e-05,\n",
       "       1.95946621e-05, 1.80246827e-05, 1.65735949e-05, 1.52329864e-05,\n",
       "       1.39949915e-05, 1.28522590e-05, 1.17979228e-05, 1.08255728e-05,\n",
       "       9.92922786e-06, 9.10330985e-06, 8.34261943e-06, 7.64231267e-06,\n",
       "       6.99787910e-06, 6.40512094e-06, 5.86013339e-06, 5.35928607e-06,\n",
       "       4.89920544e-06, 4.47675819e-06, 4.08903568e-06, 3.73333913e-06,\n",
       "       3.40716580e-06, 3.10819585e-06, 2.83428012e-06, 2.58342855e-06,\n",
       "       2.35379930e-06, 2.14368860e-06, 1.95152115e-06, 1.77584118e-06,\n",
       "       1.61530406e-06, 1.46866840e-06, 1.33478870e-06, 1.21260847e-06,\n",
       "       1.10115381e-06, 9.99527358e-07, 9.06902711e-07, 8.22519176e-07,\n",
       "       7.45676889e-07, 6.75732265e-07, 6.12093763e-07, 5.54217939e-07,\n",
       "       5.01605781e-07, 4.53799297e-07, 4.10378349e-07, 3.70957706e-07,\n",
       "       3.35184320e-07, 3.02734790e-07, 2.73313017e-07, 2.46648028e-07,\n",
       "       2.22491963e-07, 2.00618214e-07, 1.80819701e-07, 1.62907279e-07,\n",
       "       1.46708270e-07, 1.32065099e-07, 1.18834049e-07, 1.06884097e-07,\n",
       "       9.60958570e-08, 8.63605915e-08, 7.75793126e-08, 6.96619497e-08,\n",
       "       6.25265842e-08, 5.60987478e-08, 5.03107760e-08, 4.51012164e-08,\n",
       "       4.04142837e-08, 3.61993615e-08, 3.24105449e-08, 2.90062213e-08,\n",
       "       2.59486867e-08, 2.32037947e-08, 2.07406352e-08, 1.85312410e-08,\n",
       "       1.65503190e-08, 1.47750056e-08, 1.31846424e-08, 1.17605729e-08,\n",
       "       1.04859560e-08, 9.34559611e-09, 8.32578933e-09, 7.41418232e-09,\n",
       "       6.59964449e-09, 5.87215164e-09, 5.22268010e-09, 4.64311065e-09,\n",
       "       4.12614125e-09, 3.66520778e-09, 3.25441222e-09, 2.88845751e-09,\n",
       "       2.56258844e-09, 2.27253828e-09, 2.01448027e-09, 1.78498388e-09,\n",
       "       1.58097517e-09, 1.39970101e-09, 1.23869670e-09, 1.09575679e-09,\n",
       "       9.68908667e-10, 8.56388841e-10, 7.56621449e-10, 6.68198955e-10,\n",
       "       5.89864734e-10, 5.20497408e-10, 4.59096745e-10, 4.04770974e-10,\n",
       "       3.56725389e-10, 3.14252101e-10, 2.76720845e-10, 2.43570720e-10,\n",
       "       2.14302780e-10, 1.88473396e-10, 1.65688297e-10, 1.45597241e-10,\n",
       "       1.27889235e-10, 1.12288265e-10, 9.85494704e-11, 8.64557261e-11,\n",
       "       7.58145877e-11, 6.64555632e-11, 5.82276768e-11, 5.09972949e-11,\n",
       "       4.46461873e-11, 3.90697991e-11, 3.41757101e-11, 2.98822631e-11,\n",
       "       2.61173433e-11, 2.28172914e-11, 1.99259373e-11, 1.73937415e-11,\n",
       "       1.51770321e-11, 1.32373266e-11, 1.15407308e-11, 1.00574049e-11,\n",
       "       8.76109034e-12, 7.62869034e-12, 6.63989822e-12, 5.77686833e-12,\n",
       "       5.02392480e-12, 4.36730386e-12, 3.79492598e-12, 3.29619454e-12,\n",
       "       2.86181786e-12, 2.48365218e-12, 2.15456299e-12, 1.86830276e-12,\n",
       "       1.61940307e-12, 1.40307959e-12, 1.21514836e-12, 1.05195208e-12,\n",
       "       9.10295220e-13, 7.87386981e-13, 6.80791087e-13, 5.88381704e-13,\n",
       "       5.08304705e-13, 4.38943653e-13, 3.78889959e-13, 3.26916696e-13,\n",
       "       2.81955643e-13, 2.43077169e-13, 2.09472609e-13, 1.80438833e-13,\n",
       "       1.55364745e-13, 1.33719471e-13, 1.15042028e-13, 9.89323034e-14,\n",
       "       8.50431674e-14, 7.30735913e-14, 6.27626394e-14, 5.38842289e-14,\n",
       "       4.62425608e-14, 3.96681378e-14, 3.40142961e-14, 2.91541850e-14,\n",
       "       2.49781383e-14, 2.13913886e-14, 1.83120784e-14, 1.56695332e-14,\n",
       "       1.34027600e-14, 1.14591442e-14, 9.79331890e-15, 8.36618341e-15,\n",
       "       7.14405257e-15, 6.09791943e-15, 5.20281647e-15, 4.43726246e-15,\n",
       "       3.78278381e-15, 3.22350034e-15, 2.74576723e-15, 2.33786549e-15,\n",
       "       1.98973449e-15, 1.69274114e-15, 1.43948049e-15, 1.22360386e-15,\n",
       "       1.03967049e-15, 8.83019758e-16, 7.49661069e-16, 6.36179000e-16,\n",
       "       5.39651689e-16, 4.57580591e-16, 3.87830086e-16, 3.28575555e-16,\n",
       "       2.78258769e-16, 2.35549576e-16, 1.99313016e-16, 1.68581091e-16,\n",
       "       1.42528572e-16, 1.20452240e-16, 1.01753114e-16, 8.59212176e-17,\n",
       "       7.25225430e-17, 6.11878958e-17, 5.16033516e-17, 4.35020980e-17,\n",
       "       3.66574625e-17, 3.08769580e-17, 2.59971971e-17, 2.18795540e-17,\n",
       "       1.84064623e-17, 1.54782591e-17, 1.30104953e-17, 1.09316441e-17,\n",
       "       9.18114983e-18, 7.70776757e-18, 6.46815015e-18, 5.42564691e-18,\n",
       "       4.54928263e-18, 3.81288995e-18, 3.19437271e-18, 2.67508061e-18,\n",
       "       2.23927862e-18, 1.87369704e-18, 1.56715009e-18, 1.31021268e-18,\n",
       "       1.09494674e-18, 9.14669483e-19, 7.63757316e-19, 6.37480025e-19,\n",
       "       5.31860562e-19, 4.43556561e-19, 3.69760270e-19, 3.08114052e-19,\n",
       "       2.56639081e-19, 2.13675195e-19, 1.77830177e-19, 1.47937016e-19,\n",
       "       1.23017895e-19, 1.02253876e-19, 8.49593767e-20, 7.05607057e-20,\n",
       "       5.85780049e-20, 4.86100765e-20, 4.03216322e-20, 3.34325867e-20,\n",
       "       2.77090692e-20, 2.29558818e-20, 1.90101749e-20, 1.57361447e-20,\n",
       "       1.30205901e-20, 1.07691915e-20, 8.90339504e-21, 7.35780546e-21,\n",
       "       6.07800537e-21, 5.01873177e-21, 4.14235223e-21, 3.41759194e-21,\n",
       "       2.81847081e-21, 2.32341635e-21, 1.91452359e-21, 1.57693797e-21,\n",
       "       1.29834090e-21, 1.06852123e-21, 8.79018319e-22, 7.22824993e-22,\n",
       "       5.94140301e-22, 4.88163960e-22, 4.00925440e-22, 3.29141956e-22,\n",
       "       2.70100510e-22, 2.21559971e-22, 1.81669808e-22, 1.48902691e-22,\n",
       "       1.21998602e-22, 9.99185286e-23, 8.18060985e-23, 6.69558236e-23,\n",
       "       5.47868186e-23, 4.48210662e-23, 3.66654517e-23, 2.99969247e-23,\n",
       "       2.45502517e-23, 2.01079175e-23, 1.64918092e-23, 1.35563770e-23,\n",
       "       1.11830244e-23, 9.27551839e-24, 7.75625136e-24, 6.56321621e-24,\n",
       "       5.64758141e-24, 4.97177576e-24, 4.50801098e-24, 4.23718670e-24])"
      ]
     },
     "metadata": {
      "after": [],
      "completed": "2022-06-14T13:32:16.208874Z",
      "data": {},
      "engine_id": 0,
      "engine_uuid": "54d2c700-ac8848bd4c2af1b6c846b91b",
      "error": null,
      "execute_input": "c_full_range\n",
      "execute_result": {
       "data": {
        "text/plain": "array([4.14813651e-24, 4.23718670e-24, 4.50801098e-24, 4.97177576e-24,\n       5.64758141e-24, 6.56321621e-24, 7.75625136e-24, 9.27551839e-24,\n       1.11830244e-23, 1.35563770e-23, 1.64918092e-23, 2.01079175e-23,\n       2.45502517e-23, 2.99969247e-23, 3.66654517e-23, 4.48210662e-23,\n       5.47868186e-23, 6.69558236e-23, 8.18060985e-23, 9.99185286e-23,\n       1.21998602e-22, 1.48902691e-22, 1.81669808e-22, 2.21559971e-22,\n       2.70100510e-22, 3.29141956e-22, 4.00925440e-22, 4.88163960e-22,\n       5.94140301e-22, 7.22824993e-22, 8.79018319e-22, 1.06852123e-21,\n       1.29834090e-21, 1.57693797e-21, 1.91452359e-21, 2.32341635e-21,\n       2.81847081e-21, 3.41759194e-21, 4.14235223e-21, 5.01873177e-21,\n       6.07800537e-21, 7.35780546e-21, 8.90339504e-21, 1.07691915e-20,\n       1.30205901e-20, 1.57361447e-20, 1.90101749e-20, 2.29558818e-20,\n       2.77090692e-20, 3.34325867e-20, 4.03216322e-20, 4.86100765e-20,\n       5.85780049e-20, 7.05607057e-20, 8.49593767e-20, 1.02253876e-19,\n       1.23017895e-19, 1.47937016e-19, 1.77830177e-19, 2.13675195e-19,\n       2.56639081e-19, 3.08114052e-19, 3.69760270e-19, 4.43556561e-19,\n       5.31860562e-19, 6.37480025e-19, 7.63757316e-19, 9.14669483e-19,\n       1.09494674e-18, 1.31021268e-18, 1.56715009e-18, 1.87369704e-18,\n       2.23927862e-18, 2.67508061e-18, 3.19437271e-18, 3.81288995e-18,\n       4.54928263e-18, 5.42564691e-18, 6.46815015e-18, 7.70776757e-18,\n       9.18114983e-18, 1.09316441e-17, 1.30104953e-17, 1.54782591e-17,\n       1.84064623e-17, 2.18795540e-17, 2.59971971e-17, 3.08769580e-17,\n       3.66574625e-17, 4.35020980e-17, 5.16033516e-17, 6.11878958e-17,\n       7.25225430e-17, 8.59212176e-17, 1.01753114e-16, 1.20452240e-16,\n       1.42528572e-16, 1.68581091e-16, 1.99313016e-16, 2.35549576e-16,\n       2.78258769e-16, 3.28575555e-16, 3.87830086e-16, 4.57580591e-16,\n       5.39651689e-16, 6.36179000e-16, 7.49661069e-16, 8.83019758e-16,\n       1.03967049e-15, 1.22360386e-15, 1.43948049e-15, 1.69274114e-15,\n       1.98973449e-15, 2.33786549e-15, 2.74576723e-15, 3.22350034e-15,\n       3.78278381e-15, 4.43726246e-15, 5.20281647e-15, 6.09791943e-15,\n       7.14405257e-15, 8.36618341e-15, 9.79331890e-15, 1.14591442e-14,\n       1.34027600e-14, 1.56695332e-14, 1.83120784e-14, 2.13913886e-14,\n       2.49781383e-14, 2.91541850e-14, 3.40142961e-14, 3.96681378e-14,\n       4.62425608e-14, 5.38842289e-14, 6.27626394e-14, 7.30735913e-14,\n       8.50431674e-14, 9.89323034e-14, 1.15042028e-13, 1.33719471e-13,\n       1.55364745e-13, 1.80438833e-13, 2.09472609e-13, 2.43077169e-13,\n       2.81955643e-13, 3.26916696e-13, 3.78889959e-13, 4.38943653e-13,\n       5.08304705e-13, 5.88381704e-13, 6.80791087e-13, 7.87386981e-13,\n       9.10295220e-13, 1.05195208e-12, 1.21514836e-12, 1.40307959e-12,\n       1.61940307e-12, 1.86830276e-12, 2.15456299e-12, 2.48365218e-12,\n       2.86181786e-12, 3.29619454e-12, 3.79492598e-12, 4.36730386e-12,\n       5.02392480e-12, 5.77686833e-12, 6.63989822e-12, 7.62869034e-12,\n       8.76109034e-12, 1.00574049e-11, 1.15407308e-11, 1.32373266e-11,\n       1.51770321e-11, 1.73937415e-11, 1.99259373e-11, 2.28172914e-11,\n       2.61173433e-11, 2.98822631e-11, 3.41757101e-11, 3.90697991e-11,\n       4.46461873e-11, 5.09972949e-11, 5.82276768e-11, 6.64555632e-11,\n       7.58145877e-11, 8.64557261e-11, 9.85494704e-11, 1.12288265e-10,\n       1.27889235e-10, 1.45597241e-10, 1.65688297e-10, 1.88473396e-10,\n       2.14302780e-10, 2.43570720e-10, 2.76720845e-10, 3.14252101e-10,\n       3.56725389e-10, 4.04770974e-10, 4.59096745e-10, 5.20497408e-10,\n       5.89864734e-10, 6.68198955e-10, 7.56621449e-10, 8.56388841e-10,\n       9.68908667e-10, 1.09575679e-09, 1.23869670e-09, 1.39970101e-09,\n       1.58097517e-09, 1.78498388e-09, 2.01448027e-09, 2.27253828e-09,\n       2.56258844e-09, 2.88845751e-09, 3.25441222e-09, 3.66520778e-09,\n       4.12614125e-09, 4.64311065e-09, 5.22268010e-09, 5.87215164e-09,\n       6.59964449e-09, 7.41418232e-09, 8.32578933e-09, 9.34559611e-09,\n       1.04859560e-08, 1.17605729e-08, 1.31846424e-08, 1.47750056e-08,\n       1.65503190e-08, 1.85312410e-08, 2.07406352e-08, 2.32037947e-08,\n       2.59486867e-08, 2.90062213e-08, 3.24105449e-08, 3.61993615e-08,\n       4.04142837e-08, 4.51012164e-08, 5.03107760e-08, 5.60987478e-08,\n       6.25265842e-08, 6.96619497e-08, 7.75793126e-08, 8.63605915e-08,\n       9.60958570e-08, 1.06884097e-07, 1.18834049e-07, 1.32065099e-07,\n       1.46708270e-07, 1.62907279e-07, 1.80819701e-07, 2.00618214e-07,\n       2.22491963e-07, 2.46648028e-07, 2.73313017e-07, 3.02734790e-07,\n       3.35184320e-07, 3.70957706e-07, 4.10378349e-07, 4.53799297e-07,\n       5.01605781e-07, 5.54217939e-07, 6.12093763e-07, 6.75732265e-07,\n       7.45676889e-07, 8.22519176e-07, 9.06902711e-07, 9.99527358e-07,\n       1.10115381e-06, 1.21260847e-06, 1.33478870e-06, 1.46866840e-06,\n       1.61530406e-06, 1.77584118e-06, 1.95152115e-06, 2.14368860e-06,\n       2.35379930e-06, 2.58342855e-06, 2.83428012e-06, 3.10819585e-06,\n       3.40716580e-06, 3.73333913e-06, 4.08903568e-06, 4.47675819e-06,\n       4.89920544e-06, 5.35928607e-06, 5.86013339e-06, 6.40512094e-06,\n       6.99787910e-06, 7.64231267e-06, 8.34261943e-06, 9.10330985e-06,\n       9.92922786e-06, 1.08255728e-05, 1.17979228e-05, 1.28522590e-05,\n       1.39949915e-05, 1.52329864e-05, 1.65735949e-05, 1.80246827e-05,\n       1.95946621e-05, 2.12925252e-05, 2.31278787e-05, 2.51109802e-05,\n       2.72527772e-05, 2.95649466e-05, 3.20599367e-05, 3.47510116e-05,\n       3.76522963e-05, 4.07788251e-05, 4.41465908e-05, 4.77725974e-05,\n       5.16749131e-05, 5.58727274e-05, 6.03864088e-05, 6.52375655e-05,\n       7.04491082e-05, 7.60453147e-05, 8.20518977e-05, 8.84960737e-05,\n       9.54066350e-05, 1.02814023e-04, 1.10750407e-04, 1.19249757e-04,\n       1.28347930e-04, 1.38082751e-04, 1.48494095e-04, 1.59623976e-04,\n       1.71516638e-04, 1.84218640e-04, 1.97778952e-04, 2.12249050e-04,\n       2.27683007e-04, 2.44137594e-04, 2.61672377e-04, 2.80349816e-04,\n       3.00235363e-04, 3.21397567e-04, 3.43908173e-04, 3.67842222e-04,\n       3.93278155e-04, 4.20297916e-04, 4.48987047e-04, 4.79434796e-04,\n       5.11734207e-04, 5.45982227e-04, 5.82279794e-04, 6.20731935e-04,\n       6.61447855e-04, 7.04541027e-04, 7.50129275e-04, 7.98334854e-04,\n       8.49284530e-04, 9.03109648e-04, 9.59946204e-04, 1.01993490e-03,\n       1.08322120e-03, 1.14995537e-03, 1.22029256e-03, 1.29439276e-03,\n       1.37242090e-03, 1.45454683e-03, 1.54094530e-03, 1.63179601e-03,\n       1.72728357e-03, 1.82759746e-03, 1.93293201e-03, 2.04348631e-03,\n       2.15946422e-03, 2.28107422e-03, 2.40852933e-03, 2.54204704e-03,\n       2.68184914e-03, 2.82816161e-03, 2.98121446e-03, 3.14124151e-03,\n       3.30848028e-03, 3.48317171e-03, 3.66555998e-03, 3.85589220e-03,\n       4.05441824e-03, 4.26139033e-03, 4.47706284e-03, 4.70169193e-03,\n       4.93553518e-03, 5.17885123e-03, 5.43189943e-03, 5.69493936e-03,\n       5.96823048e-03, 6.25203162e-03, 6.54660052e-03, 6.85219338e-03,\n       7.16906428e-03, 7.49746471e-03, 7.83764300e-03, 8.18984373e-03,\n       8.55430719e-03, 8.93126873e-03, 9.32095816e-03, 9.72359913e-03,\n       1.01394085e-02, 1.05685955e-02, 1.10113613e-02, 1.14678983e-02,\n       1.19383893e-02, 1.24230066e-02, 1.29219119e-02, 1.34352550e-02,\n       1.39631733e-02, 1.45057910e-02, 1.50632187e-02, 1.56355520e-02,\n       1.62228716e-02, 1.68252418e-02, 1.74427103e-02, 1.80753074e-02,\n       1.87230452e-02, 1.93859169e-02, 2.00638964e-02, 2.07569372e-02,\n       2.14649724e-02, 2.21879133e-02, 2.29256496e-02, 2.36780485e-02,\n       2.44449538e-02, 2.52261863e-02, 2.60215426e-02, 2.68307948e-02,\n       2.76536904e-02, 2.84899517e-02, 2.93392756e-02, 3.02013335e-02,\n       3.10757706e-02, 3.19622063e-02, 3.28602338e-02, 3.37694201e-02,\n       3.46893058e-02, 3.56194056e-02, 3.65592080e-02, 3.75081757e-02,\n       3.84657457e-02, 3.94313295e-02, 4.04043137e-02, 4.13840601e-02,\n       4.23699067e-02, 4.33611675e-02, 4.43571335e-02, 4.53570735e-02,\n       4.63602346e-02, 4.73658428e-02, 4.83731043e-02, 4.93812061e-02,\n       5.03893169e-02, 5.13965884e-02, 5.24021562e-02, 5.34051408e-02,\n       5.44046491e-02, 5.53997754e-02, 5.63896028e-02, 5.73732045e-02,\n       5.83496453e-02, 5.93179826e-02, 6.02772685e-02, 6.12265509e-02,\n       6.21648749e-02, 6.30912847e-02, 6.40048253e-02, 6.49045434e-02,\n       6.57894898e-02, 6.66587208e-02, 6.75112995e-02, 6.83462982e-02,\n       6.91627991e-02, 6.99598971e-02, 7.07367004e-02, 7.14923327e-02,\n       7.22259351e-02, 7.29366669e-02, 7.36237080e-02, 7.42862600e-02,\n       7.49235480e-02, 7.55348220e-02, 7.61193583e-02, 7.66764609e-02,\n       7.72054633e-02, 7.77057292e-02, 7.81766543e-02, 7.86176670e-02,\n       7.90282302e-02, 7.94078417e-02, 7.97560360e-02, 8.00723844e-02,\n       8.03564964e-02, 8.06080206e-02, 8.08266450e-02, 8.10120980e-02,\n       8.11641487e-02, 8.12826076e-02, 8.13673270e-02, 8.14182010e-02,\n       8.14351661e-02, 8.14182010e-02, 8.13673270e-02, 8.12826076e-02,\n       8.11641487e-02, 8.10120980e-02, 8.08266450e-02, 8.06080206e-02,\n       8.03564964e-02, 8.00723844e-02, 7.97560360e-02, 7.94078417e-02,\n       7.90282302e-02, 7.86176670e-02, 7.81766543e-02, 7.77057292e-02,\n       7.72054633e-02, 7.66764609e-02, 7.61193583e-02, 7.55348220e-02,\n       7.49235480e-02, 7.42862600e-02, 7.36237080e-02, 7.29366669e-02,\n       7.22259351e-02, 7.14923327e-02, 7.07367004e-02, 6.99598971e-02,\n       6.91627991e-02, 6.83462982e-02, 6.75112995e-02, 6.66587208e-02,\n       6.57894898e-02, 6.49045434e-02, 6.40048253e-02, 6.30912847e-02,\n       6.21648749e-02, 6.12265509e-02, 6.02772685e-02, 5.93179826e-02,\n       5.83496453e-02, 5.73732045e-02, 5.63896028e-02, 5.53997754e-02,\n       5.44046491e-02, 5.34051408e-02, 5.24021562e-02, 5.13965884e-02,\n       5.03893169e-02, 4.93812061e-02, 4.83731043e-02, 4.73658428e-02,\n       4.63602346e-02, 4.53570735e-02, 4.43571335e-02, 4.33611675e-02,\n       4.23699067e-02, 4.13840601e-02, 4.04043137e-02, 3.94313295e-02,\n       3.84657457e-02, 3.75081757e-02, 3.65592080e-02, 3.56194056e-02,\n       3.46893058e-02, 3.37694201e-02, 3.28602338e-02, 3.19622063e-02,\n       3.10757706e-02, 3.02013335e-02, 2.93392756e-02, 2.84899517e-02,\n       2.76536904e-02, 2.68307948e-02, 2.60215426e-02, 2.52261863e-02,\n       2.44449538e-02, 2.36780485e-02, 2.29256496e-02, 2.21879133e-02,\n       2.14649724e-02, 2.07569372e-02, 2.00638964e-02, 1.93859169e-02,\n       1.87230452e-02, 1.80753074e-02, 1.74427103e-02, 1.68252418e-02,\n       1.62228716e-02, 1.56355520e-02, 1.50632187e-02, 1.45057910e-02,\n       1.39631733e-02, 1.34352550e-02, 1.29219119e-02, 1.24230066e-02,\n       1.19383893e-02, 1.14678983e-02, 1.10113613e-02, 1.05685955e-02,\n       1.01394085e-02, 9.72359913e-03, 9.32095816e-03, 8.93126873e-03,\n       8.55430719e-03, 8.18984373e-03, 7.83764300e-03, 7.49746471e-03,\n       7.16906428e-03, 6.85219338e-03, 6.54660052e-03, 6.25203162e-03,\n       5.96823048e-03, 5.69493936e-03, 5.43189943e-03, 5.17885123e-03,\n       4.93553518e-03, 4.70169193e-03, 4.47706284e-03, 4.26139033e-03,\n       4.05441824e-03, 3.85589220e-03, 3.66555998e-03, 3.48317171e-03,\n       3.30848028e-03, 3.14124151e-03, 2.98121446e-03, 2.82816161e-03,\n       2.68184914e-03, 2.54204704e-03, 2.40852933e-03, 2.28107422e-03,\n       2.15946422e-03, 2.04348631e-03, 1.93293201e-03, 1.82759746e-03,\n       1.72728357e-03, 1.63179601e-03, 1.54094530e-03, 1.45454683e-03,\n       1.37242090e-03, 1.29439276e-03, 1.22029256e-03, 1.14995537e-03,\n       1.08322120e-03, 1.01993490e-03, 9.59946204e-04, 9.03109648e-04,\n       8.49284530e-04, 7.98334854e-04, 7.50129275e-04, 7.04541027e-04,\n       6.61447855e-04, 6.20731935e-04, 5.82279794e-04, 5.45982227e-04,\n       5.11734207e-04, 4.79434796e-04, 4.48987047e-04, 4.20297916e-04,\n       3.93278155e-04, 3.67842222e-04, 3.43908173e-04, 3.21397567e-04,\n       3.00235363e-04, 2.80349816e-04, 2.61672377e-04, 2.44137594e-04,\n       2.27683007e-04, 2.12249050e-04, 1.97778952e-04, 1.84218640e-04,\n       1.71516638e-04, 1.59623976e-04, 1.48494095e-04, 1.38082751e-04,\n       1.28347930e-04, 1.19249757e-04, 1.10750407e-04, 1.02814023e-04,\n       9.54066350e-05, 8.84960737e-05, 8.20518977e-05, 7.60453147e-05,\n       7.04491082e-05, 6.52375655e-05, 6.03864088e-05, 5.58727274e-05,\n       5.16749131e-05, 4.77725974e-05, 4.41465908e-05, 4.07788251e-05,\n       3.76522963e-05, 3.47510116e-05, 3.20599367e-05, 2.95649466e-05,\n       2.72527772e-05, 2.51109802e-05, 2.31278787e-05, 2.12925252e-05,\n       1.95946621e-05, 1.80246827e-05, 1.65735949e-05, 1.52329864e-05,\n       1.39949915e-05, 1.28522590e-05, 1.17979228e-05, 1.08255728e-05,\n       9.92922786e-06, 9.10330985e-06, 8.34261943e-06, 7.64231267e-06,\n       6.99787910e-06, 6.40512094e-06, 5.86013339e-06, 5.35928607e-06,\n       4.89920544e-06, 4.47675819e-06, 4.08903568e-06, 3.73333913e-06,\n       3.40716580e-06, 3.10819585e-06, 2.83428012e-06, 2.58342855e-06,\n       2.35379930e-06, 2.14368860e-06, 1.95152115e-06, 1.77584118e-06,\n       1.61530406e-06, 1.46866840e-06, 1.33478870e-06, 1.21260847e-06,\n       1.10115381e-06, 9.99527358e-07, 9.06902711e-07, 8.22519176e-07,\n       7.45676889e-07, 6.75732265e-07, 6.12093763e-07, 5.54217939e-07,\n       5.01605781e-07, 4.53799297e-07, 4.10378349e-07, 3.70957706e-07,\n       3.35184320e-07, 3.02734790e-07, 2.73313017e-07, 2.46648028e-07,\n       2.22491963e-07, 2.00618214e-07, 1.80819701e-07, 1.62907279e-07,\n       1.46708270e-07, 1.32065099e-07, 1.18834049e-07, 1.06884097e-07,\n       9.60958570e-08, 8.63605915e-08, 7.75793126e-08, 6.96619497e-08,\n       6.25265842e-08, 5.60987478e-08, 5.03107760e-08, 4.51012164e-08,\n       4.04142837e-08, 3.61993615e-08, 3.24105449e-08, 2.90062213e-08,\n       2.59486867e-08, 2.32037947e-08, 2.07406352e-08, 1.85312410e-08,\n       1.65503190e-08, 1.47750056e-08, 1.31846424e-08, 1.17605729e-08,\n       1.04859560e-08, 9.34559611e-09, 8.32578933e-09, 7.41418232e-09,\n       6.59964449e-09, 5.87215164e-09, 5.22268010e-09, 4.64311065e-09,\n       4.12614125e-09, 3.66520778e-09, 3.25441222e-09, 2.88845751e-09,\n       2.56258844e-09, 2.27253828e-09, 2.01448027e-09, 1.78498388e-09,\n       1.58097517e-09, 1.39970101e-09, 1.23869670e-09, 1.09575679e-09,\n       9.68908667e-10, 8.56388841e-10, 7.56621449e-10, 6.68198955e-10,\n       5.89864734e-10, 5.20497408e-10, 4.59096745e-10, 4.04770974e-10,\n       3.56725389e-10, 3.14252101e-10, 2.76720845e-10, 2.43570720e-10,\n       2.14302780e-10, 1.88473396e-10, 1.65688297e-10, 1.45597241e-10,\n       1.27889235e-10, 1.12288265e-10, 9.85494704e-11, 8.64557261e-11,\n       7.58145877e-11, 6.64555632e-11, 5.82276768e-11, 5.09972949e-11,\n       4.46461873e-11, 3.90697991e-11, 3.41757101e-11, 2.98822631e-11,\n       2.61173433e-11, 2.28172914e-11, 1.99259373e-11, 1.73937415e-11,\n       1.51770321e-11, 1.32373266e-11, 1.15407308e-11, 1.00574049e-11,\n       8.76109034e-12, 7.62869034e-12, 6.63989822e-12, 5.77686833e-12,\n       5.02392480e-12, 4.36730386e-12, 3.79492598e-12, 3.29619454e-12,\n       2.86181786e-12, 2.48365218e-12, 2.15456299e-12, 1.86830276e-12,\n       1.61940307e-12, 1.40307959e-12, 1.21514836e-12, 1.05195208e-12,\n       9.10295220e-13, 7.87386981e-13, 6.80791087e-13, 5.88381704e-13,\n       5.08304705e-13, 4.38943653e-13, 3.78889959e-13, 3.26916696e-13,\n       2.81955643e-13, 2.43077169e-13, 2.09472609e-13, 1.80438833e-13,\n       1.55364745e-13, 1.33719471e-13, 1.15042028e-13, 9.89323034e-14,\n       8.50431674e-14, 7.30735913e-14, 6.27626394e-14, 5.38842289e-14,\n       4.62425608e-14, 3.96681378e-14, 3.40142961e-14, 2.91541850e-14,\n       2.49781383e-14, 2.13913886e-14, 1.83120784e-14, 1.56695332e-14,\n       1.34027600e-14, 1.14591442e-14, 9.79331890e-15, 8.36618341e-15,\n       7.14405257e-15, 6.09791943e-15, 5.20281647e-15, 4.43726246e-15,\n       3.78278381e-15, 3.22350034e-15, 2.74576723e-15, 2.33786549e-15,\n       1.98973449e-15, 1.69274114e-15, 1.43948049e-15, 1.22360386e-15,\n       1.03967049e-15, 8.83019758e-16, 7.49661069e-16, 6.36179000e-16,\n       5.39651689e-16, 4.57580591e-16, 3.87830086e-16, 3.28575555e-16,\n       2.78258769e-16, 2.35549576e-16, 1.99313016e-16, 1.68581091e-16,\n       1.42528572e-16, 1.20452240e-16, 1.01753114e-16, 8.59212176e-17,\n       7.25225430e-17, 6.11878958e-17, 5.16033516e-17, 4.35020980e-17,\n       3.66574625e-17, 3.08769580e-17, 2.59971971e-17, 2.18795540e-17,\n       1.84064623e-17, 1.54782591e-17, 1.30104953e-17, 1.09316441e-17,\n       9.18114983e-18, 7.70776757e-18, 6.46815015e-18, 5.42564691e-18,\n       4.54928263e-18, 3.81288995e-18, 3.19437271e-18, 2.67508061e-18,\n       2.23927862e-18, 1.87369704e-18, 1.56715009e-18, 1.31021268e-18,\n       1.09494674e-18, 9.14669483e-19, 7.63757316e-19, 6.37480025e-19,\n       5.31860562e-19, 4.43556561e-19, 3.69760270e-19, 3.08114052e-19,\n       2.56639081e-19, 2.13675195e-19, 1.77830177e-19, 1.47937016e-19,\n       1.23017895e-19, 1.02253876e-19, 8.49593767e-20, 7.05607057e-20,\n       5.85780049e-20, 4.86100765e-20, 4.03216322e-20, 3.34325867e-20,\n       2.77090692e-20, 2.29558818e-20, 1.90101749e-20, 1.57361447e-20,\n       1.30205901e-20, 1.07691915e-20, 8.90339504e-21, 7.35780546e-21,\n       6.07800537e-21, 5.01873177e-21, 4.14235223e-21, 3.41759194e-21,\n       2.81847081e-21, 2.32341635e-21, 1.91452359e-21, 1.57693797e-21,\n       1.29834090e-21, 1.06852123e-21, 8.79018319e-22, 7.22824993e-22,\n       5.94140301e-22, 4.88163960e-22, 4.00925440e-22, 3.29141956e-22,\n       2.70100510e-22, 2.21559971e-22, 1.81669808e-22, 1.48902691e-22,\n       1.21998602e-22, 9.99185286e-23, 8.18060985e-23, 6.69558236e-23,\n       5.47868186e-23, 4.48210662e-23, 3.66654517e-23, 2.99969247e-23,\n       2.45502517e-23, 2.01079175e-23, 1.64918092e-23, 1.35563770e-23,\n       1.11830244e-23, 9.27551839e-24, 7.75625136e-24, 6.56321621e-24,\n       5.64758141e-24, 4.97177576e-24, 4.50801098e-24, 4.23718670e-24])"
       },
       "execution_count": 16,
       "metadata": {}
      },
      "follow": [],
      "is_broadcast": false,
      "is_coalescing": false,
      "msg_id": "f779c95c-291e39d1f717da016d232882_19591_121",
      "outputs": [],
      "received": "2022-06-14T13:32:16.215645Z",
      "started": "2022-06-14T13:32:16.178018Z",
      "status": "ok",
      "stderr": "",
      "stdout": "",
      "submitted": "2022-06-14T13:32:16.172556Z"
     },
     "output_type": "display_data"
    },
    {
     "data": {
      "text/plain": [
       "\u001b[0;31mOut[3:16]: \u001b[0m\n",
       "array([0., 0., 0., 0., 0., 0., 0., 0., 0., 0., 0., 0., 0., 0., 0., 0., 0.,\n",
       "       0., 0., 0., 0., 0., 0., 0., 0., 0., 0., 0., 0., 0., 0., 0., 0., 0.,\n",
       "       0., 0., 0., 0., 0., 0., 0., 0., 0., 0., 0., 0., 0., 0., 0., 0., 0.,\n",
       "       0., 0., 0., 0., 0., 0., 0., 0., 0., 0., 0., 0., 0., 0., 0., 0., 0.,\n",
       "       0., 0., 0., 0., 0., 0., 0., 0., 0., 0., 0., 0., 0., 0., 0., 0., 0.,\n",
       "       0., 0., 0., 0., 0., 0., 0., 0., 0., 0., 0., 0., 0., 0., 0., 0., 0.,\n",
       "       0., 0., 0., 0., 0., 0., 0., 0., 0., 0., 0., 0., 0., 0., 0., 0., 0.,\n",
       "       0., 0., 0., 0., 0., 0., 0., 0., 0., 0., 0., 0., 0., 0., 0., 0., 0.,\n",
       "       0., 0., 0., 0., 0., 0., 0., 0., 0., 0., 0., 0., 0., 0., 0., 0., 0.,\n",
       "       0., 0., 0., 0., 0., 0., 0., 0., 0., 0., 0., 0., 0., 0., 0., 0., 0.,\n",
       "       0., 0., 0., 0., 0., 0., 0., 0., 0., 0., 0., 0., 0., 0., 0., 0., 0.,\n",
       "       0., 0., 0., 0., 0., 0., 0., 0., 0., 0., 0., 0., 0., 0., 0., 0., 0.,\n",
       "       0., 0., 0., 0., 0., 0., 0., 0., 0., 0., 0., 0., 0., 0., 0., 0., 0.,\n",
       "       0., 0., 0., 0., 0., 0., 0., 0., 0., 0., 0., 0., 0., 0., 0., 0., 0.,\n",
       "       0., 0., 0., 0., 0., 0., 0., 0., 0., 0., 0., 0., 0., 0., 0., 0., 0.,\n",
       "       0., 0., 0., 0., 0., 0., 0., 0., 0., 0., 0., 0., 0., 0., 0., 0., 0.,\n",
       "       0., 0., 0., 0., 0., 0., 0., 0., 0., 0., 0., 0., 0., 0., 0., 0., 0.,\n",
       "       0., 0., 0., 0., 0., 0., 0., 0., 0., 0., 0., 0., 0., 0., 0., 0., 0.,\n",
       "       0., 0., 0., 0., 0., 0., 0., 0., 0., 0., 0., 0., 0., 0., 0., 0., 0.,\n",
       "       0., 0., 0., 0., 0., 0., 0., 0., 0., 0., 0., 0., 0., 0., 0., 0., 0.,\n",
       "       0., 0., 0., 0., 0., 0., 0., 0., 0., 0., 0., 0., 0., 0., 0., 0., 0.,\n",
       "       0., 0., 0., 0., 0., 0., 0., 0., 0., 0., 0., 0., 0., 0., 0., 0., 0.,\n",
       "       0., 0., 0., 0., 0., 0., 0., 0., 0., 0., 0., 0., 0., 0., 0., 0., 0.,\n",
       "       0., 0., 0., 0., 0., 0., 0., 0., 0., 0., 0., 0., 0., 0., 0., 0., 0.,\n",
       "       0., 0., 0., 0., 0., 0., 0., 0., 0., 0., 0., 0., 0., 0., 0., 0., 0.,\n",
       "       0., 0., 0., 0., 0., 0., 0., 0., 0., 0., 0., 0., 0., 0., 0., 0., 0.,\n",
       "       0., 0., 0., 0., 0., 0., 0., 0., 0., 0., 0., 0., 0., 0., 0., 0., 0.,\n",
       "       0., 0., 0., 0., 0., 0., 0., 0., 0., 0., 0., 0., 0., 0., 0., 0., 0.,\n",
       "       0., 0., 0., 0., 0., 0., 0., 0., 0., 0., 0., 0., 0., 0., 0., 0., 0.,\n",
       "       0., 0., 0., 0., 0., 0., 0., 0., 0., 0., 0., 0., 0., 0., 0., 0., 0.,\n",
       "       0., 0., 0., 0., 0., 0., 0., 0., 0., 0., 0., 0., 0., 0., 0., 0., 0.,\n",
       "       0., 0., 0., 0., 0., 0., 0., 0., 0., 0., 0., 0., 0., 0., 0., 0., 0.,\n",
       "       0., 0., 0., 0., 0., 0., 0., 0., 0., 0., 0., 0., 0., 0., 0., 0., 0.,\n",
       "       0., 0., 0., 0., 0., 0., 0., 0., 0., 0., 0., 0., 0., 0., 0., 0., 0.,\n",
       "       0., 0., 0., 0., 0., 0., 0., 0., 0., 0., 0., 0., 0., 0., 0., 0., 0.,\n",
       "       0., 0., 0., 0., 0., 0., 0., 0., 0., 0., 0., 0., 0., 0., 0., 0., 0.,\n",
       "       0., 0., 0., 0., 0., 0., 0., 0., 0., 0., 0., 0., 0., 0., 0., 0., 0.,\n",
       "       0., 0., 0., 0., 0., 0., 0., 0., 0., 0., 0., 0., 0., 0., 0., 0., 0.,\n",
       "       0., 0., 0., 0., 0., 0., 0., 0., 0., 0., 0., 0., 0., 0., 0., 0., 0.,\n",
       "       0., 0., 0., 0., 0., 0., 0., 0., 0., 0., 0., 0., 0., 0., 0., 0., 0.,\n",
       "       0., 0., 0., 0., 0., 0., 0., 0., 0., 0., 0., 0., 0., 0., 0., 0., 0.,\n",
       "       0., 0., 0., 0., 0., 0., 0., 0., 0., 0., 0., 0., 0., 0., 0., 0., 0.,\n",
       "       0., 0., 0., 0., 0., 0., 0., 0., 0., 0., 0., 0., 0., 0., 0., 0., 0.,\n",
       "       0., 0., 0., 0., 0., 0., 0., 0., 0., 0., 0., 0., 0., 0., 0., 0., 0.,\n",
       "       0., 0., 0., 0., 0., 0., 0., 0., 0., 0., 0., 0., 0., 0., 0., 0., 0.,\n",
       "       0., 0., 0., 0., 0., 0., 0., 0., 0., 0., 0., 0., 0., 0., 0., 0., 0.,\n",
       "       0., 0., 0., 0., 0., 0., 0., 0., 0., 0., 0., 0., 0., 0., 0., 0., 0.,\n",
       "       0., 0., 0., 0., 0., 0., 0., 0., 0., 0., 0., 0., 0., 0., 0., 0., 0.,\n",
       "       0., 0., 0., 0., 0., 0., 0., 0., 0., 0., 0., 0., 0., 0., 0., 0., 0.,\n",
       "       0., 0., 0., 0., 0., 0., 0., 0., 0., 0., 0., 0., 0., 0., 0., 0., 0.,\n",
       "       0., 0., 0., 0., 0., 0., 0., 0., 0., 0., 0., 0., 0., 0., 0., 0., 0.,\n",
       "       0., 0., 0., 0., 0., 0., 0., 0., 0., 0., 0., 0., 0., 0., 0., 0., 0.,\n",
       "       0., 0., 0., 0., 0., 0., 0., 0., 0., 0., 0., 0., 0., 0., 0., 0., 0.,\n",
       "       0., 0., 0., 0., 0., 0., 0., 0., 0., 0., 0., 0., 0., 0., 0., 0., 0.,\n",
       "       0., 0., 0., 0., 0., 0., 0., 0., 0., 0., 0., 0., 0., 0., 0., 0., 0.,\n",
       "       0., 0., 0., 0., 0., 0., 0., 0., 0., 0., 0., 0., 0., 0., 0., 0., 0.,\n",
       "       0., 0., 0., 0., 0., 0., 0., 0., 0., 0., 0., 0., 0., 0., 0., 0., 0.,\n",
       "       0., 0., 0., 0., 0., 0., 0., 0., 0., 0., 0., 0., 0., 0., 0., 0., 0.,\n",
       "       0., 0., 0., 0., 0., 0., 0., 0., 0., 0., 0., 0., 0., 0.])"
      ]
     },
     "metadata": {
      "after": [],
      "completed": "2022-06-14T13:32:16.208754Z",
      "data": {},
      "engine_id": 3,
      "engine_uuid": "aa29e2f1-7574ed3ecd12f3953ae86e0c",
      "error": null,
      "execute_input": "c_full_range\n",
      "execute_result": {
       "data": {
        "text/plain": "array([0., 0., 0., 0., 0., 0., 0., 0., 0., 0., 0., 0., 0., 0., 0., 0., 0.,\n       0., 0., 0., 0., 0., 0., 0., 0., 0., 0., 0., 0., 0., 0., 0., 0., 0.,\n       0., 0., 0., 0., 0., 0., 0., 0., 0., 0., 0., 0., 0., 0., 0., 0., 0.,\n       0., 0., 0., 0., 0., 0., 0., 0., 0., 0., 0., 0., 0., 0., 0., 0., 0.,\n       0., 0., 0., 0., 0., 0., 0., 0., 0., 0., 0., 0., 0., 0., 0., 0., 0.,\n       0., 0., 0., 0., 0., 0., 0., 0., 0., 0., 0., 0., 0., 0., 0., 0., 0.,\n       0., 0., 0., 0., 0., 0., 0., 0., 0., 0., 0., 0., 0., 0., 0., 0., 0.,\n       0., 0., 0., 0., 0., 0., 0., 0., 0., 0., 0., 0., 0., 0., 0., 0., 0.,\n       0., 0., 0., 0., 0., 0., 0., 0., 0., 0., 0., 0., 0., 0., 0., 0., 0.,\n       0., 0., 0., 0., 0., 0., 0., 0., 0., 0., 0., 0., 0., 0., 0., 0., 0.,\n       0., 0., 0., 0., 0., 0., 0., 0., 0., 0., 0., 0., 0., 0., 0., 0., 0.,\n       0., 0., 0., 0., 0., 0., 0., 0., 0., 0., 0., 0., 0., 0., 0., 0., 0.,\n       0., 0., 0., 0., 0., 0., 0., 0., 0., 0., 0., 0., 0., 0., 0., 0., 0.,\n       0., 0., 0., 0., 0., 0., 0., 0., 0., 0., 0., 0., 0., 0., 0., 0., 0.,\n       0., 0., 0., 0., 0., 0., 0., 0., 0., 0., 0., 0., 0., 0., 0., 0., 0.,\n       0., 0., 0., 0., 0., 0., 0., 0., 0., 0., 0., 0., 0., 0., 0., 0., 0.,\n       0., 0., 0., 0., 0., 0., 0., 0., 0., 0., 0., 0., 0., 0., 0., 0., 0.,\n       0., 0., 0., 0., 0., 0., 0., 0., 0., 0., 0., 0., 0., 0., 0., 0., 0.,\n       0., 0., 0., 0., 0., 0., 0., 0., 0., 0., 0., 0., 0., 0., 0., 0., 0.,\n       0., 0., 0., 0., 0., 0., 0., 0., 0., 0., 0., 0., 0., 0., 0., 0., 0.,\n       0., 0., 0., 0., 0., 0., 0., 0., 0., 0., 0., 0., 0., 0., 0., 0., 0.,\n       0., 0., 0., 0., 0., 0., 0., 0., 0., 0., 0., 0., 0., 0., 0., 0., 0.,\n       0., 0., 0., 0., 0., 0., 0., 0., 0., 0., 0., 0., 0., 0., 0., 0., 0.,\n       0., 0., 0., 0., 0., 0., 0., 0., 0., 0., 0., 0., 0., 0., 0., 0., 0.,\n       0., 0., 0., 0., 0., 0., 0., 0., 0., 0., 0., 0., 0., 0., 0., 0., 0.,\n       0., 0., 0., 0., 0., 0., 0., 0., 0., 0., 0., 0., 0., 0., 0., 0., 0.,\n       0., 0., 0., 0., 0., 0., 0., 0., 0., 0., 0., 0., 0., 0., 0., 0., 0.,\n       0., 0., 0., 0., 0., 0., 0., 0., 0., 0., 0., 0., 0., 0., 0., 0., 0.,\n       0., 0., 0., 0., 0., 0., 0., 0., 0., 0., 0., 0., 0., 0., 0., 0., 0.,\n       0., 0., 0., 0., 0., 0., 0., 0., 0., 0., 0., 0., 0., 0., 0., 0., 0.,\n       0., 0., 0., 0., 0., 0., 0., 0., 0., 0., 0., 0., 0., 0., 0., 0., 0.,\n       0., 0., 0., 0., 0., 0., 0., 0., 0., 0., 0., 0., 0., 0., 0., 0., 0.,\n       0., 0., 0., 0., 0., 0., 0., 0., 0., 0., 0., 0., 0., 0., 0., 0., 0.,\n       0., 0., 0., 0., 0., 0., 0., 0., 0., 0., 0., 0., 0., 0., 0., 0., 0.,\n       0., 0., 0., 0., 0., 0., 0., 0., 0., 0., 0., 0., 0., 0., 0., 0., 0.,\n       0., 0., 0., 0., 0., 0., 0., 0., 0., 0., 0., 0., 0., 0., 0., 0., 0.,\n       0., 0., 0., 0., 0., 0., 0., 0., 0., 0., 0., 0., 0., 0., 0., 0., 0.,\n       0., 0., 0., 0., 0., 0., 0., 0., 0., 0., 0., 0., 0., 0., 0., 0., 0.,\n       0., 0., 0., 0., 0., 0., 0., 0., 0., 0., 0., 0., 0., 0., 0., 0., 0.,\n       0., 0., 0., 0., 0., 0., 0., 0., 0., 0., 0., 0., 0., 0., 0., 0., 0.,\n       0., 0., 0., 0., 0., 0., 0., 0., 0., 0., 0., 0., 0., 0., 0., 0., 0.,\n       0., 0., 0., 0., 0., 0., 0., 0., 0., 0., 0., 0., 0., 0., 0., 0., 0.,\n       0., 0., 0., 0., 0., 0., 0., 0., 0., 0., 0., 0., 0., 0., 0., 0., 0.,\n       0., 0., 0., 0., 0., 0., 0., 0., 0., 0., 0., 0., 0., 0., 0., 0., 0.,\n       0., 0., 0., 0., 0., 0., 0., 0., 0., 0., 0., 0., 0., 0., 0., 0., 0.,\n       0., 0., 0., 0., 0., 0., 0., 0., 0., 0., 0., 0., 0., 0., 0., 0., 0.,\n       0., 0., 0., 0., 0., 0., 0., 0., 0., 0., 0., 0., 0., 0., 0., 0., 0.,\n       0., 0., 0., 0., 0., 0., 0., 0., 0., 0., 0., 0., 0., 0., 0., 0., 0.,\n       0., 0., 0., 0., 0., 0., 0., 0., 0., 0., 0., 0., 0., 0., 0., 0., 0.,\n       0., 0., 0., 0., 0., 0., 0., 0., 0., 0., 0., 0., 0., 0., 0., 0., 0.,\n       0., 0., 0., 0., 0., 0., 0., 0., 0., 0., 0., 0., 0., 0., 0., 0., 0.,\n       0., 0., 0., 0., 0., 0., 0., 0., 0., 0., 0., 0., 0., 0., 0., 0., 0.,\n       0., 0., 0., 0., 0., 0., 0., 0., 0., 0., 0., 0., 0., 0., 0., 0., 0.,\n       0., 0., 0., 0., 0., 0., 0., 0., 0., 0., 0., 0., 0., 0., 0., 0., 0.,\n       0., 0., 0., 0., 0., 0., 0., 0., 0., 0., 0., 0., 0., 0., 0., 0., 0.,\n       0., 0., 0., 0., 0., 0., 0., 0., 0., 0., 0., 0., 0., 0., 0., 0., 0.,\n       0., 0., 0., 0., 0., 0., 0., 0., 0., 0., 0., 0., 0., 0., 0., 0., 0.,\n       0., 0., 0., 0., 0., 0., 0., 0., 0., 0., 0., 0., 0., 0., 0., 0., 0.,\n       0., 0., 0., 0., 0., 0., 0., 0., 0., 0., 0., 0., 0., 0.])"
       },
       "execution_count": 16,
       "metadata": {}
      },
      "follow": [],
      "is_broadcast": false,
      "is_coalescing": false,
      "msg_id": "f779c95c-291e39d1f717da016d232882_19591_124",
      "outputs": [],
      "received": "2022-06-14T13:32:16.216213Z",
      "started": "2022-06-14T13:32:16.182127Z",
      "status": "ok",
      "stderr": "",
      "stdout": "",
      "submitted": "2022-06-14T13:32:16.173098Z"
     },
     "output_type": "display_data"
    },
    {
     "data": {
      "text/plain": [
       "\u001b[0;31mOut[7:16]: \u001b[0m\n",
       "array([0., 0., 0., 0., 0., 0., 0., 0., 0., 0., 0., 0., 0., 0., 0., 0., 0.,\n",
       "       0., 0., 0., 0., 0., 0., 0., 0., 0., 0., 0., 0., 0., 0., 0., 0., 0.,\n",
       "       0., 0., 0., 0., 0., 0., 0., 0., 0., 0., 0., 0., 0., 0., 0., 0., 0.,\n",
       "       0., 0., 0., 0., 0., 0., 0., 0., 0., 0., 0., 0., 0., 0., 0., 0., 0.,\n",
       "       0., 0., 0., 0., 0., 0., 0., 0., 0., 0., 0., 0., 0., 0., 0., 0., 0.,\n",
       "       0., 0., 0., 0., 0., 0., 0., 0., 0., 0., 0., 0., 0., 0., 0., 0., 0.,\n",
       "       0., 0., 0., 0., 0., 0., 0., 0., 0., 0., 0., 0., 0., 0., 0., 0., 0.,\n",
       "       0., 0., 0., 0., 0., 0., 0., 0., 0., 0., 0., 0., 0., 0., 0., 0., 0.,\n",
       "       0., 0., 0., 0., 0., 0., 0., 0., 0., 0., 0., 0., 0., 0., 0., 0., 0.,\n",
       "       0., 0., 0., 0., 0., 0., 0., 0., 0., 0., 0., 0., 0., 0., 0., 0., 0.,\n",
       "       0., 0., 0., 0., 0., 0., 0., 0., 0., 0., 0., 0., 0., 0., 0., 0., 0.,\n",
       "       0., 0., 0., 0., 0., 0., 0., 0., 0., 0., 0., 0., 0., 0., 0., 0., 0.,\n",
       "       0., 0., 0., 0., 0., 0., 0., 0., 0., 0., 0., 0., 0., 0., 0., 0., 0.,\n",
       "       0., 0., 0., 0., 0., 0., 0., 0., 0., 0., 0., 0., 0., 0., 0., 0., 0.,\n",
       "       0., 0., 0., 0., 0., 0., 0., 0., 0., 0., 0., 0., 0., 0., 0., 0., 0.,\n",
       "       0., 0., 0., 0., 0., 0., 0., 0., 0., 0., 0., 0., 0., 0., 0., 0., 0.,\n",
       "       0., 0., 0., 0., 0., 0., 0., 0., 0., 0., 0., 0., 0., 0., 0., 0., 0.,\n",
       "       0., 0., 0., 0., 0., 0., 0., 0., 0., 0., 0., 0., 0., 0., 0., 0., 0.,\n",
       "       0., 0., 0., 0., 0., 0., 0., 0., 0., 0., 0., 0., 0., 0., 0., 0., 0.,\n",
       "       0., 0., 0., 0., 0., 0., 0., 0., 0., 0., 0., 0., 0., 0., 0., 0., 0.,\n",
       "       0., 0., 0., 0., 0., 0., 0., 0., 0., 0., 0., 0., 0., 0., 0., 0., 0.,\n",
       "       0., 0., 0., 0., 0., 0., 0., 0., 0., 0., 0., 0., 0., 0., 0., 0., 0.,\n",
       "       0., 0., 0., 0., 0., 0., 0., 0., 0., 0., 0., 0., 0., 0., 0., 0., 0.,\n",
       "       0., 0., 0., 0., 0., 0., 0., 0., 0., 0., 0., 0., 0., 0., 0., 0., 0.,\n",
       "       0., 0., 0., 0., 0., 0., 0., 0., 0., 0., 0., 0., 0., 0., 0., 0., 0.,\n",
       "       0., 0., 0., 0., 0., 0., 0., 0., 0., 0., 0., 0., 0., 0., 0., 0., 0.,\n",
       "       0., 0., 0., 0., 0., 0., 0., 0., 0., 0., 0., 0., 0., 0., 0., 0., 0.,\n",
       "       0., 0., 0., 0., 0., 0., 0., 0., 0., 0., 0., 0., 0., 0., 0., 0., 0.,\n",
       "       0., 0., 0., 0., 0., 0., 0., 0., 0., 0., 0., 0., 0., 0., 0., 0., 0.,\n",
       "       0., 0., 0., 0., 0., 0., 0., 0., 0., 0., 0., 0., 0., 0., 0., 0., 0.,\n",
       "       0., 0., 0., 0., 0., 0., 0., 0., 0., 0., 0., 0., 0., 0., 0., 0., 0.,\n",
       "       0., 0., 0., 0., 0., 0., 0., 0., 0., 0., 0., 0., 0., 0., 0., 0., 0.,\n",
       "       0., 0., 0., 0., 0., 0., 0., 0., 0., 0., 0., 0., 0., 0., 0., 0., 0.,\n",
       "       0., 0., 0., 0., 0., 0., 0., 0., 0., 0., 0., 0., 0., 0., 0., 0., 0.,\n",
       "       0., 0., 0., 0., 0., 0., 0., 0., 0., 0., 0., 0., 0., 0., 0., 0., 0.,\n",
       "       0., 0., 0., 0., 0., 0., 0., 0., 0., 0., 0., 0., 0., 0., 0., 0., 0.,\n",
       "       0., 0., 0., 0., 0., 0., 0., 0., 0., 0., 0., 0., 0., 0., 0., 0., 0.,\n",
       "       0., 0., 0., 0., 0., 0., 0., 0., 0., 0., 0., 0., 0., 0., 0., 0., 0.,\n",
       "       0., 0., 0., 0., 0., 0., 0., 0., 0., 0., 0., 0., 0., 0., 0., 0., 0.,\n",
       "       0., 0., 0., 0., 0., 0., 0., 0., 0., 0., 0., 0., 0., 0., 0., 0., 0.,\n",
       "       0., 0., 0., 0., 0., 0., 0., 0., 0., 0., 0., 0., 0., 0., 0., 0., 0.,\n",
       "       0., 0., 0., 0., 0., 0., 0., 0., 0., 0., 0., 0., 0., 0., 0., 0., 0.,\n",
       "       0., 0., 0., 0., 0., 0., 0., 0., 0., 0., 0., 0., 0., 0., 0., 0., 0.,\n",
       "       0., 0., 0., 0., 0., 0., 0., 0., 0., 0., 0., 0., 0., 0., 0., 0., 0.,\n",
       "       0., 0., 0., 0., 0., 0., 0., 0., 0., 0., 0., 0., 0., 0., 0., 0., 0.,\n",
       "       0., 0., 0., 0., 0., 0., 0., 0., 0., 0., 0., 0., 0., 0., 0., 0., 0.,\n",
       "       0., 0., 0., 0., 0., 0., 0., 0., 0., 0., 0., 0., 0., 0., 0., 0., 0.,\n",
       "       0., 0., 0., 0., 0., 0., 0., 0., 0., 0., 0., 0., 0., 0., 0., 0., 0.,\n",
       "       0., 0., 0., 0., 0., 0., 0., 0., 0., 0., 0., 0., 0., 0., 0., 0., 0.,\n",
       "       0., 0., 0., 0., 0., 0., 0., 0., 0., 0., 0., 0., 0., 0., 0., 0., 0.,\n",
       "       0., 0., 0., 0., 0., 0., 0., 0., 0., 0., 0., 0., 0., 0., 0., 0., 0.,\n",
       "       0., 0., 0., 0., 0., 0., 0., 0., 0., 0., 0., 0., 0., 0., 0., 0., 0.,\n",
       "       0., 0., 0., 0., 0., 0., 0., 0., 0., 0., 0., 0., 0., 0., 0., 0., 0.,\n",
       "       0., 0., 0., 0., 0., 0., 0., 0., 0., 0., 0., 0., 0., 0., 0., 0., 0.,\n",
       "       0., 0., 0., 0., 0., 0., 0., 0., 0., 0., 0., 0., 0., 0., 0., 0., 0.,\n",
       "       0., 0., 0., 0., 0., 0., 0., 0., 0., 0., 0., 0., 0., 0., 0., 0., 0.,\n",
       "       0., 0., 0., 0., 0., 0., 0., 0., 0., 0., 0., 0., 0., 0., 0., 0., 0.,\n",
       "       0., 0., 0., 0., 0., 0., 0., 0., 0., 0., 0., 0., 0., 0., 0., 0., 0.,\n",
       "       0., 0., 0., 0., 0., 0., 0., 0., 0., 0., 0., 0., 0., 0.])"
      ]
     },
     "metadata": {
      "after": [],
      "completed": "2022-06-14T13:32:16.210192Z",
      "data": {},
      "engine_id": 7,
      "engine_uuid": "86e0317d-f628829d599352a97330813b",
      "error": null,
      "execute_input": "c_full_range\n",
      "execute_result": {
       "data": {
        "text/plain": "array([0., 0., 0., 0., 0., 0., 0., 0., 0., 0., 0., 0., 0., 0., 0., 0., 0.,\n       0., 0., 0., 0., 0., 0., 0., 0., 0., 0., 0., 0., 0., 0., 0., 0., 0.,\n       0., 0., 0., 0., 0., 0., 0., 0., 0., 0., 0., 0., 0., 0., 0., 0., 0.,\n       0., 0., 0., 0., 0., 0., 0., 0., 0., 0., 0., 0., 0., 0., 0., 0., 0.,\n       0., 0., 0., 0., 0., 0., 0., 0., 0., 0., 0., 0., 0., 0., 0., 0., 0.,\n       0., 0., 0., 0., 0., 0., 0., 0., 0., 0., 0., 0., 0., 0., 0., 0., 0.,\n       0., 0., 0., 0., 0., 0., 0., 0., 0., 0., 0., 0., 0., 0., 0., 0., 0.,\n       0., 0., 0., 0., 0., 0., 0., 0., 0., 0., 0., 0., 0., 0., 0., 0., 0.,\n       0., 0., 0., 0., 0., 0., 0., 0., 0., 0., 0., 0., 0., 0., 0., 0., 0.,\n       0., 0., 0., 0., 0., 0., 0., 0., 0., 0., 0., 0., 0., 0., 0., 0., 0.,\n       0., 0., 0., 0., 0., 0., 0., 0., 0., 0., 0., 0., 0., 0., 0., 0., 0.,\n       0., 0., 0., 0., 0., 0., 0., 0., 0., 0., 0., 0., 0., 0., 0., 0., 0.,\n       0., 0., 0., 0., 0., 0., 0., 0., 0., 0., 0., 0., 0., 0., 0., 0., 0.,\n       0., 0., 0., 0., 0., 0., 0., 0., 0., 0., 0., 0., 0., 0., 0., 0., 0.,\n       0., 0., 0., 0., 0., 0., 0., 0., 0., 0., 0., 0., 0., 0., 0., 0., 0.,\n       0., 0., 0., 0., 0., 0., 0., 0., 0., 0., 0., 0., 0., 0., 0., 0., 0.,\n       0., 0., 0., 0., 0., 0., 0., 0., 0., 0., 0., 0., 0., 0., 0., 0., 0.,\n       0., 0., 0., 0., 0., 0., 0., 0., 0., 0., 0., 0., 0., 0., 0., 0., 0.,\n       0., 0., 0., 0., 0., 0., 0., 0., 0., 0., 0., 0., 0., 0., 0., 0., 0.,\n       0., 0., 0., 0., 0., 0., 0., 0., 0., 0., 0., 0., 0., 0., 0., 0., 0.,\n       0., 0., 0., 0., 0., 0., 0., 0., 0., 0., 0., 0., 0., 0., 0., 0., 0.,\n       0., 0., 0., 0., 0., 0., 0., 0., 0., 0., 0., 0., 0., 0., 0., 0., 0.,\n       0., 0., 0., 0., 0., 0., 0., 0., 0., 0., 0., 0., 0., 0., 0., 0., 0.,\n       0., 0., 0., 0., 0., 0., 0., 0., 0., 0., 0., 0., 0., 0., 0., 0., 0.,\n       0., 0., 0., 0., 0., 0., 0., 0., 0., 0., 0., 0., 0., 0., 0., 0., 0.,\n       0., 0., 0., 0., 0., 0., 0., 0., 0., 0., 0., 0., 0., 0., 0., 0., 0.,\n       0., 0., 0., 0., 0., 0., 0., 0., 0., 0., 0., 0., 0., 0., 0., 0., 0.,\n       0., 0., 0., 0., 0., 0., 0., 0., 0., 0., 0., 0., 0., 0., 0., 0., 0.,\n       0., 0., 0., 0., 0., 0., 0., 0., 0., 0., 0., 0., 0., 0., 0., 0., 0.,\n       0., 0., 0., 0., 0., 0., 0., 0., 0., 0., 0., 0., 0., 0., 0., 0., 0.,\n       0., 0., 0., 0., 0., 0., 0., 0., 0., 0., 0., 0., 0., 0., 0., 0., 0.,\n       0., 0., 0., 0., 0., 0., 0., 0., 0., 0., 0., 0., 0., 0., 0., 0., 0.,\n       0., 0., 0., 0., 0., 0., 0., 0., 0., 0., 0., 0., 0., 0., 0., 0., 0.,\n       0., 0., 0., 0., 0., 0., 0., 0., 0., 0., 0., 0., 0., 0., 0., 0., 0.,\n       0., 0., 0., 0., 0., 0., 0., 0., 0., 0., 0., 0., 0., 0., 0., 0., 0.,\n       0., 0., 0., 0., 0., 0., 0., 0., 0., 0., 0., 0., 0., 0., 0., 0., 0.,\n       0., 0., 0., 0., 0., 0., 0., 0., 0., 0., 0., 0., 0., 0., 0., 0., 0.,\n       0., 0., 0., 0., 0., 0., 0., 0., 0., 0., 0., 0., 0., 0., 0., 0., 0.,\n       0., 0., 0., 0., 0., 0., 0., 0., 0., 0., 0., 0., 0., 0., 0., 0., 0.,\n       0., 0., 0., 0., 0., 0., 0., 0., 0., 0., 0., 0., 0., 0., 0., 0., 0.,\n       0., 0., 0., 0., 0., 0., 0., 0., 0., 0., 0., 0., 0., 0., 0., 0., 0.,\n       0., 0., 0., 0., 0., 0., 0., 0., 0., 0., 0., 0., 0., 0., 0., 0., 0.,\n       0., 0., 0., 0., 0., 0., 0., 0., 0., 0., 0., 0., 0., 0., 0., 0., 0.,\n       0., 0., 0., 0., 0., 0., 0., 0., 0., 0., 0., 0., 0., 0., 0., 0., 0.,\n       0., 0., 0., 0., 0., 0., 0., 0., 0., 0., 0., 0., 0., 0., 0., 0., 0.,\n       0., 0., 0., 0., 0., 0., 0., 0., 0., 0., 0., 0., 0., 0., 0., 0., 0.,\n       0., 0., 0., 0., 0., 0., 0., 0., 0., 0., 0., 0., 0., 0., 0., 0., 0.,\n       0., 0., 0., 0., 0., 0., 0., 0., 0., 0., 0., 0., 0., 0., 0., 0., 0.,\n       0., 0., 0., 0., 0., 0., 0., 0., 0., 0., 0., 0., 0., 0., 0., 0., 0.,\n       0., 0., 0., 0., 0., 0., 0., 0., 0., 0., 0., 0., 0., 0., 0., 0., 0.,\n       0., 0., 0., 0., 0., 0., 0., 0., 0., 0., 0., 0., 0., 0., 0., 0., 0.,\n       0., 0., 0., 0., 0., 0., 0., 0., 0., 0., 0., 0., 0., 0., 0., 0., 0.,\n       0., 0., 0., 0., 0., 0., 0., 0., 0., 0., 0., 0., 0., 0., 0., 0., 0.,\n       0., 0., 0., 0., 0., 0., 0., 0., 0., 0., 0., 0., 0., 0., 0., 0., 0.,\n       0., 0., 0., 0., 0., 0., 0., 0., 0., 0., 0., 0., 0., 0., 0., 0., 0.,\n       0., 0., 0., 0., 0., 0., 0., 0., 0., 0., 0., 0., 0., 0., 0., 0., 0.,\n       0., 0., 0., 0., 0., 0., 0., 0., 0., 0., 0., 0., 0., 0., 0., 0., 0.,\n       0., 0., 0., 0., 0., 0., 0., 0., 0., 0., 0., 0., 0., 0., 0., 0., 0.,\n       0., 0., 0., 0., 0., 0., 0., 0., 0., 0., 0., 0., 0., 0.])"
       },
       "execution_count": 16,
       "metadata": {}
      },
      "follow": [],
      "is_broadcast": false,
      "is_coalescing": false,
      "msg_id": "f779c95c-291e39d1f717da016d232882_19591_128",
      "outputs": [],
      "received": "2022-06-14T13:32:16.219739Z",
      "started": "2022-06-14T13:32:16.193950Z",
      "status": "ok",
      "stderr": "",
      "stdout": "",
      "submitted": "2022-06-14T13:32:16.173709Z"
     },
     "output_type": "display_data"
    },
    {
     "data": {
      "text/plain": [
       "\u001b[0;31mOut[4:16]: \u001b[0m\n",
       "array([0., 0., 0., 0., 0., 0., 0., 0., 0., 0., 0., 0., 0., 0., 0., 0., 0.,\n",
       "       0., 0., 0., 0., 0., 0., 0., 0., 0., 0., 0., 0., 0., 0., 0., 0., 0.,\n",
       "       0., 0., 0., 0., 0., 0., 0., 0., 0., 0., 0., 0., 0., 0., 0., 0., 0.,\n",
       "       0., 0., 0., 0., 0., 0., 0., 0., 0., 0., 0., 0., 0., 0., 0., 0., 0.,\n",
       "       0., 0., 0., 0., 0., 0., 0., 0., 0., 0., 0., 0., 0., 0., 0., 0., 0.,\n",
       "       0., 0., 0., 0., 0., 0., 0., 0., 0., 0., 0., 0., 0., 0., 0., 0., 0.,\n",
       "       0., 0., 0., 0., 0., 0., 0., 0., 0., 0., 0., 0., 0., 0., 0., 0., 0.,\n",
       "       0., 0., 0., 0., 0., 0., 0., 0., 0., 0., 0., 0., 0., 0., 0., 0., 0.,\n",
       "       0., 0., 0., 0., 0., 0., 0., 0., 0., 0., 0., 0., 0., 0., 0., 0., 0.,\n",
       "       0., 0., 0., 0., 0., 0., 0., 0., 0., 0., 0., 0., 0., 0., 0., 0., 0.,\n",
       "       0., 0., 0., 0., 0., 0., 0., 0., 0., 0., 0., 0., 0., 0., 0., 0., 0.,\n",
       "       0., 0., 0., 0., 0., 0., 0., 0., 0., 0., 0., 0., 0., 0., 0., 0., 0.,\n",
       "       0., 0., 0., 0., 0., 0., 0., 0., 0., 0., 0., 0., 0., 0., 0., 0., 0.,\n",
       "       0., 0., 0., 0., 0., 0., 0., 0., 0., 0., 0., 0., 0., 0., 0., 0., 0.,\n",
       "       0., 0., 0., 0., 0., 0., 0., 0., 0., 0., 0., 0., 0., 0., 0., 0., 0.,\n",
       "       0., 0., 0., 0., 0., 0., 0., 0., 0., 0., 0., 0., 0., 0., 0., 0., 0.,\n",
       "       0., 0., 0., 0., 0., 0., 0., 0., 0., 0., 0., 0., 0., 0., 0., 0., 0.,\n",
       "       0., 0., 0., 0., 0., 0., 0., 0., 0., 0., 0., 0., 0., 0., 0., 0., 0.,\n",
       "       0., 0., 0., 0., 0., 0., 0., 0., 0., 0., 0., 0., 0., 0., 0., 0., 0.,\n",
       "       0., 0., 0., 0., 0., 0., 0., 0., 0., 0., 0., 0., 0., 0., 0., 0., 0.,\n",
       "       0., 0., 0., 0., 0., 0., 0., 0., 0., 0., 0., 0., 0., 0., 0., 0., 0.,\n",
       "       0., 0., 0., 0., 0., 0., 0., 0., 0., 0., 0., 0., 0., 0., 0., 0., 0.,\n",
       "       0., 0., 0., 0., 0., 0., 0., 0., 0., 0., 0., 0., 0., 0., 0., 0., 0.,\n",
       "       0., 0., 0., 0., 0., 0., 0., 0., 0., 0., 0., 0., 0., 0., 0., 0., 0.,\n",
       "       0., 0., 0., 0., 0., 0., 0., 0., 0., 0., 0., 0., 0., 0., 0., 0., 0.,\n",
       "       0., 0., 0., 0., 0., 0., 0., 0., 0., 0., 0., 0., 0., 0., 0., 0., 0.,\n",
       "       0., 0., 0., 0., 0., 0., 0., 0., 0., 0., 0., 0., 0., 0., 0., 0., 0.,\n",
       "       0., 0., 0., 0., 0., 0., 0., 0., 0., 0., 0., 0., 0., 0., 0., 0., 0.,\n",
       "       0., 0., 0., 0., 0., 0., 0., 0., 0., 0., 0., 0., 0., 0., 0., 0., 0.,\n",
       "       0., 0., 0., 0., 0., 0., 0., 0., 0., 0., 0., 0., 0., 0., 0., 0., 0.,\n",
       "       0., 0., 0., 0., 0., 0., 0., 0., 0., 0., 0., 0., 0., 0., 0., 0., 0.,\n",
       "       0., 0., 0., 0., 0., 0., 0., 0., 0., 0., 0., 0., 0., 0., 0., 0., 0.,\n",
       "       0., 0., 0., 0., 0., 0., 0., 0., 0., 0., 0., 0., 0., 0., 0., 0., 0.,\n",
       "       0., 0., 0., 0., 0., 0., 0., 0., 0., 0., 0., 0., 0., 0., 0., 0., 0.,\n",
       "       0., 0., 0., 0., 0., 0., 0., 0., 0., 0., 0., 0., 0., 0., 0., 0., 0.,\n",
       "       0., 0., 0., 0., 0., 0., 0., 0., 0., 0., 0., 0., 0., 0., 0., 0., 0.,\n",
       "       0., 0., 0., 0., 0., 0., 0., 0., 0., 0., 0., 0., 0., 0., 0., 0., 0.,\n",
       "       0., 0., 0., 0., 0., 0., 0., 0., 0., 0., 0., 0., 0., 0., 0., 0., 0.,\n",
       "       0., 0., 0., 0., 0., 0., 0., 0., 0., 0., 0., 0., 0., 0., 0., 0., 0.,\n",
       "       0., 0., 0., 0., 0., 0., 0., 0., 0., 0., 0., 0., 0., 0., 0., 0., 0.,\n",
       "       0., 0., 0., 0., 0., 0., 0., 0., 0., 0., 0., 0., 0., 0., 0., 0., 0.,\n",
       "       0., 0., 0., 0., 0., 0., 0., 0., 0., 0., 0., 0., 0., 0., 0., 0., 0.,\n",
       "       0., 0., 0., 0., 0., 0., 0., 0., 0., 0., 0., 0., 0., 0., 0., 0., 0.,\n",
       "       0., 0., 0., 0., 0., 0., 0., 0., 0., 0., 0., 0., 0., 0., 0., 0., 0.,\n",
       "       0., 0., 0., 0., 0., 0., 0., 0., 0., 0., 0., 0., 0., 0., 0., 0., 0.,\n",
       "       0., 0., 0., 0., 0., 0., 0., 0., 0., 0., 0., 0., 0., 0., 0., 0., 0.,\n",
       "       0., 0., 0., 0., 0., 0., 0., 0., 0., 0., 0., 0., 0., 0., 0., 0., 0.,\n",
       "       0., 0., 0., 0., 0., 0., 0., 0., 0., 0., 0., 0., 0., 0., 0., 0., 0.,\n",
       "       0., 0., 0., 0., 0., 0., 0., 0., 0., 0., 0., 0., 0., 0., 0., 0., 0.,\n",
       "       0., 0., 0., 0., 0., 0., 0., 0., 0., 0., 0., 0., 0., 0., 0., 0., 0.,\n",
       "       0., 0., 0., 0., 0., 0., 0., 0., 0., 0., 0., 0., 0., 0., 0., 0., 0.,\n",
       "       0., 0., 0., 0., 0., 0., 0., 0., 0., 0., 0., 0., 0., 0., 0., 0., 0.,\n",
       "       0., 0., 0., 0., 0., 0., 0., 0., 0., 0., 0., 0., 0., 0., 0., 0., 0.,\n",
       "       0., 0., 0., 0., 0., 0., 0., 0., 0., 0., 0., 0., 0., 0., 0., 0., 0.,\n",
       "       0., 0., 0., 0., 0., 0., 0., 0., 0., 0., 0., 0., 0., 0., 0., 0., 0.,\n",
       "       0., 0., 0., 0., 0., 0., 0., 0., 0., 0., 0., 0., 0., 0., 0., 0., 0.,\n",
       "       0., 0., 0., 0., 0., 0., 0., 0., 0., 0., 0., 0., 0., 0., 0., 0., 0.,\n",
       "       0., 0., 0., 0., 0., 0., 0., 0., 0., 0., 0., 0., 0., 0., 0., 0., 0.,\n",
       "       0., 0., 0., 0., 0., 0., 0., 0., 0., 0., 0., 0., 0., 0.])"
      ]
     },
     "metadata": {
      "after": [],
      "completed": "2022-06-14T13:32:16.209632Z",
      "data": {},
      "engine_id": 4,
      "engine_uuid": "d58cde31-50c8c039d40168eb151b766d",
      "error": null,
      "execute_input": "c_full_range\n",
      "execute_result": {
       "data": {
        "text/plain": "array([0., 0., 0., 0., 0., 0., 0., 0., 0., 0., 0., 0., 0., 0., 0., 0., 0.,\n       0., 0., 0., 0., 0., 0., 0., 0., 0., 0., 0., 0., 0., 0., 0., 0., 0.,\n       0., 0., 0., 0., 0., 0., 0., 0., 0., 0., 0., 0., 0., 0., 0., 0., 0.,\n       0., 0., 0., 0., 0., 0., 0., 0., 0., 0., 0., 0., 0., 0., 0., 0., 0.,\n       0., 0., 0., 0., 0., 0., 0., 0., 0., 0., 0., 0., 0., 0., 0., 0., 0.,\n       0., 0., 0., 0., 0., 0., 0., 0., 0., 0., 0., 0., 0., 0., 0., 0., 0.,\n       0., 0., 0., 0., 0., 0., 0., 0., 0., 0., 0., 0., 0., 0., 0., 0., 0.,\n       0., 0., 0., 0., 0., 0., 0., 0., 0., 0., 0., 0., 0., 0., 0., 0., 0.,\n       0., 0., 0., 0., 0., 0., 0., 0., 0., 0., 0., 0., 0., 0., 0., 0., 0.,\n       0., 0., 0., 0., 0., 0., 0., 0., 0., 0., 0., 0., 0., 0., 0., 0., 0.,\n       0., 0., 0., 0., 0., 0., 0., 0., 0., 0., 0., 0., 0., 0., 0., 0., 0.,\n       0., 0., 0., 0., 0., 0., 0., 0., 0., 0., 0., 0., 0., 0., 0., 0., 0.,\n       0., 0., 0., 0., 0., 0., 0., 0., 0., 0., 0., 0., 0., 0., 0., 0., 0.,\n       0., 0., 0., 0., 0., 0., 0., 0., 0., 0., 0., 0., 0., 0., 0., 0., 0.,\n       0., 0., 0., 0., 0., 0., 0., 0., 0., 0., 0., 0., 0., 0., 0., 0., 0.,\n       0., 0., 0., 0., 0., 0., 0., 0., 0., 0., 0., 0., 0., 0., 0., 0., 0.,\n       0., 0., 0., 0., 0., 0., 0., 0., 0., 0., 0., 0., 0., 0., 0., 0., 0.,\n       0., 0., 0., 0., 0., 0., 0., 0., 0., 0., 0., 0., 0., 0., 0., 0., 0.,\n       0., 0., 0., 0., 0., 0., 0., 0., 0., 0., 0., 0., 0., 0., 0., 0., 0.,\n       0., 0., 0., 0., 0., 0., 0., 0., 0., 0., 0., 0., 0., 0., 0., 0., 0.,\n       0., 0., 0., 0., 0., 0., 0., 0., 0., 0., 0., 0., 0., 0., 0., 0., 0.,\n       0., 0., 0., 0., 0., 0., 0., 0., 0., 0., 0., 0., 0., 0., 0., 0., 0.,\n       0., 0., 0., 0., 0., 0., 0., 0., 0., 0., 0., 0., 0., 0., 0., 0., 0.,\n       0., 0., 0., 0., 0., 0., 0., 0., 0., 0., 0., 0., 0., 0., 0., 0., 0.,\n       0., 0., 0., 0., 0., 0., 0., 0., 0., 0., 0., 0., 0., 0., 0., 0., 0.,\n       0., 0., 0., 0., 0., 0., 0., 0., 0., 0., 0., 0., 0., 0., 0., 0., 0.,\n       0., 0., 0., 0., 0., 0., 0., 0., 0., 0., 0., 0., 0., 0., 0., 0., 0.,\n       0., 0., 0., 0., 0., 0., 0., 0., 0., 0., 0., 0., 0., 0., 0., 0., 0.,\n       0., 0., 0., 0., 0., 0., 0., 0., 0., 0., 0., 0., 0., 0., 0., 0., 0.,\n       0., 0., 0., 0., 0., 0., 0., 0., 0., 0., 0., 0., 0., 0., 0., 0., 0.,\n       0., 0., 0., 0., 0., 0., 0., 0., 0., 0., 0., 0., 0., 0., 0., 0., 0.,\n       0., 0., 0., 0., 0., 0., 0., 0., 0., 0., 0., 0., 0., 0., 0., 0., 0.,\n       0., 0., 0., 0., 0., 0., 0., 0., 0., 0., 0., 0., 0., 0., 0., 0., 0.,\n       0., 0., 0., 0., 0., 0., 0., 0., 0., 0., 0., 0., 0., 0., 0., 0., 0.,\n       0., 0., 0., 0., 0., 0., 0., 0., 0., 0., 0., 0., 0., 0., 0., 0., 0.,\n       0., 0., 0., 0., 0., 0., 0., 0., 0., 0., 0., 0., 0., 0., 0., 0., 0.,\n       0., 0., 0., 0., 0., 0., 0., 0., 0., 0., 0., 0., 0., 0., 0., 0., 0.,\n       0., 0., 0., 0., 0., 0., 0., 0., 0., 0., 0., 0., 0., 0., 0., 0., 0.,\n       0., 0., 0., 0., 0., 0., 0., 0., 0., 0., 0., 0., 0., 0., 0., 0., 0.,\n       0., 0., 0., 0., 0., 0., 0., 0., 0., 0., 0., 0., 0., 0., 0., 0., 0.,\n       0., 0., 0., 0., 0., 0., 0., 0., 0., 0., 0., 0., 0., 0., 0., 0., 0.,\n       0., 0., 0., 0., 0., 0., 0., 0., 0., 0., 0., 0., 0., 0., 0., 0., 0.,\n       0., 0., 0., 0., 0., 0., 0., 0., 0., 0., 0., 0., 0., 0., 0., 0., 0.,\n       0., 0., 0., 0., 0., 0., 0., 0., 0., 0., 0., 0., 0., 0., 0., 0., 0.,\n       0., 0., 0., 0., 0., 0., 0., 0., 0., 0., 0., 0., 0., 0., 0., 0., 0.,\n       0., 0., 0., 0., 0., 0., 0., 0., 0., 0., 0., 0., 0., 0., 0., 0., 0.,\n       0., 0., 0., 0., 0., 0., 0., 0., 0., 0., 0., 0., 0., 0., 0., 0., 0.,\n       0., 0., 0., 0., 0., 0., 0., 0., 0., 0., 0., 0., 0., 0., 0., 0., 0.,\n       0., 0., 0., 0., 0., 0., 0., 0., 0., 0., 0., 0., 0., 0., 0., 0., 0.,\n       0., 0., 0., 0., 0., 0., 0., 0., 0., 0., 0., 0., 0., 0., 0., 0., 0.,\n       0., 0., 0., 0., 0., 0., 0., 0., 0., 0., 0., 0., 0., 0., 0., 0., 0.,\n       0., 0., 0., 0., 0., 0., 0., 0., 0., 0., 0., 0., 0., 0., 0., 0., 0.,\n       0., 0., 0., 0., 0., 0., 0., 0., 0., 0., 0., 0., 0., 0., 0., 0., 0.,\n       0., 0., 0., 0., 0., 0., 0., 0., 0., 0., 0., 0., 0., 0., 0., 0., 0.,\n       0., 0., 0., 0., 0., 0., 0., 0., 0., 0., 0., 0., 0., 0., 0., 0., 0.,\n       0., 0., 0., 0., 0., 0., 0., 0., 0., 0., 0., 0., 0., 0., 0., 0., 0.,\n       0., 0., 0., 0., 0., 0., 0., 0., 0., 0., 0., 0., 0., 0., 0., 0., 0.,\n       0., 0., 0., 0., 0., 0., 0., 0., 0., 0., 0., 0., 0., 0., 0., 0., 0.,\n       0., 0., 0., 0., 0., 0., 0., 0., 0., 0., 0., 0., 0., 0.])"
       },
       "execution_count": 16,
       "metadata": {}
      },
      "follow": [],
      "is_broadcast": false,
      "is_coalescing": false,
      "msg_id": "f779c95c-291e39d1f717da016d232882_19591_125",
      "outputs": [],
      "received": "2022-06-14T13:32:16.217469Z",
      "started": "2022-06-14T13:32:16.189632Z",
      "status": "ok",
      "stderr": "",
      "stdout": "",
      "submitted": "2022-06-14T13:32:16.173200Z"
     },
     "output_type": "display_data"
    },
    {
     "data": {
      "text/plain": [
       "\u001b[0;31mOut[5:16]: \u001b[0m\n",
       "array([0., 0., 0., 0., 0., 0., 0., 0., 0., 0., 0., 0., 0., 0., 0., 0., 0.,\n",
       "       0., 0., 0., 0., 0., 0., 0., 0., 0., 0., 0., 0., 0., 0., 0., 0., 0.,\n",
       "       0., 0., 0., 0., 0., 0., 0., 0., 0., 0., 0., 0., 0., 0., 0., 0., 0.,\n",
       "       0., 0., 0., 0., 0., 0., 0., 0., 0., 0., 0., 0., 0., 0., 0., 0., 0.,\n",
       "       0., 0., 0., 0., 0., 0., 0., 0., 0., 0., 0., 0., 0., 0., 0., 0., 0.,\n",
       "       0., 0., 0., 0., 0., 0., 0., 0., 0., 0., 0., 0., 0., 0., 0., 0., 0.,\n",
       "       0., 0., 0., 0., 0., 0., 0., 0., 0., 0., 0., 0., 0., 0., 0., 0., 0.,\n",
       "       0., 0., 0., 0., 0., 0., 0., 0., 0., 0., 0., 0., 0., 0., 0., 0., 0.,\n",
       "       0., 0., 0., 0., 0., 0., 0., 0., 0., 0., 0., 0., 0., 0., 0., 0., 0.,\n",
       "       0., 0., 0., 0., 0., 0., 0., 0., 0., 0., 0., 0., 0., 0., 0., 0., 0.,\n",
       "       0., 0., 0., 0., 0., 0., 0., 0., 0., 0., 0., 0., 0., 0., 0., 0., 0.,\n",
       "       0., 0., 0., 0., 0., 0., 0., 0., 0., 0., 0., 0., 0., 0., 0., 0., 0.,\n",
       "       0., 0., 0., 0., 0., 0., 0., 0., 0., 0., 0., 0., 0., 0., 0., 0., 0.,\n",
       "       0., 0., 0., 0., 0., 0., 0., 0., 0., 0., 0., 0., 0., 0., 0., 0., 0.,\n",
       "       0., 0., 0., 0., 0., 0., 0., 0., 0., 0., 0., 0., 0., 0., 0., 0., 0.,\n",
       "       0., 0., 0., 0., 0., 0., 0., 0., 0., 0., 0., 0., 0., 0., 0., 0., 0.,\n",
       "       0., 0., 0., 0., 0., 0., 0., 0., 0., 0., 0., 0., 0., 0., 0., 0., 0.,\n",
       "       0., 0., 0., 0., 0., 0., 0., 0., 0., 0., 0., 0., 0., 0., 0., 0., 0.,\n",
       "       0., 0., 0., 0., 0., 0., 0., 0., 0., 0., 0., 0., 0., 0., 0., 0., 0.,\n",
       "       0., 0., 0., 0., 0., 0., 0., 0., 0., 0., 0., 0., 0., 0., 0., 0., 0.,\n",
       "       0., 0., 0., 0., 0., 0., 0., 0., 0., 0., 0., 0., 0., 0., 0., 0., 0.,\n",
       "       0., 0., 0., 0., 0., 0., 0., 0., 0., 0., 0., 0., 0., 0., 0., 0., 0.,\n",
       "       0., 0., 0., 0., 0., 0., 0., 0., 0., 0., 0., 0., 0., 0., 0., 0., 0.,\n",
       "       0., 0., 0., 0., 0., 0., 0., 0., 0., 0., 0., 0., 0., 0., 0., 0., 0.,\n",
       "       0., 0., 0., 0., 0., 0., 0., 0., 0., 0., 0., 0., 0., 0., 0., 0., 0.,\n",
       "       0., 0., 0., 0., 0., 0., 0., 0., 0., 0., 0., 0., 0., 0., 0., 0., 0.,\n",
       "       0., 0., 0., 0., 0., 0., 0., 0., 0., 0., 0., 0., 0., 0., 0., 0., 0.,\n",
       "       0., 0., 0., 0., 0., 0., 0., 0., 0., 0., 0., 0., 0., 0., 0., 0., 0.,\n",
       "       0., 0., 0., 0., 0., 0., 0., 0., 0., 0., 0., 0., 0., 0., 0., 0., 0.,\n",
       "       0., 0., 0., 0., 0., 0., 0., 0., 0., 0., 0., 0., 0., 0., 0., 0., 0.,\n",
       "       0., 0., 0., 0., 0., 0., 0., 0., 0., 0., 0., 0., 0., 0., 0., 0., 0.,\n",
       "       0., 0., 0., 0., 0., 0., 0., 0., 0., 0., 0., 0., 0., 0., 0., 0., 0.,\n",
       "       0., 0., 0., 0., 0., 0., 0., 0., 0., 0., 0., 0., 0., 0., 0., 0., 0.,\n",
       "       0., 0., 0., 0., 0., 0., 0., 0., 0., 0., 0., 0., 0., 0., 0., 0., 0.,\n",
       "       0., 0., 0., 0., 0., 0., 0., 0., 0., 0., 0., 0., 0., 0., 0., 0., 0.,\n",
       "       0., 0., 0., 0., 0., 0., 0., 0., 0., 0., 0., 0., 0., 0., 0., 0., 0.,\n",
       "       0., 0., 0., 0., 0., 0., 0., 0., 0., 0., 0., 0., 0., 0., 0., 0., 0.,\n",
       "       0., 0., 0., 0., 0., 0., 0., 0., 0., 0., 0., 0., 0., 0., 0., 0., 0.,\n",
       "       0., 0., 0., 0., 0., 0., 0., 0., 0., 0., 0., 0., 0., 0., 0., 0., 0.,\n",
       "       0., 0., 0., 0., 0., 0., 0., 0., 0., 0., 0., 0., 0., 0., 0., 0., 0.,\n",
       "       0., 0., 0., 0., 0., 0., 0., 0., 0., 0., 0., 0., 0., 0., 0., 0., 0.,\n",
       "       0., 0., 0., 0., 0., 0., 0., 0., 0., 0., 0., 0., 0., 0., 0., 0., 0.,\n",
       "       0., 0., 0., 0., 0., 0., 0., 0., 0., 0., 0., 0., 0., 0., 0., 0., 0.,\n",
       "       0., 0., 0., 0., 0., 0., 0., 0., 0., 0., 0., 0., 0., 0., 0., 0., 0.,\n",
       "       0., 0., 0., 0., 0., 0., 0., 0., 0., 0., 0., 0., 0., 0., 0., 0., 0.,\n",
       "       0., 0., 0., 0., 0., 0., 0., 0., 0., 0., 0., 0., 0., 0., 0., 0., 0.,\n",
       "       0., 0., 0., 0., 0., 0., 0., 0., 0., 0., 0., 0., 0., 0., 0., 0., 0.,\n",
       "       0., 0., 0., 0., 0., 0., 0., 0., 0., 0., 0., 0., 0., 0., 0., 0., 0.,\n",
       "       0., 0., 0., 0., 0., 0., 0., 0., 0., 0., 0., 0., 0., 0., 0., 0., 0.,\n",
       "       0., 0., 0., 0., 0., 0., 0., 0., 0., 0., 0., 0., 0., 0., 0., 0., 0.,\n",
       "       0., 0., 0., 0., 0., 0., 0., 0., 0., 0., 0., 0., 0., 0., 0., 0., 0.,\n",
       "       0., 0., 0., 0., 0., 0., 0., 0., 0., 0., 0., 0., 0., 0., 0., 0., 0.,\n",
       "       0., 0., 0., 0., 0., 0., 0., 0., 0., 0., 0., 0., 0., 0., 0., 0., 0.,\n",
       "       0., 0., 0., 0., 0., 0., 0., 0., 0., 0., 0., 0., 0., 0., 0., 0., 0.,\n",
       "       0., 0., 0., 0., 0., 0., 0., 0., 0., 0., 0., 0., 0., 0., 0., 0., 0.,\n",
       "       0., 0., 0., 0., 0., 0., 0., 0., 0., 0., 0., 0., 0., 0., 0., 0., 0.,\n",
       "       0., 0., 0., 0., 0., 0., 0., 0., 0., 0., 0., 0., 0., 0., 0., 0., 0.,\n",
       "       0., 0., 0., 0., 0., 0., 0., 0., 0., 0., 0., 0., 0., 0., 0., 0., 0.,\n",
       "       0., 0., 0., 0., 0., 0., 0., 0., 0., 0., 0., 0., 0., 0.])"
      ]
     },
     "metadata": {
      "after": [],
      "completed": "2022-06-14T13:32:16.210039Z",
      "data": {},
      "engine_id": 5,
      "engine_uuid": "5945294b-f0727d7acbe8e9f05769db0c",
      "error": null,
      "execute_input": "c_full_range\n",
      "execute_result": {
       "data": {
        "text/plain": "array([0., 0., 0., 0., 0., 0., 0., 0., 0., 0., 0., 0., 0., 0., 0., 0., 0.,\n       0., 0., 0., 0., 0., 0., 0., 0., 0., 0., 0., 0., 0., 0., 0., 0., 0.,\n       0., 0., 0., 0., 0., 0., 0., 0., 0., 0., 0., 0., 0., 0., 0., 0., 0.,\n       0., 0., 0., 0., 0., 0., 0., 0., 0., 0., 0., 0., 0., 0., 0., 0., 0.,\n       0., 0., 0., 0., 0., 0., 0., 0., 0., 0., 0., 0., 0., 0., 0., 0., 0.,\n       0., 0., 0., 0., 0., 0., 0., 0., 0., 0., 0., 0., 0., 0., 0., 0., 0.,\n       0., 0., 0., 0., 0., 0., 0., 0., 0., 0., 0., 0., 0., 0., 0., 0., 0.,\n       0., 0., 0., 0., 0., 0., 0., 0., 0., 0., 0., 0., 0., 0., 0., 0., 0.,\n       0., 0., 0., 0., 0., 0., 0., 0., 0., 0., 0., 0., 0., 0., 0., 0., 0.,\n       0., 0., 0., 0., 0., 0., 0., 0., 0., 0., 0., 0., 0., 0., 0., 0., 0.,\n       0., 0., 0., 0., 0., 0., 0., 0., 0., 0., 0., 0., 0., 0., 0., 0., 0.,\n       0., 0., 0., 0., 0., 0., 0., 0., 0., 0., 0., 0., 0., 0., 0., 0., 0.,\n       0., 0., 0., 0., 0., 0., 0., 0., 0., 0., 0., 0., 0., 0., 0., 0., 0.,\n       0., 0., 0., 0., 0., 0., 0., 0., 0., 0., 0., 0., 0., 0., 0., 0., 0.,\n       0., 0., 0., 0., 0., 0., 0., 0., 0., 0., 0., 0., 0., 0., 0., 0., 0.,\n       0., 0., 0., 0., 0., 0., 0., 0., 0., 0., 0., 0., 0., 0., 0., 0., 0.,\n       0., 0., 0., 0., 0., 0., 0., 0., 0., 0., 0., 0., 0., 0., 0., 0., 0.,\n       0., 0., 0., 0., 0., 0., 0., 0., 0., 0., 0., 0., 0., 0., 0., 0., 0.,\n       0., 0., 0., 0., 0., 0., 0., 0., 0., 0., 0., 0., 0., 0., 0., 0., 0.,\n       0., 0., 0., 0., 0., 0., 0., 0., 0., 0., 0., 0., 0., 0., 0., 0., 0.,\n       0., 0., 0., 0., 0., 0., 0., 0., 0., 0., 0., 0., 0., 0., 0., 0., 0.,\n       0., 0., 0., 0., 0., 0., 0., 0., 0., 0., 0., 0., 0., 0., 0., 0., 0.,\n       0., 0., 0., 0., 0., 0., 0., 0., 0., 0., 0., 0., 0., 0., 0., 0., 0.,\n       0., 0., 0., 0., 0., 0., 0., 0., 0., 0., 0., 0., 0., 0., 0., 0., 0.,\n       0., 0., 0., 0., 0., 0., 0., 0., 0., 0., 0., 0., 0., 0., 0., 0., 0.,\n       0., 0., 0., 0., 0., 0., 0., 0., 0., 0., 0., 0., 0., 0., 0., 0., 0.,\n       0., 0., 0., 0., 0., 0., 0., 0., 0., 0., 0., 0., 0., 0., 0., 0., 0.,\n       0., 0., 0., 0., 0., 0., 0., 0., 0., 0., 0., 0., 0., 0., 0., 0., 0.,\n       0., 0., 0., 0., 0., 0., 0., 0., 0., 0., 0., 0., 0., 0., 0., 0., 0.,\n       0., 0., 0., 0., 0., 0., 0., 0., 0., 0., 0., 0., 0., 0., 0., 0., 0.,\n       0., 0., 0., 0., 0., 0., 0., 0., 0., 0., 0., 0., 0., 0., 0., 0., 0.,\n       0., 0., 0., 0., 0., 0., 0., 0., 0., 0., 0., 0., 0., 0., 0., 0., 0.,\n       0., 0., 0., 0., 0., 0., 0., 0., 0., 0., 0., 0., 0., 0., 0., 0., 0.,\n       0., 0., 0., 0., 0., 0., 0., 0., 0., 0., 0., 0., 0., 0., 0., 0., 0.,\n       0., 0., 0., 0., 0., 0., 0., 0., 0., 0., 0., 0., 0., 0., 0., 0., 0.,\n       0., 0., 0., 0., 0., 0., 0., 0., 0., 0., 0., 0., 0., 0., 0., 0., 0.,\n       0., 0., 0., 0., 0., 0., 0., 0., 0., 0., 0., 0., 0., 0., 0., 0., 0.,\n       0., 0., 0., 0., 0., 0., 0., 0., 0., 0., 0., 0., 0., 0., 0., 0., 0.,\n       0., 0., 0., 0., 0., 0., 0., 0., 0., 0., 0., 0., 0., 0., 0., 0., 0.,\n       0., 0., 0., 0., 0., 0., 0., 0., 0., 0., 0., 0., 0., 0., 0., 0., 0.,\n       0., 0., 0., 0., 0., 0., 0., 0., 0., 0., 0., 0., 0., 0., 0., 0., 0.,\n       0., 0., 0., 0., 0., 0., 0., 0., 0., 0., 0., 0., 0., 0., 0., 0., 0.,\n       0., 0., 0., 0., 0., 0., 0., 0., 0., 0., 0., 0., 0., 0., 0., 0., 0.,\n       0., 0., 0., 0., 0., 0., 0., 0., 0., 0., 0., 0., 0., 0., 0., 0., 0.,\n       0., 0., 0., 0., 0., 0., 0., 0., 0., 0., 0., 0., 0., 0., 0., 0., 0.,\n       0., 0., 0., 0., 0., 0., 0., 0., 0., 0., 0., 0., 0., 0., 0., 0., 0.,\n       0., 0., 0., 0., 0., 0., 0., 0., 0., 0., 0., 0., 0., 0., 0., 0., 0.,\n       0., 0., 0., 0., 0., 0., 0., 0., 0., 0., 0., 0., 0., 0., 0., 0., 0.,\n       0., 0., 0., 0., 0., 0., 0., 0., 0., 0., 0., 0., 0., 0., 0., 0., 0.,\n       0., 0., 0., 0., 0., 0., 0., 0., 0., 0., 0., 0., 0., 0., 0., 0., 0.,\n       0., 0., 0., 0., 0., 0., 0., 0., 0., 0., 0., 0., 0., 0., 0., 0., 0.,\n       0., 0., 0., 0., 0., 0., 0., 0., 0., 0., 0., 0., 0., 0., 0., 0., 0.,\n       0., 0., 0., 0., 0., 0., 0., 0., 0., 0., 0., 0., 0., 0., 0., 0., 0.,\n       0., 0., 0., 0., 0., 0., 0., 0., 0., 0., 0., 0., 0., 0., 0., 0., 0.,\n       0., 0., 0., 0., 0., 0., 0., 0., 0., 0., 0., 0., 0., 0., 0., 0., 0.,\n       0., 0., 0., 0., 0., 0., 0., 0., 0., 0., 0., 0., 0., 0., 0., 0., 0.,\n       0., 0., 0., 0., 0., 0., 0., 0., 0., 0., 0., 0., 0., 0., 0., 0., 0.,\n       0., 0., 0., 0., 0., 0., 0., 0., 0., 0., 0., 0., 0., 0., 0., 0., 0.,\n       0., 0., 0., 0., 0., 0., 0., 0., 0., 0., 0., 0., 0., 0.])"
       },
       "execution_count": 16,
       "metadata": {}
      },
      "follow": [],
      "is_broadcast": false,
      "is_coalescing": false,
      "msg_id": "f779c95c-291e39d1f717da016d232882_19591_126",
      "outputs": [],
      "received": "2022-06-14T13:32:16.222460Z",
      "started": "2022-06-14T13:32:16.192272Z",
      "status": "ok",
      "stderr": "",
      "stdout": "",
      "submitted": "2022-06-14T13:32:16.173297Z"
     },
     "output_type": "display_data"
    },
    {
     "data": {
      "text/plain": [
       "\u001b[0;31mOut[6:16]: \u001b[0m\n",
       "array([0., 0., 0., 0., 0., 0., 0., 0., 0., 0., 0., 0., 0., 0., 0., 0., 0.,\n",
       "       0., 0., 0., 0., 0., 0., 0., 0., 0., 0., 0., 0., 0., 0., 0., 0., 0.,\n",
       "       0., 0., 0., 0., 0., 0., 0., 0., 0., 0., 0., 0., 0., 0., 0., 0., 0.,\n",
       "       0., 0., 0., 0., 0., 0., 0., 0., 0., 0., 0., 0., 0., 0., 0., 0., 0.,\n",
       "       0., 0., 0., 0., 0., 0., 0., 0., 0., 0., 0., 0., 0., 0., 0., 0., 0.,\n",
       "       0., 0., 0., 0., 0., 0., 0., 0., 0., 0., 0., 0., 0., 0., 0., 0., 0.,\n",
       "       0., 0., 0., 0., 0., 0., 0., 0., 0., 0., 0., 0., 0., 0., 0., 0., 0.,\n",
       "       0., 0., 0., 0., 0., 0., 0., 0., 0., 0., 0., 0., 0., 0., 0., 0., 0.,\n",
       "       0., 0., 0., 0., 0., 0., 0., 0., 0., 0., 0., 0., 0., 0., 0., 0., 0.,\n",
       "       0., 0., 0., 0., 0., 0., 0., 0., 0., 0., 0., 0., 0., 0., 0., 0., 0.,\n",
       "       0., 0., 0., 0., 0., 0., 0., 0., 0., 0., 0., 0., 0., 0., 0., 0., 0.,\n",
       "       0., 0., 0., 0., 0., 0., 0., 0., 0., 0., 0., 0., 0., 0., 0., 0., 0.,\n",
       "       0., 0., 0., 0., 0., 0., 0., 0., 0., 0., 0., 0., 0., 0., 0., 0., 0.,\n",
       "       0., 0., 0., 0., 0., 0., 0., 0., 0., 0., 0., 0., 0., 0., 0., 0., 0.,\n",
       "       0., 0., 0., 0., 0., 0., 0., 0., 0., 0., 0., 0., 0., 0., 0., 0., 0.,\n",
       "       0., 0., 0., 0., 0., 0., 0., 0., 0., 0., 0., 0., 0., 0., 0., 0., 0.,\n",
       "       0., 0., 0., 0., 0., 0., 0., 0., 0., 0., 0., 0., 0., 0., 0., 0., 0.,\n",
       "       0., 0., 0., 0., 0., 0., 0., 0., 0., 0., 0., 0., 0., 0., 0., 0., 0.,\n",
       "       0., 0., 0., 0., 0., 0., 0., 0., 0., 0., 0., 0., 0., 0., 0., 0., 0.,\n",
       "       0., 0., 0., 0., 0., 0., 0., 0., 0., 0., 0., 0., 0., 0., 0., 0., 0.,\n",
       "       0., 0., 0., 0., 0., 0., 0., 0., 0., 0., 0., 0., 0., 0., 0., 0., 0.,\n",
       "       0., 0., 0., 0., 0., 0., 0., 0., 0., 0., 0., 0., 0., 0., 0., 0., 0.,\n",
       "       0., 0., 0., 0., 0., 0., 0., 0., 0., 0., 0., 0., 0., 0., 0., 0., 0.,\n",
       "       0., 0., 0., 0., 0., 0., 0., 0., 0., 0., 0., 0., 0., 0., 0., 0., 0.,\n",
       "       0., 0., 0., 0., 0., 0., 0., 0., 0., 0., 0., 0., 0., 0., 0., 0., 0.,\n",
       "       0., 0., 0., 0., 0., 0., 0., 0., 0., 0., 0., 0., 0., 0., 0., 0., 0.,\n",
       "       0., 0., 0., 0., 0., 0., 0., 0., 0., 0., 0., 0., 0., 0., 0., 0., 0.,\n",
       "       0., 0., 0., 0., 0., 0., 0., 0., 0., 0., 0., 0., 0., 0., 0., 0., 0.,\n",
       "       0., 0., 0., 0., 0., 0., 0., 0., 0., 0., 0., 0., 0., 0., 0., 0., 0.,\n",
       "       0., 0., 0., 0., 0., 0., 0., 0., 0., 0., 0., 0., 0., 0., 0., 0., 0.,\n",
       "       0., 0., 0., 0., 0., 0., 0., 0., 0., 0., 0., 0., 0., 0., 0., 0., 0.,\n",
       "       0., 0., 0., 0., 0., 0., 0., 0., 0., 0., 0., 0., 0., 0., 0., 0., 0.,\n",
       "       0., 0., 0., 0., 0., 0., 0., 0., 0., 0., 0., 0., 0., 0., 0., 0., 0.,\n",
       "       0., 0., 0., 0., 0., 0., 0., 0., 0., 0., 0., 0., 0., 0., 0., 0., 0.,\n",
       "       0., 0., 0., 0., 0., 0., 0., 0., 0., 0., 0., 0., 0., 0., 0., 0., 0.,\n",
       "       0., 0., 0., 0., 0., 0., 0., 0., 0., 0., 0., 0., 0., 0., 0., 0., 0.,\n",
       "       0., 0., 0., 0., 0., 0., 0., 0., 0., 0., 0., 0., 0., 0., 0., 0., 0.,\n",
       "       0., 0., 0., 0., 0., 0., 0., 0., 0., 0., 0., 0., 0., 0., 0., 0., 0.,\n",
       "       0., 0., 0., 0., 0., 0., 0., 0., 0., 0., 0., 0., 0., 0., 0., 0., 0.,\n",
       "       0., 0., 0., 0., 0., 0., 0., 0., 0., 0., 0., 0., 0., 0., 0., 0., 0.,\n",
       "       0., 0., 0., 0., 0., 0., 0., 0., 0., 0., 0., 0., 0., 0., 0., 0., 0.,\n",
       "       0., 0., 0., 0., 0., 0., 0., 0., 0., 0., 0., 0., 0., 0., 0., 0., 0.,\n",
       "       0., 0., 0., 0., 0., 0., 0., 0., 0., 0., 0., 0., 0., 0., 0., 0., 0.,\n",
       "       0., 0., 0., 0., 0., 0., 0., 0., 0., 0., 0., 0., 0., 0., 0., 0., 0.,\n",
       "       0., 0., 0., 0., 0., 0., 0., 0., 0., 0., 0., 0., 0., 0., 0., 0., 0.,\n",
       "       0., 0., 0., 0., 0., 0., 0., 0., 0., 0., 0., 0., 0., 0., 0., 0., 0.,\n",
       "       0., 0., 0., 0., 0., 0., 0., 0., 0., 0., 0., 0., 0., 0., 0., 0., 0.,\n",
       "       0., 0., 0., 0., 0., 0., 0., 0., 0., 0., 0., 0., 0., 0., 0., 0., 0.,\n",
       "       0., 0., 0., 0., 0., 0., 0., 0., 0., 0., 0., 0., 0., 0., 0., 0., 0.,\n",
       "       0., 0., 0., 0., 0., 0., 0., 0., 0., 0., 0., 0., 0., 0., 0., 0., 0.,\n",
       "       0., 0., 0., 0., 0., 0., 0., 0., 0., 0., 0., 0., 0., 0., 0., 0., 0.,\n",
       "       0., 0., 0., 0., 0., 0., 0., 0., 0., 0., 0., 0., 0., 0., 0., 0., 0.,\n",
       "       0., 0., 0., 0., 0., 0., 0., 0., 0., 0., 0., 0., 0., 0., 0., 0., 0.,\n",
       "       0., 0., 0., 0., 0., 0., 0., 0., 0., 0., 0., 0., 0., 0., 0., 0., 0.,\n",
       "       0., 0., 0., 0., 0., 0., 0., 0., 0., 0., 0., 0., 0., 0., 0., 0., 0.,\n",
       "       0., 0., 0., 0., 0., 0., 0., 0., 0., 0., 0., 0., 0., 0., 0., 0., 0.,\n",
       "       0., 0., 0., 0., 0., 0., 0., 0., 0., 0., 0., 0., 0., 0., 0., 0., 0.,\n",
       "       0., 0., 0., 0., 0., 0., 0., 0., 0., 0., 0., 0., 0., 0., 0., 0., 0.,\n",
       "       0., 0., 0., 0., 0., 0., 0., 0., 0., 0., 0., 0., 0., 0.])"
      ]
     },
     "metadata": {
      "after": [],
      "completed": "2022-06-14T13:32:16.209775Z",
      "data": {},
      "engine_id": 6,
      "engine_uuid": "52cbb748-268295a012b4db105837b03a",
      "error": null,
      "execute_input": "c_full_range\n",
      "execute_result": {
       "data": {
        "text/plain": "array([0., 0., 0., 0., 0., 0., 0., 0., 0., 0., 0., 0., 0., 0., 0., 0., 0.,\n       0., 0., 0., 0., 0., 0., 0., 0., 0., 0., 0., 0., 0., 0., 0., 0., 0.,\n       0., 0., 0., 0., 0., 0., 0., 0., 0., 0., 0., 0., 0., 0., 0., 0., 0.,\n       0., 0., 0., 0., 0., 0., 0., 0., 0., 0., 0., 0., 0., 0., 0., 0., 0.,\n       0., 0., 0., 0., 0., 0., 0., 0., 0., 0., 0., 0., 0., 0., 0., 0., 0.,\n       0., 0., 0., 0., 0., 0., 0., 0., 0., 0., 0., 0., 0., 0., 0., 0., 0.,\n       0., 0., 0., 0., 0., 0., 0., 0., 0., 0., 0., 0., 0., 0., 0., 0., 0.,\n       0., 0., 0., 0., 0., 0., 0., 0., 0., 0., 0., 0., 0., 0., 0., 0., 0.,\n       0., 0., 0., 0., 0., 0., 0., 0., 0., 0., 0., 0., 0., 0., 0., 0., 0.,\n       0., 0., 0., 0., 0., 0., 0., 0., 0., 0., 0., 0., 0., 0., 0., 0., 0.,\n       0., 0., 0., 0., 0., 0., 0., 0., 0., 0., 0., 0., 0., 0., 0., 0., 0.,\n       0., 0., 0., 0., 0., 0., 0., 0., 0., 0., 0., 0., 0., 0., 0., 0., 0.,\n       0., 0., 0., 0., 0., 0., 0., 0., 0., 0., 0., 0., 0., 0., 0., 0., 0.,\n       0., 0., 0., 0., 0., 0., 0., 0., 0., 0., 0., 0., 0., 0., 0., 0., 0.,\n       0., 0., 0., 0., 0., 0., 0., 0., 0., 0., 0., 0., 0., 0., 0., 0., 0.,\n       0., 0., 0., 0., 0., 0., 0., 0., 0., 0., 0., 0., 0., 0., 0., 0., 0.,\n       0., 0., 0., 0., 0., 0., 0., 0., 0., 0., 0., 0., 0., 0., 0., 0., 0.,\n       0., 0., 0., 0., 0., 0., 0., 0., 0., 0., 0., 0., 0., 0., 0., 0., 0.,\n       0., 0., 0., 0., 0., 0., 0., 0., 0., 0., 0., 0., 0., 0., 0., 0., 0.,\n       0., 0., 0., 0., 0., 0., 0., 0., 0., 0., 0., 0., 0., 0., 0., 0., 0.,\n       0., 0., 0., 0., 0., 0., 0., 0., 0., 0., 0., 0., 0., 0., 0., 0., 0.,\n       0., 0., 0., 0., 0., 0., 0., 0., 0., 0., 0., 0., 0., 0., 0., 0., 0.,\n       0., 0., 0., 0., 0., 0., 0., 0., 0., 0., 0., 0., 0., 0., 0., 0., 0.,\n       0., 0., 0., 0., 0., 0., 0., 0., 0., 0., 0., 0., 0., 0., 0., 0., 0.,\n       0., 0., 0., 0., 0., 0., 0., 0., 0., 0., 0., 0., 0., 0., 0., 0., 0.,\n       0., 0., 0., 0., 0., 0., 0., 0., 0., 0., 0., 0., 0., 0., 0., 0., 0.,\n       0., 0., 0., 0., 0., 0., 0., 0., 0., 0., 0., 0., 0., 0., 0., 0., 0.,\n       0., 0., 0., 0., 0., 0., 0., 0., 0., 0., 0., 0., 0., 0., 0., 0., 0.,\n       0., 0., 0., 0., 0., 0., 0., 0., 0., 0., 0., 0., 0., 0., 0., 0., 0.,\n       0., 0., 0., 0., 0., 0., 0., 0., 0., 0., 0., 0., 0., 0., 0., 0., 0.,\n       0., 0., 0., 0., 0., 0., 0., 0., 0., 0., 0., 0., 0., 0., 0., 0., 0.,\n       0., 0., 0., 0., 0., 0., 0., 0., 0., 0., 0., 0., 0., 0., 0., 0., 0.,\n       0., 0., 0., 0., 0., 0., 0., 0., 0., 0., 0., 0., 0., 0., 0., 0., 0.,\n       0., 0., 0., 0., 0., 0., 0., 0., 0., 0., 0., 0., 0., 0., 0., 0., 0.,\n       0., 0., 0., 0., 0., 0., 0., 0., 0., 0., 0., 0., 0., 0., 0., 0., 0.,\n       0., 0., 0., 0., 0., 0., 0., 0., 0., 0., 0., 0., 0., 0., 0., 0., 0.,\n       0., 0., 0., 0., 0., 0., 0., 0., 0., 0., 0., 0., 0., 0., 0., 0., 0.,\n       0., 0., 0., 0., 0., 0., 0., 0., 0., 0., 0., 0., 0., 0., 0., 0., 0.,\n       0., 0., 0., 0., 0., 0., 0., 0., 0., 0., 0., 0., 0., 0., 0., 0., 0.,\n       0., 0., 0., 0., 0., 0., 0., 0., 0., 0., 0., 0., 0., 0., 0., 0., 0.,\n       0., 0., 0., 0., 0., 0., 0., 0., 0., 0., 0., 0., 0., 0., 0., 0., 0.,\n       0., 0., 0., 0., 0., 0., 0., 0., 0., 0., 0., 0., 0., 0., 0., 0., 0.,\n       0., 0., 0., 0., 0., 0., 0., 0., 0., 0., 0., 0., 0., 0., 0., 0., 0.,\n       0., 0., 0., 0., 0., 0., 0., 0., 0., 0., 0., 0., 0., 0., 0., 0., 0.,\n       0., 0., 0., 0., 0., 0., 0., 0., 0., 0., 0., 0., 0., 0., 0., 0., 0.,\n       0., 0., 0., 0., 0., 0., 0., 0., 0., 0., 0., 0., 0., 0., 0., 0., 0.,\n       0., 0., 0., 0., 0., 0., 0., 0., 0., 0., 0., 0., 0., 0., 0., 0., 0.,\n       0., 0., 0., 0., 0., 0., 0., 0., 0., 0., 0., 0., 0., 0., 0., 0., 0.,\n       0., 0., 0., 0., 0., 0., 0., 0., 0., 0., 0., 0., 0., 0., 0., 0., 0.,\n       0., 0., 0., 0., 0., 0., 0., 0., 0., 0., 0., 0., 0., 0., 0., 0., 0.,\n       0., 0., 0., 0., 0., 0., 0., 0., 0., 0., 0., 0., 0., 0., 0., 0., 0.,\n       0., 0., 0., 0., 0., 0., 0., 0., 0., 0., 0., 0., 0., 0., 0., 0., 0.,\n       0., 0., 0., 0., 0., 0., 0., 0., 0., 0., 0., 0., 0., 0., 0., 0., 0.,\n       0., 0., 0., 0., 0., 0., 0., 0., 0., 0., 0., 0., 0., 0., 0., 0., 0.,\n       0., 0., 0., 0., 0., 0., 0., 0., 0., 0., 0., 0., 0., 0., 0., 0., 0.,\n       0., 0., 0., 0., 0., 0., 0., 0., 0., 0., 0., 0., 0., 0., 0., 0., 0.,\n       0., 0., 0., 0., 0., 0., 0., 0., 0., 0., 0., 0., 0., 0., 0., 0., 0.,\n       0., 0., 0., 0., 0., 0., 0., 0., 0., 0., 0., 0., 0., 0., 0., 0., 0.,\n       0., 0., 0., 0., 0., 0., 0., 0., 0., 0., 0., 0., 0., 0.])"
       },
       "execution_count": 16,
       "metadata": {}
      },
      "follow": [],
      "is_broadcast": false,
      "is_coalescing": false,
      "msg_id": "f779c95c-291e39d1f717da016d232882_19591_127",
      "outputs": [],
      "received": "2022-06-14T13:32:16.216958Z",
      "started": "2022-06-14T13:32:16.193163Z",
      "status": "ok",
      "stderr": "",
      "stdout": "",
      "submitted": "2022-06-14T13:32:16.173392Z"
     },
     "output_type": "display_data"
    }
   ],
   "source": [
    "%%px \n",
    "c_full_range"
   ]
  },
  {
   "cell_type": "code",
   "execution_count": null,
   "metadata": {},
   "outputs": [],
   "source": []
  }
 ],
 "metadata": {
  "kernelspec": {
   "display_name": "Python 3 (ipykernel)",
   "language": "python",
   "name": "python3"
  },
  "language_info": {
   "codemirror_mode": {
    "name": "ipython",
    "version": 3
   },
   "file_extension": ".py",
   "mimetype": "text/x-python",
   "name": "python",
   "nbconvert_exporter": "python",
   "pygments_lexer": "ipython3",
   "version": "3.9.13"
  }
 },
 "nbformat": 4,
 "nbformat_minor": 2
}
