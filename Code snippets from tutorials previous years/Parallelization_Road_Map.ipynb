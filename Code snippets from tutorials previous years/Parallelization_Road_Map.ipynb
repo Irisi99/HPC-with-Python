{
 "cells": [
  {
   "cell_type": "markdown",
   "id": "3b23d860",
   "metadata": {},
   "source": [
    "<p style=\"color:red\">Important note: the code snippets provided below correspond to a system where (0th axis = x axis) and (1st axis = y axis).</p>\n",
    "<p style=\"color:red\"> If you adopt a different convention in your simulation, please modify the code snippets accordingly!</p>"
   ]
  },
  {
   "cell_type": "markdown",
   "id": "665e12a6",
   "metadata": {},
   "source": [
    "### 1) Start your MPI communicator."
   ]
  },
  {
   "cell_type": "code",
   "execution_count": null,
   "id": "a76fc648",
   "metadata": {},
   "outputs": [],
   "source": [
    "comm = MPI.COMM_WORLD\n",
    "size = comm.Get_size() # size is the total number of the cores.\n",
    "rank = comm.Get_rank() # rank is the id of each core."
   ]
  },
  {
   "cell_type": "markdown",
   "id": "65b514df",
   "metadata": {},
   "source": [
    "### 2) Divide your simulation domain into subdomains."
   ]
  },
  {
   "cell_type": "code",
   "execution_count": null,
   "id": "83a7ddcf",
   "metadata": {},
   "outputs": [],
   "source": [
    "# Divide the simulation cell into (Nsub_X x Nsub_Y) subdomains.\n",
    "Nsub_Y = int(np.floor(np.sqrt(size))) \n",
    "Nsub_X = int(size//Nsub_y)"
   ]
  },
  {
   "cell_type": "markdown",
   "id": "7d0e3e6f",
   "metadata": {},
   "source": [
    "Note: the above domain decomposition only applies for a symmetric grid."
   ]
  },
  {
   "cell_type": "markdown",
   "id": "06b58a97",
   "metadata": {},
   "source": [
    "### 3) Define the grid size of each subdomain .\n",
    "Note: Don't forget to add 2 buffer cells in each direction."
   ]
  },
  {
   "cell_type": "markdown",
   "id": "be45c3a5",
   "metadata": {},
   "source": [
    "### 4) Start a cartesian communicator and get the coordinates of each core."
   ]
  },
  {
   "cell_type": "code",
   "execution_count": null,
   "id": "6232c90d",
   "metadata": {},
   "outputs": [],
   "source": [
    "cartcomm=comm.Create_cart(dims=[Nsub_X,Nsub_Y],periods=[False,False],reorder=False)\n",
    "rcoords = cartcomm.Get_coords(rank)"
   ]
  },
  {
   "cell_type": "markdown",
   "id": "e4b9ae32",
   "metadata": {},
   "source": [
    "Make sure that you understand how the coordinates of the cores map to the physical domain of your system."
   ]
  },
  {
   "cell_type": "markdown",
   "id": "07c3bca0",
   "metadata": {},
   "source": [
    "### 5) Define source / destination for each core."
   ]
  },
  {
   "cell_type": "code",
   "execution_count": null,
   "id": "6faf9300",
   "metadata": {},
   "outputs": [],
   "source": [
    "# Send to right and receive from left. sR corresponds to source and dR corresponds to destination.\n",
    "sR,dR = cartcomm.Shift(0,1)\n",
    "\n",
    "#Send to up and receive from down.\n",
    "sU,dU = cartcomm.Shift(1,1)\n",
    "\n",
    "sd = [sR,dR,sL,dL,sU,dU,sD,dD] # At the end, gather up all the sources and destinations into a single list."
   ]
  },
  {
   "cell_type": "markdown",
   "id": "5c23c785",
   "metadata": {},
   "source": [
    "### 6) Define the boundaries of each subdomain."
   ]
  },
  {
   "cell_type": "code",
   "execution_count": null,
   "id": "220f7f6e",
   "metadata": {},
   "outputs": [],
   "source": [
    "boundary = [False,False,False,False] # [Left,Right,Down,Up].\n",
    "\n",
    "if rcoords[0] == 0: boundary[0] = True # if True then there is a boundary to the left of this subdomain.\n",
    "if rcoords[1] == Nsub_Y-1: boundary[3] = True # if True then there is a boundary to the top of this subdomain."
   ]
  },
  {
   "cell_type": "markdown",
   "id": "4094ff9a",
   "metadata": {},
   "source": [
    "### 7) Define a function to handle communication between the cores."
   ]
  },
  {
   "cell_type": "code",
   "execution_count": null,
   "id": "c04f0f33",
   "metadata": {},
   "outputs": [],
   "source": [
    "def Communicate(f_ikl,cartcomm,sd):\n",
    "    sR,dR,sL,dL,sU,dU,sD,dD = sd\n",
    "    \n",
    "    # Send to left and receive from right.\n",
    "    Lrcb = f_ikl[:,-1,:].copy() # Lrcb is an array which will receive information from the right.\n",
    "    \n",
    "    cartcomm.Sendrecv(f_ikl[:,1,:].copy(), dL, recvbuf = Lrcb, source = sL)\n",
    "    f_ikl[:,-1,:] = Lrcb # We copy Lrcb to its corresponding location in the distribution function (f).\n"
   ]
  },
  {
   "cell_type": "markdown",
   "id": "c06aef4d",
   "metadata": {},
   "source": [
    "### 8) Start iterating the solution.\n",
    "\n",
    "Note: you have to Communicate information between the cores right before streaming!.\n"
   ]
  },
  {
   "cell_type": "code",
   "execution_count": null,
   "id": "ee234af6",
   "metadata": {},
   "outputs": [],
   "source": [
    "# Apply bounce-back boundary condition on the left boundary\n",
    "\n",
    "if boundary[0] == True : f_ikl = BounceBackL(f_ikl) # BounceBack is the function which handles the no-slip boundary conditions on the left"
   ]
  }
 ],
 "metadata": {
  "kernelspec": {
   "display_name": "Python 3 (ipykernel)",
   "language": "python",
   "name": "python3"
  },
  "language_info": {
   "codemirror_mode": {
    "name": "ipython",
    "version": 3
   },
   "file_extension": ".py",
   "mimetype": "text/x-python",
   "name": "python",
   "nbconvert_exporter": "python",
   "pygments_lexer": "ipython3",
   "version": "3.8.10"
  }
 },
 "nbformat": 4,
 "nbformat_minor": 5
}
