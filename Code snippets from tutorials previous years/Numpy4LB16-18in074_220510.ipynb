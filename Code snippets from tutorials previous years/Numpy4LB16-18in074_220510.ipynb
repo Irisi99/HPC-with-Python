{
 "cells": [
  {
   "cell_type": "markdown",
   "id": "d84f6703",
   "metadata": {},
   "source": [
    "# Numpy methods for Streaming and Collision"
   ]
  },
  {
   "cell_type": "code",
   "execution_count": null,
   "id": "24f7a26d",
   "metadata": {},
   "outputs": [],
   "source": [
    "import numpy as np\n",
    "import matplotlib.pyplot as plt"
   ]
  },
  {
   "cell_type": "markdown",
   "id": "d0854e9c",
   "metadata": {},
   "source": [
    "### The streaming operator\n",
    "For this purpose we need the numpy method roll of arrays"
   ]
  },
  {
   "cell_type": "code",
   "execution_count": null,
   "id": "6f9c542c",
   "metadata": {},
   "outputs": [],
   "source": [
    "# Create an array and print it\n",
    "a = np.arange(5*7)\n",
    "print(a)"
   ]
  },
  {
   "cell_type": "code",
   "execution_count": null,
   "id": "0e643dd0",
   "metadata": {},
   "outputs": [],
   "source": [
    "# reshape it to a rectangular array\n",
    "b = a.reshape((5,7))\n",
    "print(b)"
   ]
  },
  {
   "cell_type": "code",
   "execution_count": null,
   "id": "931f3ab0",
   "metadata": {},
   "outputs": [],
   "source": [
    "%matplotlib notebook\n",
    "plt.rcParams['xtick.labelbottom'] = False\n",
    "plt.rcParams['xtick.labeltop'] = True\n",
    "# Roll it in different direction\n",
    "c = np.roll(b,shift = c_ca[7],axis = (1,0))\n",
    "print(c)\n",
    "#\n",
    "column_labels = list('0123456')\n",
    "row_labels = list('01234')\n",
    "#data = np.random.rand(5, 6)\n",
    "fig, ax = plt.subplots()\n",
    "data = c/a[-1]\n",
    "heatmap = ax.pcolor(data, cmap=plt.cm.Reds)\n",
    "# put the major ticks at the middle of each cell\n",
    "ax.set_xticks(np.arange(data.shape[1]) + 0.5, minor=False)\n",
    "ax.set_yticks(np.arange(data.shape[0]) + 0.5, minor=False)\n",
    "ax.invert_yaxis()\n",
    "ax.xaxis.tick_top()\n",
    "#\n",
    "ax.set_xticklabels(column_labels, minor=False)\n",
    "ax.set_yticklabels(row_labels, minor=False)\n",
    "ax.set_ylabel('axis 0, first  index')\n",
    "ax.set_title('axis 1, second index')\n",
    "plt.show() "
   ]
  },
  {
   "cell_type": "code",
   "execution_count": null,
   "id": "8366399d",
   "metadata": {},
   "outputs": [],
   "source": [
    "f_cij = np.ones((9,5,7))\n",
    "c_ca = np.array([[0, 1, 0, -1, 0, 1, -1, -1, 1],\n",
    "                 [0, 0, -1, 0 ,1, -1, -1, 1, 1]]).T     # These are the velocities of the channels\n",
    "#\n",
    "for k in np.arange(9):\n",
    "    f_cij[k] = np.roll(f_cij[k],c_ca[k],axis = (1,0))"
   ]
  },
  {
   "cell_type": "markdown",
   "id": "5966eee4",
   "metadata": {},
   "source": [
    "### Collision operator\n",
    "To calculate the outcome of the collision \n",
    "$$ f_i+\\omega(f_i^{eq}-f_i)$$\n",
    "We need to know the average velocity at $\\mathbf{r}$ and the denisty $n(\\mathbf{r})$."
   ]
  },
  {
   "cell_type": "code",
   "execution_count": null,
   "id": "0fc9c442",
   "metadata": {},
   "outputs": [],
   "source": [
    "w_c = np.array([4/9,1/9,1/9,1/9,1/9,1/36,1/36,1/36,1/36])  # equilibrium occupation numbers\n",
    "c_ca = np.array([[0, 1, 0, -1, 0, 1, -1, -1, 1],\n",
    "                 [0, 0, -1, 0 ,1, -1, -1, 1, 1]]).T     # These are the velocities of the channels\n",
    "f_cij[:] = w_c[:,np.newaxis,np.newaxis]\n",
    "f_cij[1] += 0.01\n",
    "f_cij[3] -= 0.01"
   ]
  },
  {
   "cell_type": "code",
   "execution_count": null,
   "id": "631b81f9",
   "metadata": {},
   "outputs": [],
   "source": [
    "u_aij = np.einsum('cij,ca->aij',f_cij,c_ca)"
   ]
  },
  {
   "cell_type": "code",
   "execution_count": null,
   "id": "b2f8fbab",
   "metadata": {},
   "outputs": [],
   "source": [
    "for c in np.arange(9): f_cij[c] = w_c[c]"
   ]
  },
  {
   "cell_type": "code",
   "execution_count": null,
   "id": "eb8a0796",
   "metadata": {},
   "outputs": [],
   "source": [
    "u_aij"
   ]
  },
  {
   "cell_type": "code",
   "execution_count": null,
   "id": "705a028c",
   "metadata": {},
   "outputs": [],
   "source": [
    "np.einsum('cij->ij',f_cij)"
   ]
  },
  {
   "cell_type": "code",
   "execution_count": null,
   "id": "846bbe4f",
   "metadata": {},
   "outputs": [],
   "source": [
    "u_aij = np.einsum('cij,ca->aij',f_cij,c_ca)"
   ]
  },
  {
   "cell_type": "code",
   "execution_count": null,
   "id": "f1aa6e3a",
   "metadata": {},
   "outputs": [],
   "source": [
    "u_aij"
   ]
  },
  {
   "cell_type": "code",
   "execution_count": null,
   "id": "54816ef9",
   "metadata": {},
   "outputs": [],
   "source": [
    "rho_ij = np.einsum('cij->ij',f_cij)"
   ]
  },
  {
   "cell_type": "code",
   "execution_count": null,
   "id": "ad546722",
   "metadata": {},
   "outputs": [],
   "source": [
    "rho_ij"
   ]
  },
  {
   "cell_type": "code",
   "execution_count": null,
   "id": "8c7b16ca",
   "metadata": {},
   "outputs": [],
   "source": [
    "f_cij[:] = w_c[:,np.newaxis,np.newaxis]"
   ]
  },
  {
   "cell_type": "code",
   "execution_count": null,
   "id": "c627a737",
   "metadata": {},
   "outputs": [],
   "source": [
    "rho_ij = np.sum(f_cij,0)"
   ]
  },
  {
   "cell_type": "code",
   "execution_count": null,
   "id": "f03cf9bf",
   "metadata": {},
   "outputs": [],
   "source": [
    "f_cij"
   ]
  },
  {
   "cell_type": "code",
   "execution_count": null,
   "id": "8b357a5f",
   "metadata": {},
   "outputs": [],
   "source": []
  }
 ],
 "metadata": {
  "kernelspec": {
   "display_name": "Python 3 (ipykernel)",
   "language": "python",
   "name": "python3"
  },
  "language_info": {
   "codemirror_mode": {
    "name": "ipython",
    "version": 3
   },
   "file_extension": ".py",
   "mimetype": "text/x-python",
   "name": "python",
   "nbconvert_exporter": "python",
   "pygments_lexer": "ipython3",
   "version": "3.9.12"
  }
 },
 "nbformat": 4,
 "nbformat_minor": 5
}
