{
 "cells": [
  {
   "cell_type": "code",
   "execution_count": 1,
   "metadata": {},
   "outputs": [],
   "source": [
    "import numpy as np\n",
    "import matplotlib.pyplot as plt\n",
    "%matplotlib inline"
   ]
  },
  {
   "cell_type": "code",
   "execution_count": 2,
   "metadata": {},
   "outputs": [],
   "source": [
    "NX=10\n",
    "NY=15\n",
    "w_i = np.array([4/9, 1/9, 1/9, 1/9, 1/9, 1/36, 1/36, 1/36, 1/36]) # weights\n",
    "c_ai = np.array([[0, 1, 0, -1,  0, 1, -1, -1,  1],  # velocities, x components\n",
    "              [0, 0, 1,  0, -1, 1,  1, -1, -1]]) # velocities, y components"
   ]
  },
  {
   "cell_type": "code",
   "execution_count": 3,
   "metadata": {},
   "outputs": [],
   "source": [
    "#\n",
    "rho_ij = np.ones((NX,NY))  # The measured scalar density field\n",
    "u_cij  = np.zeros((2,NX,NY)) # The measured velocity field"
   ]
  },
  {
   "cell_type": "code",
   "execution_count": 4,
   "metadata": {},
   "outputs": [],
   "source": [
    "f_inm=np.einsum('i,jk->ijk',w_i,np.ones((NX,NY))) # product of two arrays # 9x10x15"
   ]
  },
  {
   "cell_type": "code",
   "execution_count": 5,
   "metadata": {},
   "outputs": [
    {
     "data": {
      "text/plain": [
       "array([[1., 1., 1., 1., 1., 1., 1., 1., 1., 1., 1., 1., 1., 1., 1.],\n",
       "       [1., 1., 1., 1., 1., 1., 1., 1., 1., 1., 1., 1., 1., 1., 1.],\n",
       "       [1., 1., 1., 1., 1., 1., 1., 1., 1., 1., 1., 1., 1., 1., 1.],\n",
       "       [1., 1., 1., 1., 1., 1., 1., 1., 1., 1., 1., 1., 1., 1., 1.],\n",
       "       [1., 1., 1., 1., 1., 1., 1., 1., 1., 1., 1., 1., 1., 1., 1.],\n",
       "       [1., 1., 1., 1., 1., 1., 1., 1., 1., 1., 1., 1., 1., 1., 1.],\n",
       "       [1., 1., 1., 1., 1., 1., 1., 1., 1., 1., 1., 1., 1., 1., 1.],\n",
       "       [1., 1., 1., 1., 1., 1., 1., 1., 1., 1., 1., 1., 1., 1., 1.],\n",
       "       [1., 1., 1., 1., 1., 1., 1., 1., 1., 1., 1., 1., 1., 1., 1.],\n",
       "       [1., 1., 1., 1., 1., 1., 1., 1., 1., 1., 1., 1., 1., 1., 1.]])"
      ]
     },
     "execution_count": 5,
     "metadata": {},
     "output_type": "execute_result"
    }
   ],
   "source": [
    "rho=np.einsum('ijk->jk',f_inm) # 10x15\n",
    "rho"
   ]
  },
  {
   "attachments": {},
   "cell_type": "markdown",
   "metadata": {},
   "source": [
    "$u_{nm}=\\sum_j c_j f_{jnm}/\\rho_{nm}$"
   ]
  },
  {
   "cell_type": "code",
   "execution_count": null,
   "metadata": {},
   "outputs": [],
   "source": []
  },
  {
   "cell_type": "code",
   "execution_count": 6,
   "metadata": {},
   "outputs": [
    {
     "data": {
      "text/plain": [
       "array([[[0.01, 0.01, 0.01, 0.01, 0.01, 0.01, 0.01, 0.01, 0.01, 0.01,\n",
       "         0.01, 0.01, 0.01, 0.01, 0.01],\n",
       "        [0.01, 0.01, 0.01, 0.01, 0.01, 0.01, 0.01, 0.01, 0.01, 0.01,\n",
       "         0.01, 0.01, 0.01, 0.01, 0.01],\n",
       "        [0.01, 0.01, 0.01, 0.01, 0.01, 0.01, 0.01, 0.01, 0.01, 0.01,\n",
       "         0.01, 0.01, 0.01, 0.01, 0.01],\n",
       "        [0.01, 0.01, 0.01, 0.01, 0.01, 0.01, 0.01, 0.01, 0.01, 0.01,\n",
       "         0.01, 0.01, 0.01, 0.01, 0.01],\n",
       "        [0.01, 0.01, 0.01, 0.01, 0.01, 0.01, 0.01, 0.01, 0.01, 0.01,\n",
       "         0.01, 0.01, 0.01, 0.01, 0.01],\n",
       "        [0.01, 0.01, 0.01, 0.01, 0.01, 0.01, 0.01, 0.01, 0.01, 0.01,\n",
       "         0.01, 0.01, 0.01, 0.01, 0.01],\n",
       "        [0.01, 0.01, 0.01, 0.01, 0.01, 0.01, 0.01, 0.01, 0.01, 0.01,\n",
       "         0.01, 0.01, 0.01, 0.01, 0.01],\n",
       "        [0.01, 0.01, 0.01, 0.01, 0.01, 0.01, 0.01, 0.01, 0.01, 0.01,\n",
       "         0.01, 0.01, 0.01, 0.01, 0.01],\n",
       "        [0.01, 0.01, 0.01, 0.01, 0.01, 0.01, 0.01, 0.01, 0.01, 0.01,\n",
       "         0.01, 0.01, 0.01, 0.01, 0.01],\n",
       "        [0.01, 0.01, 0.01, 0.01, 0.01, 0.01, 0.01, 0.01, 0.01, 0.01,\n",
       "         0.01, 0.01, 0.01, 0.01, 0.01]],\n",
       "\n",
       "       [[0.01, 0.01, 0.01, 0.01, 0.01, 0.01, 0.01, 0.01, 0.01, 0.01,\n",
       "         0.01, 0.01, 0.01, 0.01, 0.01],\n",
       "        [0.01, 0.01, 0.01, 0.01, 0.01, 0.01, 0.01, 0.01, 0.01, 0.01,\n",
       "         0.01, 0.01, 0.01, 0.01, 0.01],\n",
       "        [0.01, 0.01, 0.01, 0.01, 0.01, 0.01, 0.01, 0.01, 0.01, 0.01,\n",
       "         0.01, 0.01, 0.01, 0.01, 0.01],\n",
       "        [0.01, 0.01, 0.01, 0.01, 0.01, 0.01, 0.01, 0.01, 0.01, 0.01,\n",
       "         0.01, 0.01, 0.01, 0.01, 0.01],\n",
       "        [0.01, 0.01, 0.01, 0.01, 0.01, 0.01, 0.01, 0.01, 0.01, 0.01,\n",
       "         0.01, 0.01, 0.01, 0.01, 0.01],\n",
       "        [0.01, 0.01, 0.01, 0.01, 0.01, 0.01, 0.01, 0.01, 0.01, 0.01,\n",
       "         0.01, 0.01, 0.01, 0.01, 0.01],\n",
       "        [0.01, 0.01, 0.01, 0.01, 0.01, 0.01, 0.01, 0.01, 0.01, 0.01,\n",
       "         0.01, 0.01, 0.01, 0.01, 0.01],\n",
       "        [0.01, 0.01, 0.01, 0.01, 0.01, 0.01, 0.01, 0.01, 0.01, 0.01,\n",
       "         0.01, 0.01, 0.01, 0.01, 0.01],\n",
       "        [0.01, 0.01, 0.01, 0.01, 0.01, 0.01, 0.01, 0.01, 0.01, 0.01,\n",
       "         0.01, 0.01, 0.01, 0.01, 0.01],\n",
       "        [0.01, 0.01, 0.01, 0.01, 0.01, 0.01, 0.01, 0.01, 0.01, 0.01,\n",
       "         0.01, 0.01, 0.01, 0.01, 0.01]]])"
      ]
     },
     "execution_count": 6,
     "metadata": {},
     "output_type": "execute_result"
    }
   ],
   "source": [
    "f=np.einsum('i,jk->ijk',w_i,np.ones((NX,NY))) # product of two arrays 9x10x15\n",
    "eps=0.01\n",
    "f[1,:,:]=f[1,:,:]+eps\n",
    "f[2,:,:]=f[2,:,:]+eps\n",
    "u_cij=np.einsum('ij,jkl->ikl',c_ai,f) # 2x10x15\n",
    "u_cij"
   ]
  },
  {
   "cell_type": "code",
   "execution_count": 7,
   "metadata": {},
   "outputs": [],
   "source": [
    "f[1]=np.roll(f[1],(0,1))"
   ]
  },
  {
   "cell_type": "code",
   "execution_count": 8,
   "metadata": {},
   "outputs": [
    {
     "data": {
      "text/plain": [
       "(2, 10, 15)"
      ]
     },
     "execution_count": 8,
     "metadata": {},
     "output_type": "execute_result"
    }
   ],
   "source": [
    "u_cij=np.einsum('ij,jkl->ikl',c_ai,f)\n",
    "np.shape(u_cij)"
   ]
  },
  {
   "cell_type": "code",
   "execution_count": 9,
   "metadata": {},
   "outputs": [],
   "source": [
    "f=np.einsum('i,jk->ijk',w_i,np.ones((NX,NY))) # product of two arrays"
   ]
  },
  {
   "cell_type": "code",
   "execution_count": 10,
   "metadata": {},
   "outputs": [],
   "source": [
    "f_inm[:,5,5]=f[:,5,5]-eps"
   ]
  },
  {
   "cell_type": "code",
   "execution_count": 11,
   "metadata": {},
   "outputs": [],
   "source": [
    "rho=np.einsum('ijk->jk',f)"
   ]
  },
  {
   "cell_type": "code",
   "execution_count": 12,
   "metadata": {},
   "outputs": [
    {
     "data": {
      "text/plain": [
       "150.00000000000003"
      ]
     },
     "execution_count": 12,
     "metadata": {},
     "output_type": "execute_result"
    }
   ],
   "source": [
    "rho.sum()"
   ]
  },
  {
   "cell_type": "code",
   "execution_count": 13,
   "metadata": {},
   "outputs": [],
   "source": [
    "u_cij=np.einsum('ij,jkl->ikl',c_ai,f)"
   ]
  },
  {
   "cell_type": "code",
   "execution_count": 14,
   "metadata": {},
   "outputs": [],
   "source": [
    "v=np.sin(2*np.pi*np.linspace(0,10,10)/10.)"
   ]
  },
  {
   "cell_type": "code",
   "execution_count": 15,
   "metadata": {},
   "outputs": [
    {
     "data": {
      "text/plain": [
       "[<matplotlib.lines.Line2D at 0x1c4d6f325c0>]"
      ]
     },
     "execution_count": 15,
     "metadata": {},
     "output_type": "execute_result"
    },
    {
     "data": {
      "image/png": "[encoded data removed]",
      "text/plain": [
       "<Figure size 640x480 with 1 Axes>"
      ]
     },
     "metadata": {},
     "output_type": "display_data"
    }
   ],
   "source": [
    "plt.plot(v)"
   ]
  },
  {
   "cell_type": "code",
   "execution_count": 16,
   "metadata": {},
   "outputs": [
    {
     "data": {
      "text/plain": [
       "(10,)"
      ]
     },
     "execution_count": 16,
     "metadata": {},
     "output_type": "execute_result"
    }
   ],
   "source": [
    "v.shape"
   ]
  },
  {
   "cell_type": "code",
   "execution_count": 17,
   "metadata": {},
   "outputs": [
    {
     "data": {
      "text/plain": [
       "(2, 10, 15)"
      ]
     },
     "execution_count": 17,
     "metadata": {},
     "output_type": "execute_result"
    }
   ],
   "source": [
    "u_new=np.zeros((2,NX,NY))\n",
    "for i in np.arange(10):\n",
    "    u_new[0,i,:]=u_cij[0,i,:]+v[i,np.newaxis]\n",
    "    \n",
    "np.shape(u_new)"
   ]
  },
  {
   "cell_type": "code",
   "execution_count": 18,
   "metadata": {},
   "outputs": [],
   "source": [
    "# f"
   ]
  },
  {
   "cell_type": "code",
   "execution_count": 19,
   "metadata": {},
   "outputs": [
    {
     "data": {
      "text/plain": [
       "array([1, 1, 1, 1, 1, 1, 1, 1, 1, 1])"
      ]
     },
     "execution_count": 19,
     "metadata": {},
     "output_type": "execute_result"
    }
   ],
   "source": [
    "np.ones(10,dtype=int)"
   ]
  },
  {
   "cell_type": "code",
   "execution_count": 20,
   "metadata": {},
   "outputs": [
    {
     "data": {
      "text/plain": [
       "0"
      ]
     },
     "execution_count": 20,
     "metadata": {},
     "output_type": "execute_result"
    }
   ],
   "source": [
    "1//3"
   ]
  },
  {
   "cell_type": "code",
   "execution_count": 21,
   "metadata": {},
   "outputs": [],
   "source": [
    "#ar = np.zeros((NX,NY))\n",
    "#ar[NX//2,NY//2] = 1.0\n",
    "f_inm[5] = f_inm[5]*1.01\n",
    "f_inm[7] = f_inm[7]*0.99"
   ]
  },
  {
   "cell_type": "code",
   "execution_count": 22,
   "metadata": {},
   "outputs": [
    {
     "data": {
      "image/png": "[encoded data removed]",
      "text/plain": [
       "<Figure size 640x480 with 1 Axes>"
      ]
     },
     "metadata": {},
     "output_type": "display_data"
    }
   ],
   "source": [
    "#%matplotlib inline\n",
    "rho=np.einsum ('inm->nm',f_inm)\n",
    "#rho[NX//2,NY//2] = 1.01\n",
    "for i in np.arange(1,9):\n",
    "    f_inm[i] = np.roll(f_inm[i], shift = c_ai.T[i], axis = [0,1])\n",
    "#ar = np.roll(ar, shift = c_ai.T[5], axis = [0,1] )\n",
    "#\n",
    "fig, ax = plt.subplots()\n",
    "ax.imshow(rho)\n",
    "#ax.imshow(ar)\n",
    "plt.show()"
   ]
  },
  {
   "cell_type": "code",
   "execution_count": 23,
   "metadata": {},
   "outputs": [],
   "source": [
    "f_inm[:,NX//2,NY//2] = 1.01*f_inm[:,NX//2,NY//2]"
   ]
  },
  {
   "cell_type": "code",
   "execution_count": 24,
   "metadata": {},
   "outputs": [
    {
     "data": {
      "text/plain": [
       "array([0.44888889, 0.11222222, 0.11222222, 0.11222222, 0.11222222,\n",
       "       0.02833611, 0.02805556, 0.027775  , 0.02805556])"
      ]
     },
     "execution_count": 24,
     "metadata": {},
     "output_type": "execute_result"
    }
   ],
   "source": [
    "f_inm[:,NX//2,NY//2] "
   ]
  },
  {
   "cell_type": "code",
   "execution_count": 25,
   "metadata": {},
   "outputs": [
    {
     "data": {
      "text/plain": [
       "(9, 2)"
      ]
     },
     "execution_count": 25,
     "metadata": {},
     "output_type": "execute_result"
    }
   ],
   "source": [
    "c_ai.T.shape"
   ]
  },
  {
   "cell_type": "code",
   "execution_count": 26,
   "metadata": {},
   "outputs": [
    {
     "data": {
      "text/plain": [
       "(2, 10, 15)"
      ]
     },
     "execution_count": 26,
     "metadata": {},
     "output_type": "execute_result"
    }
   ],
   "source": [
    "av_anm = np.einsum('ia,inm->anm',c_ai.T,f_inm)\n",
    "np.shape(av_anm)"
   ]
  },
  {
   "cell_type": "code",
   "execution_count": 27,
   "metadata": {},
   "outputs": [
    {
     "data": {
      "text/plain": [
       "array([[ 0.  ,  0.  ,  0.  ,  0.  ,  0.  ,  0.  ,  0.  ,  0.  ,  0.  ,\n",
       "         0.  ,  0.  ,  0.  ,  0.  ,  0.  ,  0.  ],\n",
       "       [ 0.  ,  0.  ,  0.  ,  0.  ,  0.  ,  0.  ,  0.  ,  0.  ,  0.  ,\n",
       "         0.  ,  0.  ,  0.  ,  0.  ,  0.  ,  0.  ],\n",
       "       [ 0.  ,  0.  ,  0.  ,  0.  ,  0.  ,  0.  ,  0.  ,  0.  ,  0.  ,\n",
       "         0.  ,  0.  ,  0.  ,  0.  ,  0.  ,  0.  ],\n",
       "       [ 0.  ,  0.  ,  0.  ,  0.  ,  0.  ,  0.  ,  0.  ,  0.  ,  0.  ,\n",
       "         0.  ,  0.  ,  0.  ,  0.  ,  0.  ,  0.  ],\n",
       "       [ 0.  ,  0.  ,  0.  ,  0.  ,  0.  ,  0.01,  0.02,  0.  ,  0.  ,\n",
       "         0.  ,  0.  ,  0.  ,  0.  ,  0.  ,  0.  ],\n",
       "       [ 0.  ,  0.  ,  0.  ,  0.  , -0.01,  0.  ,  0.01,  0.  ,  0.  ,\n",
       "         0.  ,  0.  ,  0.  ,  0.  ,  0.  ,  0.  ],\n",
       "       [ 0.  ,  0.  ,  0.  ,  0.  , -0.02, -0.01,  0.  ,  0.  ,  0.  ,\n",
       "         0.  ,  0.  ,  0.  ,  0.  ,  0.  ,  0.  ],\n",
       "       [ 0.  ,  0.  ,  0.  ,  0.  ,  0.  ,  0.  ,  0.  ,  0.  ,  0.  ,\n",
       "         0.  ,  0.  ,  0.  ,  0.  ,  0.  ,  0.  ],\n",
       "       [ 0.  ,  0.  ,  0.  ,  0.  ,  0.  ,  0.  ,  0.  ,  0.  ,  0.  ,\n",
       "         0.  ,  0.  ,  0.  ,  0.  ,  0.  ,  0.  ],\n",
       "       [ 0.  ,  0.  ,  0.  ,  0.  ,  0.  ,  0.  ,  0.  ,  0.  ,  0.  ,\n",
       "         0.  ,  0.  ,  0.  ,  0.  ,  0.  ,  0.  ]])"
      ]
     },
     "execution_count": 27,
     "metadata": {},
     "output_type": "execute_result"
    }
   ],
   "source": [
    "np.einsum('a,anm->nm',c_ai.T[8],av_anm)"
   ]
  },
  {
   "cell_type": "code",
   "execution_count": 28,
   "metadata": {},
   "outputs": [],
   "source": [
    "ar_ij = np.zeros((NX,NY))\n",
    "ar_ij[NX//2,NY//2] = 1."
   ]
  },
  {
   "cell_type": "code",
   "execution_count": 29,
   "metadata": {},
   "outputs": [
    {
     "data": {
      "image/png": "[encoded data removed]",
      "text/plain": [
       "<Figure size 640x480 with 1 Axes>"
      ]
     },
     "metadata": {},
     "output_type": "display_data"
    }
   ],
   "source": [
    "plt.imshow(ar_ij)\n",
    "ar_ij = np.roll(ar_ij, shift = c_ai.T[5], axis = [0, 1])"
   ]
  },
  {
   "cell_type": "code",
   "execution_count": 30,
   "metadata": {},
   "outputs": [
    {
     "data": {
      "text/plain": [
       "array([1, 1])"
      ]
     },
     "execution_count": 30,
     "metadata": {},
     "output_type": "execute_result"
    }
   ],
   "source": [
    "c_ai.T[5]"
   ]
  },
  {
   "cell_type": "code",
   "execution_count": 31,
   "metadata": {},
   "outputs": [],
   "source": [
    "rho_nm = np.einsum('inm->nm',f_inm)"
   ]
  },
  {
   "cell_type": "code",
   "execution_count": 32,
   "metadata": {},
   "outputs": [
    {
     "data": {
      "text/plain": [
       "array([[1.    , 1.    , 1.    , 1.    , 1.    , 1.    , 1.    , 1.    ,\n",
       "        1.    , 1.    , 1.    , 1.    , 1.    , 1.    , 1.    ],\n",
       "       [1.    , 1.    , 1.    , 1.    , 1.    , 1.    , 1.    , 1.    ,\n",
       "        1.    , 1.    , 1.    , 1.    , 1.    , 1.    , 1.    ],\n",
       "       [1.    , 1.    , 1.    , 1.    , 1.    , 1.    , 1.    , 1.    ,\n",
       "        1.    , 1.    , 1.    , 1.    , 1.    , 1.    , 1.    ],\n",
       "       [1.    , 1.    , 1.    , 1.    , 1.    , 1.    , 1.    , 1.    ,\n",
       "        1.    , 1.    , 1.    , 1.    , 1.    , 1.    , 1.    ],\n",
       "       [1.    , 1.    , 1.    , 1.    , 0.9901, 0.99  , 0.99  , 1.    ,\n",
       "        1.    , 1.    , 1.    , 1.    , 1.    , 1.    , 1.    ],\n",
       "       [1.    , 1.    , 1.    , 1.    , 0.99  , 0.99  , 0.99  , 1.01  ,\n",
       "        1.    , 1.    , 1.    , 1.    , 1.    , 1.    , 1.    ],\n",
       "       [1.    , 1.    , 1.    , 1.    , 0.99  , 0.99  , 0.9899, 1.    ,\n",
       "        1.    , 1.    , 1.    , 1.    , 1.    , 1.    , 1.    ],\n",
       "       [1.    , 1.    , 1.    , 1.    , 1.    , 1.    , 1.    , 1.    ,\n",
       "        1.    , 1.    , 1.    , 1.    , 1.    , 1.    , 1.    ],\n",
       "       [1.    , 1.    , 1.    , 1.    , 1.    , 1.    , 1.    , 1.    ,\n",
       "        1.    , 1.    , 1.    , 1.    , 1.    , 1.    , 1.    ],\n",
       "       [1.    , 1.    , 1.    , 1.    , 1.    , 1.    , 1.    , 1.    ,\n",
       "        1.    , 1.    , 1.    , 1.    , 1.    , 1.    , 1.    ]])"
      ]
     },
     "execution_count": 32,
     "metadata": {},
     "output_type": "execute_result"
    }
   ],
   "source": [
    "rho_nm"
   ]
  },
  {
   "cell_type": "code",
   "execution_count": 33,
   "metadata": {},
   "outputs": [],
   "source": [
    "f_inm[5] = f_inm[5]*1.01\n",
    "f_inm[7] = f_inm[7]*0.99"
   ]
  },
  {
   "cell_type": "code",
   "execution_count": 34,
   "metadata": {},
   "outputs": [],
   "source": [
    "u_anm = np.einsum('ia,inm->anm',c_ai.T,f_inm)/rho_nm"
   ]
  },
  {
   "cell_type": "code",
   "execution_count": 35,
   "metadata": {},
   "outputs": [
    {
     "data": {
      "text/plain": [
       "array([[ 0.00000000e+00,  0.00000000e+00,  0.00000000e+00,\n",
       "         0.00000000e+00,  0.00000000e+00,  0.00000000e+00,\n",
       "         0.00000000e+00,  0.00000000e+00,  0.00000000e+00,\n",
       "         0.00000000e+00,  0.00000000e+00,  0.00000000e+00,\n",
       "         0.00000000e+00,  0.00000000e+00,  0.00000000e+00],\n",
       "       [ 0.00000000e+00,  0.00000000e+00,  0.00000000e+00,\n",
       "         0.00000000e+00,  0.00000000e+00,  0.00000000e+00,\n",
       "         0.00000000e+00,  0.00000000e+00,  0.00000000e+00,\n",
       "         0.00000000e+00,  0.00000000e+00,  0.00000000e+00,\n",
       "         0.00000000e+00,  0.00000000e+00,  0.00000000e+00],\n",
       "       [ 0.00000000e+00,  0.00000000e+00,  0.00000000e+00,\n",
       "         0.00000000e+00,  0.00000000e+00,  0.00000000e+00,\n",
       "         0.00000000e+00,  0.00000000e+00,  0.00000000e+00,\n",
       "         0.00000000e+00,  0.00000000e+00,  0.00000000e+00,\n",
       "         0.00000000e+00,  0.00000000e+00,  0.00000000e+00],\n",
       "       [ 0.00000000e+00,  0.00000000e+00,  0.00000000e+00,\n",
       "         0.00000000e+00,  0.00000000e+00,  0.00000000e+00,\n",
       "         0.00000000e+00,  0.00000000e+00,  0.00000000e+00,\n",
       "         0.00000000e+00,  0.00000000e+00,  0.00000000e+00,\n",
       "         0.00000000e+00,  0.00000000e+00,  0.00000000e+00],\n",
       "       [ 0.00000000e+00,  0.00000000e+00,  0.00000000e+00,\n",
       "         0.00000000e+00, -3.46944695e-18, -1.01010101e-02,\n",
       "        -2.02020202e-02,  0.00000000e+00,  0.00000000e+00,\n",
       "         0.00000000e+00,  0.00000000e+00,  0.00000000e+00,\n",
       "         0.00000000e+00,  0.00000000e+00,  0.00000000e+00],\n",
       "       [ 0.00000000e+00,  0.00000000e+00,  0.00000000e+00,\n",
       "         0.00000000e+00,  1.01010101e-02,  0.00000000e+00,\n",
       "        -1.01010101e-02, -3.25260652e-18,  0.00000000e+00,\n",
       "         0.00000000e+00,  0.00000000e+00,  0.00000000e+00,\n",
       "         0.00000000e+00,  0.00000000e+00,  0.00000000e+00],\n",
       "       [ 0.00000000e+00,  0.00000000e+00,  0.00000000e+00,\n",
       "         0.00000000e+00,  2.02020202e-02,  1.01010101e-02,\n",
       "        -3.46944695e-18,  0.00000000e+00,  0.00000000e+00,\n",
       "         0.00000000e+00,  0.00000000e+00,  0.00000000e+00,\n",
       "         0.00000000e+00,  0.00000000e+00,  0.00000000e+00],\n",
       "       [ 0.00000000e+00,  0.00000000e+00,  0.00000000e+00,\n",
       "         0.00000000e+00,  0.00000000e+00,  0.00000000e+00,\n",
       "         0.00000000e+00,  0.00000000e+00,  0.00000000e+00,\n",
       "         0.00000000e+00,  0.00000000e+00,  0.00000000e+00,\n",
       "         0.00000000e+00,  0.00000000e+00,  0.00000000e+00],\n",
       "       [ 0.00000000e+00,  0.00000000e+00,  0.00000000e+00,\n",
       "         0.00000000e+00,  0.00000000e+00,  0.00000000e+00,\n",
       "         0.00000000e+00,  0.00000000e+00,  0.00000000e+00,\n",
       "         0.00000000e+00,  0.00000000e+00,  0.00000000e+00,\n",
       "         0.00000000e+00,  0.00000000e+00,  0.00000000e+00],\n",
       "       [ 0.00000000e+00,  0.00000000e+00,  0.00000000e+00,\n",
       "         0.00000000e+00,  0.00000000e+00,  0.00000000e+00,\n",
       "         0.00000000e+00,  0.00000000e+00,  0.00000000e+00,\n",
       "         0.00000000e+00,  0.00000000e+00,  0.00000000e+00,\n",
       "         0.00000000e+00,  0.00000000e+00,  0.00000000e+00]])"
      ]
     },
     "execution_count": 35,
     "metadata": {},
     "output_type": "execute_result"
    }
   ],
   "source": [
    "np.einsum('a,anm->nm',c_ai.T[6],u_anm)"
   ]
  },
  {
   "cell_type": "code",
   "execution_count": 36,
   "metadata": {},
   "outputs": [
    {
     "data": {
      "text/plain": [
       "<matplotlib.image.AxesImage at 0x1c4d6fbb9b0>"
      ]
     },
     "execution_count": 36,
     "metadata": {},
     "output_type": "execute_result"
    },
    {
     "data": {
      "image/png": "[encoded data removed]",
      "text/plain": [
       "<Figure size 640x480 with 1 Axes>"
      ]
     },
     "metadata": {},
     "output_type": "display_data"
    }
   ],
   "source": [
    "for i in np.arange(1,9):\n",
    "    f_inm[i] = np.roll(f_inm[i], shift = c_ai.T[i], axis = [0, 1])\n",
    "    \n",
    "rho_nm = np.einsum('inm->nm',f_inm)\n",
    "plt.imshow(rho_nm)"
   ]
  },
  {
   "cell_type": "code",
   "execution_count": 37,
   "metadata": {},
   "outputs": [
    {
     "data": {
      "text/plain": [
       "array([[ 0,  0],\n",
       "       [ 1,  0],\n",
       "       [ 0,  1],\n",
       "       [-1,  0],\n",
       "       [ 0, -1],\n",
       "       [ 1,  1],\n",
       "       [-1,  1],\n",
       "       [-1, -1],\n",
       "       [ 1, -1]])"
      ]
     },
     "execution_count": 37,
     "metadata": {},
     "output_type": "execute_result"
    }
   ],
   "source": [
    "c_ai.T"
   ]
  },
  {
   "cell_type": "code",
   "execution_count": 38,
   "metadata": {},
   "outputs": [
    {
     "data": {
      "text/plain": [
       "array([[[ 0.00111111,  0.00111111,  0.00111111,  0.00111111,\n",
       "          0.00111111,  0.00111111,  0.00111111,  0.00111111,\n",
       "          0.00111111,  0.00111111,  0.00111111,  0.00111111,\n",
       "          0.00111111,  0.00111111,  0.00111111],\n",
       "        [ 0.00111111,  0.00111111,  0.00111111,  0.00111111,\n",
       "          0.00111111,  0.00111111,  0.00111111,  0.00111111,\n",
       "          0.00111111,  0.00111111,  0.00111111,  0.00111111,\n",
       "          0.00111111,  0.00111111,  0.00111111],\n",
       "        [ 0.00111111,  0.00111111,  0.00111111,  0.00111111,\n",
       "          0.00111111,  0.00111111,  0.00111111,  0.00111111,\n",
       "          0.00111111,  0.00111111,  0.00111111,  0.00111111,\n",
       "          0.00111111,  0.00111111,  0.00111111],\n",
       "        [ 0.00111111,  0.00111111,  0.00111111,  0.00111111,\n",
       "          0.00111111,  0.00111111,  0.00111111,  0.00111111,\n",
       "          0.00111111,  0.00111111,  0.00111111,  0.00111111,\n",
       "          0.00111111,  0.00111111,  0.00111111],\n",
       "        [ 0.00111111,  0.00111111,  0.00111111,  0.00111111,\n",
       "          0.01102122,  0.01122334,  0.01122334,  0.00111111,\n",
       "          0.00111111,  0.00111111,  0.00111111,  0.00111111,\n",
       "          0.00111111,  0.00111111,  0.00111111],\n",
       "        [ 0.00111111,  0.00111111,  0.00111111,  0.00111111,\n",
       "          0.00112233,  0.00112233,  0.00112233,  0.00111111,\n",
       "          0.00111111,  0.00111111,  0.00111111,  0.00111111,\n",
       "          0.00111111,  0.00111111,  0.00111111],\n",
       "        [ 0.00111111,  0.00111111,  0.00111111,  0.00111111,\n",
       "         -0.00897868, -0.00897868, -0.00918263,  0.00111111,\n",
       "          0.00111111,  0.00111111,  0.00111111,  0.00111111,\n",
       "          0.00111111,  0.00111111,  0.00111111],\n",
       "        [ 0.00111111,  0.00111111,  0.00111111,  0.00111111,\n",
       "          0.00111111,  0.00111111,  0.00111111,  0.00111111,\n",
       "          0.00111111,  0.00111111,  0.00111111,  0.00111111,\n",
       "          0.00111111,  0.00111111,  0.00111111],\n",
       "        [ 0.00111111,  0.00111111,  0.00111111,  0.00111111,\n",
       "          0.00111111,  0.00111111,  0.00111111,  0.00111111,\n",
       "          0.00111111,  0.00111111,  0.00111111,  0.00111111,\n",
       "          0.00111111,  0.00111111,  0.00111111],\n",
       "        [ 0.00111111,  0.00111111,  0.00111111,  0.00111111,\n",
       "          0.00111111,  0.00111111,  0.00111111,  0.00111111,\n",
       "          0.00111111,  0.00111111,  0.00111111,  0.00111111,\n",
       "          0.00111111,  0.00111111,  0.00111111]],\n",
       "\n",
       "       [[ 0.00111111,  0.00111111,  0.00111111,  0.00111111,\n",
       "          0.00111111,  0.00111111,  0.00111111,  0.00111111,\n",
       "          0.00111111,  0.00111111,  0.00111111,  0.00111111,\n",
       "          0.00111111,  0.00111111,  0.00111111],\n",
       "        [ 0.00111111,  0.00111111,  0.00111111,  0.00111111,\n",
       "          0.00111111,  0.00111111,  0.00111111,  0.00111111,\n",
       "          0.00111111,  0.00111111,  0.00111111,  0.00111111,\n",
       "          0.00111111,  0.00111111,  0.00111111],\n",
       "        [ 0.00111111,  0.00111111,  0.00111111,  0.00111111,\n",
       "          0.00111111,  0.00111111,  0.00111111,  0.00111111,\n",
       "          0.00111111,  0.00111111,  0.00111111,  0.00111111,\n",
       "          0.00111111,  0.00111111,  0.00111111],\n",
       "        [ 0.00111111,  0.00111111,  0.00111111,  0.00111111,\n",
       "          0.00111111,  0.00111111,  0.00111111,  0.00111111,\n",
       "          0.00111111,  0.00111111,  0.00111111,  0.00111111,\n",
       "          0.00111111,  0.00111111,  0.00111111],\n",
       "        [ 0.00111111,  0.00111111,  0.00111111,  0.00111111,\n",
       "          0.01102122,  0.00112233, -0.00897868,  0.00111111,\n",
       "          0.00111111,  0.00111111,  0.00111111,  0.00111111,\n",
       "          0.00111111,  0.00111111,  0.00111111],\n",
       "        [ 0.00111111,  0.00111111,  0.00111111,  0.00111111,\n",
       "          0.01122334,  0.00112233, -0.00897868,  0.00111111,\n",
       "          0.00111111,  0.00111111,  0.00111111,  0.00111111,\n",
       "          0.00111111,  0.00111111,  0.00111111],\n",
       "        [ 0.00111111,  0.00111111,  0.00111111,  0.00111111,\n",
       "          0.01122334,  0.00112233, -0.00918263,  0.00111111,\n",
       "          0.00111111,  0.00111111,  0.00111111,  0.00111111,\n",
       "          0.00111111,  0.00111111,  0.00111111],\n",
       "        [ 0.00111111,  0.00111111,  0.00111111,  0.00111111,\n",
       "          0.00111111,  0.00111111,  0.00111111,  0.00111111,\n",
       "          0.00111111,  0.00111111,  0.00111111,  0.00111111,\n",
       "          0.00111111,  0.00111111,  0.00111111],\n",
       "        [ 0.00111111,  0.00111111,  0.00111111,  0.00111111,\n",
       "          0.00111111,  0.00111111,  0.00111111,  0.00111111,\n",
       "          0.00111111,  0.00111111,  0.00111111,  0.00111111,\n",
       "          0.00111111,  0.00111111,  0.00111111],\n",
       "        [ 0.00111111,  0.00111111,  0.00111111,  0.00111111,\n",
       "          0.00111111,  0.00111111,  0.00111111,  0.00111111,\n",
       "          0.00111111,  0.00111111,  0.00111111,  0.00111111,\n",
       "          0.00111111,  0.00111111,  0.00111111]]])"
      ]
     },
     "execution_count": 38,
     "metadata": {},
     "output_type": "execute_result"
    }
   ],
   "source": [
    "u_anm"
   ]
  },
  {
   "cell_type": "code",
   "execution_count": null,
   "metadata": {},
   "outputs": [],
   "source": []
  }
 ],
 "metadata": {
  "kernelspec": {
   "display_name": "Python 3 (ipykernel)",
   "language": "python",
   "name": "python3"
  },
  "language_info": {
   "codemirror_mode": {
    "name": "ipython",
    "version": 3
   },
   "file_extension": ".py",
   "mimetype": "text/x-python",
   "name": "python",
   "nbconvert_exporter": "python",
   "pygments_lexer": "ipython3",
   "version": "3.7.0"
  }
 },
 "nbformat": 4,
 "nbformat_minor": 4
}
