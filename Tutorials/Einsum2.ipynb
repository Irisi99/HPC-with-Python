{
 "cells": [
  {
   "cell_type": "code",
   "execution_count": 1,
   "metadata": {},
   "outputs": [],
   "source": [
    "import numpy as np\n",
    "import matplotlib.pyplot as plt"
   ]
  },
  {
   "cell_type": "code",
   "execution_count": 2,
   "metadata": {},
   "outputs": [],
   "source": [
    "NX=300\n",
    "NY=300\n",
    "w_i = np.array([4/9, 1/9, 1/9, 1/9, 1/9, 1/36, 1/36, 1/36, 1/36]) # weights\n",
    "c_ai = np.array([[0, 1, 0, -1,  0, 1, -1, -1,  1],  # velocities, x components\n",
    "              [0, 0, 1,  0, -1, 1,  1, -1, -1]]) # velocities, y components"
   ]
  },
  {
   "cell_type": "code",
   "execution_count": 3,
   "metadata": {},
   "outputs": [],
   "source": [
    "#\n",
    "rho_ij = np.ones((NX,NY))  # The measured scalar density field\n",
    "u_cij  = np.zeros((2,NX,NY)) # The measured velocity field"
   ]
  },
  {
   "cell_type": "code",
   "execution_count": 4,
   "metadata": {},
   "outputs": [],
   "source": [
    "f_inm=np.einsum('i,jk->ijk',w_i,np.ones((NX,NY))) # product of two arrays"
   ]
  },
  {
   "cell_type": "code",
   "execution_count": 5,
   "metadata": {},
   "outputs": [],
   "source": [
    "rho=np.einsum('ijk->jk',f_inm)"
   ]
  },
  {
   "attachments": {},
   "cell_type": "markdown",
   "metadata": {},
   "source": [
    "$u_{nm}=\\sum_j c_j f_{jnm}/\\rho_{nm}$"
   ]
  },
  {
   "cell_type": "code",
   "execution_count": null,
   "metadata": {},
   "outputs": [],
   "source": []
  },
  {
   "cell_type": "code",
   "execution_count": 6,
   "metadata": {},
   "outputs": [],
   "source": [
    "f=np.einsum('i,jk->ijk',w_i,np.ones((NX,NY))) # product of two arrays\n",
    "eps=0.01\n",
    "f[1,:,:]=f[1,:,:]+eps\n",
    "f[2,:,:]=f[2,:,:]+eps\n",
    "u_cij=np.einsum('ij,jkl->ikl',c_ai,f)"
   ]
  },
  {
   "cell_type": "code",
   "execution_count": 7,
   "metadata": {},
   "outputs": [],
   "source": [
    "f[1]=np.roll(f[1],(0,1))"
   ]
  },
  {
   "cell_type": "code",
   "execution_count": 8,
   "metadata": {},
   "outputs": [],
   "source": [
    "u_cij=np.einsum('ij,jkl->ikl',c_ai,f)"
   ]
  },
  {
   "cell_type": "code",
   "execution_count": 9,
   "metadata": {},
   "outputs": [],
   "source": [
    "f=np.einsum('i,jk->ijk',w_i,np.ones((NX,NY))) # product of two arrays"
   ]
  },
  {
   "cell_type": "code",
   "execution_count": 10,
   "metadata": {},
   "outputs": [],
   "source": [
    "f[:,5,5]=f[:,5,5]-eps"
   ]
  },
  {
   "cell_type": "code",
   "execution_count": 11,
   "metadata": {},
   "outputs": [],
   "source": [
    "rho=np.einsum('ijk->jk',f)"
   ]
  },
  {
   "cell_type": "code",
   "execution_count": 12,
   "metadata": {},
   "outputs": [
    {
     "data": {
      "text/plain": [
       "89999.91"
      ]
     },
     "execution_count": 12,
     "metadata": {},
     "output_type": "execute_result"
    }
   ],
   "source": [
    "rho.sum()"
   ]
  },
  {
   "cell_type": "code",
   "execution_count": 13,
   "metadata": {},
   "outputs": [],
   "source": [
    "u_cij=np.einsum('ij,jkl->ikl',c_ai,f)"
   ]
  },
  {
   "cell_type": "code",
   "execution_count": 14,
   "metadata": {},
   "outputs": [],
   "source": [
    "v=np.sin(2*np.pi*np.linspace(0,10,10)/10.)"
   ]
  },
  {
   "cell_type": "code",
   "execution_count": 15,
   "metadata": {},
   "outputs": [
    {
     "data": {
      "text/plain": [
       "[<matplotlib.lines.Line2D at 0x167f661f550>]"
      ]
     },
     "execution_count": 15,
     "metadata": {},
     "output_type": "execute_result"
    },
    {
     "data": {
      "image/png": "[encoded data removed]",
      "text/plain": [
       "<Figure size 640x480 with 1 Axes>"
      ]
     },
     "metadata": {},
     "output_type": "display_data"
    }
   ],
   "source": [
    "plt.plot(v)"
   ]
  },
  {
   "cell_type": "code",
   "execution_count": 16,
   "metadata": {},
   "outputs": [
    {
     "data": {
      "text/plain": [
       "(10,)"
      ]
     },
     "execution_count": 16,
     "metadata": {},
     "output_type": "execute_result"
    }
   ],
   "source": [
    "v.shape"
   ]
  },
  {
   "cell_type": "code",
   "execution_count": 17,
   "metadata": {},
   "outputs": [],
   "source": [
    "u_new=np.zeros((2,NX,NY))\n",
    "for i in np.arange(10):\n",
    "    u_new[0,i,:]=u_cij[0,i,:]+v[i,np.newaxis]"
   ]
  },
  {
   "cell_type": "code",
   "execution_count": 18,
   "metadata": {},
   "outputs": [
    {
     "data": {
      "text/plain": [
       "array([[[0.44444444, 0.44444444, 0.44444444, ..., 0.44444444,\n",
       "         0.44444444, 0.44444444],\n",
       "        [0.44444444, 0.44444444, 0.44444444, ..., 0.44444444,\n",
       "         0.44444444, 0.44444444],\n",
       "        [0.44444444, 0.44444444, 0.44444444, ..., 0.44444444,\n",
       "         0.44444444, 0.44444444],\n",
       "        ...,\n",
       "        [0.44444444, 0.44444444, 0.44444444, ..., 0.44444444,\n",
       "         0.44444444, 0.44444444],\n",
       "        [0.44444444, 0.44444444, 0.44444444, ..., 0.44444444,\n",
       "         0.44444444, 0.44444444],\n",
       "        [0.44444444, 0.44444444, 0.44444444, ..., 0.44444444,\n",
       "         0.44444444, 0.44444444]],\n",
       "\n",
       "       [[0.11111111, 0.11111111, 0.11111111, ..., 0.11111111,\n",
       "         0.11111111, 0.11111111],\n",
       "        [0.11111111, 0.11111111, 0.11111111, ..., 0.11111111,\n",
       "         0.11111111, 0.11111111],\n",
       "        [0.11111111, 0.11111111, 0.11111111, ..., 0.11111111,\n",
       "         0.11111111, 0.11111111],\n",
       "        ...,\n",
       "        [0.11111111, 0.11111111, 0.11111111, ..., 0.11111111,\n",
       "         0.11111111, 0.11111111],\n",
       "        [0.11111111, 0.11111111, 0.11111111, ..., 0.11111111,\n",
       "         0.11111111, 0.11111111],\n",
       "        [0.11111111, 0.11111111, 0.11111111, ..., 0.11111111,\n",
       "         0.11111111, 0.11111111]],\n",
       "\n",
       "       [[0.11111111, 0.11111111, 0.11111111, ..., 0.11111111,\n",
       "         0.11111111, 0.11111111],\n",
       "        [0.11111111, 0.11111111, 0.11111111, ..., 0.11111111,\n",
       "         0.11111111, 0.11111111],\n",
       "        [0.11111111, 0.11111111, 0.11111111, ..., 0.11111111,\n",
       "         0.11111111, 0.11111111],\n",
       "        ...,\n",
       "        [0.11111111, 0.11111111, 0.11111111, ..., 0.11111111,\n",
       "         0.11111111, 0.11111111],\n",
       "        [0.11111111, 0.11111111, 0.11111111, ..., 0.11111111,\n",
       "         0.11111111, 0.11111111],\n",
       "        [0.11111111, 0.11111111, 0.11111111, ..., 0.11111111,\n",
       "         0.11111111, 0.11111111]],\n",
       "\n",
       "       ...,\n",
       "\n",
       "       [[0.02777778, 0.02777778, 0.02777778, ..., 0.02777778,\n",
       "         0.02777778, 0.02777778],\n",
       "        [0.02777778, 0.02777778, 0.02777778, ..., 0.02777778,\n",
       "         0.02777778, 0.02777778],\n",
       "        [0.02777778, 0.02777778, 0.02777778, ..., 0.02777778,\n",
       "         0.02777778, 0.02777778],\n",
       "        ...,\n",
       "        [0.02777778, 0.02777778, 0.02777778, ..., 0.02777778,\n",
       "         0.02777778, 0.02777778],\n",
       "        [0.02777778, 0.02777778, 0.02777778, ..., 0.02777778,\n",
       "         0.02777778, 0.02777778],\n",
       "        [0.02777778, 0.02777778, 0.02777778, ..., 0.02777778,\n",
       "         0.02777778, 0.02777778]],\n",
       "\n",
       "       [[0.02777778, 0.02777778, 0.02777778, ..., 0.02777778,\n",
       "         0.02777778, 0.02777778],\n",
       "        [0.02777778, 0.02777778, 0.02777778, ..., 0.02777778,\n",
       "         0.02777778, 0.02777778],\n",
       "        [0.02777778, 0.02777778, 0.02777778, ..., 0.02777778,\n",
       "         0.02777778, 0.02777778],\n",
       "        ...,\n",
       "        [0.02777778, 0.02777778, 0.02777778, ..., 0.02777778,\n",
       "         0.02777778, 0.02777778],\n",
       "        [0.02777778, 0.02777778, 0.02777778, ..., 0.02777778,\n",
       "         0.02777778, 0.02777778],\n",
       "        [0.02777778, 0.02777778, 0.02777778, ..., 0.02777778,\n",
       "         0.02777778, 0.02777778]],\n",
       "\n",
       "       [[0.02777778, 0.02777778, 0.02777778, ..., 0.02777778,\n",
       "         0.02777778, 0.02777778],\n",
       "        [0.02777778, 0.02777778, 0.02777778, ..., 0.02777778,\n",
       "         0.02777778, 0.02777778],\n",
       "        [0.02777778, 0.02777778, 0.02777778, ..., 0.02777778,\n",
       "         0.02777778, 0.02777778],\n",
       "        ...,\n",
       "        [0.02777778, 0.02777778, 0.02777778, ..., 0.02777778,\n",
       "         0.02777778, 0.02777778],\n",
       "        [0.02777778, 0.02777778, 0.02777778, ..., 0.02777778,\n",
       "         0.02777778, 0.02777778],\n",
       "        [0.02777778, 0.02777778, 0.02777778, ..., 0.02777778,\n",
       "         0.02777778, 0.02777778]]])"
      ]
     },
     "execution_count": 18,
     "metadata": {},
     "output_type": "execute_result"
    }
   ],
   "source": [
    "f"
   ]
  },
  {
   "cell_type": "code",
   "execution_count": 19,
   "metadata": {},
   "outputs": [
    {
     "data": {
      "text/plain": [
       "array([1, 1, 1, 1, 1, 1, 1, 1, 1, 1])"
      ]
     },
     "execution_count": 19,
     "metadata": {},
     "output_type": "execute_result"
    }
   ],
   "source": [
    "np.ones(10,dtype=int)"
   ]
  },
  {
   "cell_type": "code",
   "execution_count": 20,
   "metadata": {},
   "outputs": [
    {
     "data": {
      "text/plain": [
       "0"
      ]
     },
     "execution_count": 20,
     "metadata": {},
     "output_type": "execute_result"
    }
   ],
   "source": [
    "1//3"
   ]
  },
  {
   "cell_type": "code",
   "execution_count": 21,
   "metadata": {},
   "outputs": [],
   "source": [
    "#ar = np.zeros((NX,NY))\n",
    "#ar[NX//2,NY//2] = 1.0\n",
    "f_inm[5] = f_inm[5]*1.01\n",
    "f_inm[7] = f_inm[7]*0.99"
   ]
  },
  {
   "cell_type": "code",
   "execution_count": 22,
   "metadata": {},
   "outputs": [
    {
     "data": {
      "image/png": "[encoded data removed]",
      "text/plain": [
       "<Figure size 640x480 with 1 Axes>"
      ]
     },
     "metadata": {},
     "output_type": "display_data"
    }
   ],
   "source": [
    "#%matplotlib inline\n",
    "rho=np.einsum ('inm->nm',f_inm)\n",
    "#rho[NX//2,NY//2] = 1.01\n",
    "for i in np.arange(1,9):\n",
    "    f_inm[i] = np.roll(f_inm[i], shift = c_ai.T[i], axis = [0,1])\n",
    "#ar = np.roll(ar, shift = c_ai.T[5], axis = [0,1] )\n",
    "#\n",
    "fig, ax = plt.subplots()\n",
    "ax.imshow(rho)\n",
    "#ax.imshow(ar)\n",
    "plt.show()"
   ]
  },
  {
   "cell_type": "code",
   "execution_count": 23,
   "metadata": {},
   "outputs": [],
   "source": [
    "f_inm[:,NX//2,NY//2] = 1.01*f_inm[:,NX//2,NY//2]"
   ]
  },
  {
   "cell_type": "code",
   "execution_count": 24,
   "metadata": {},
   "outputs": [
    {
     "data": {
      "text/plain": [
       "array([0.44888889, 0.11222222, 0.11222222, 0.11222222, 0.11222222,\n",
       "       0.02833611, 0.02805556, 0.027775  , 0.02805556])"
      ]
     },
     "execution_count": 24,
     "metadata": {},
     "output_type": "execute_result"
    }
   ],
   "source": [
    "f_inm[:,NX//2,NY//2] "
   ]
  },
  {
   "cell_type": "code",
   "execution_count": 25,
   "metadata": {},
   "outputs": [
    {
     "data": {
      "text/plain": [
       "(9, 2)"
      ]
     },
     "execution_count": 25,
     "metadata": {},
     "output_type": "execute_result"
    }
   ],
   "source": [
    "c_ai.T.shape"
   ]
  },
  {
   "cell_type": "code",
   "execution_count": 26,
   "metadata": {},
   "outputs": [],
   "source": [
    "av_anm = np.einsum('ia,inm->anm',c_ai.T,f_inm)"
   ]
  },
  {
   "cell_type": "code",
   "execution_count": 27,
   "metadata": {},
   "outputs": [
    {
     "data": {
      "text/plain": [
       "array([[0., 0., 0., ..., 0., 0., 0.],\n",
       "       [0., 0., 0., ..., 0., 0., 0.],\n",
       "       [0., 0., 0., ..., 0., 0., 0.],\n",
       "       ...,\n",
       "       [0., 0., 0., ..., 0., 0., 0.],\n",
       "       [0., 0., 0., ..., 0., 0., 0.],\n",
       "       [0., 0., 0., ..., 0., 0., 0.]])"
      ]
     },
     "execution_count": 27,
     "metadata": {},
     "output_type": "execute_result"
    }
   ],
   "source": [
    "np.einsum('a,anm->nm',c_ai.T[8],av_anm)"
   ]
  },
  {
   "cell_type": "code",
   "execution_count": 28,
   "metadata": {},
   "outputs": [],
   "source": [
    "ar_ij = np.zeros((NX,NY))\n",
    "ar_ij[NX//2,NY//2] = 1."
   ]
  },
  {
   "cell_type": "code",
   "execution_count": 29,
   "metadata": {},
   "outputs": [
    {
     "data": {
      "image/png": "[encoded data removed]",
      "text/plain": [
       "<Figure size 640x480 with 1 Axes>"
      ]
     },
     "metadata": {},
     "output_type": "display_data"
    }
   ],
   "source": [
    "plt.imshow(ar_ij)\n",
    "ar_ij = np.roll(ar_ij, shift = c_ai.T[5], axis = [0, 1])"
   ]
  },
  {
   "cell_type": "code",
   "execution_count": 30,
   "metadata": {},
   "outputs": [
    {
     "data": {
      "text/plain": [
       "array([1, 1])"
      ]
     },
     "execution_count": 30,
     "metadata": {},
     "output_type": "execute_result"
    }
   ],
   "source": [
    "c_ai.T[5]"
   ]
  },
  {
   "cell_type": "code",
   "execution_count": 31,
   "metadata": {},
   "outputs": [],
   "source": [
    "rho_nm = np.einsum('inm->nm',f_inm)"
   ]
  },
  {
   "cell_type": "code",
   "execution_count": 32,
   "metadata": {},
   "outputs": [],
   "source": [
    "m = np.arange(35).reshape((5,7))"
   ]
  },
  {
   "cell_type": "code",
   "execution_count": 33,
   "metadata": {},
   "outputs": [
    {
     "data": {
      "text/plain": [
       "array([[ 0,  1,  2,  3,  4,  5,  6],\n",
       "       [ 7,  8,  9, 10, 11, 12, 13],\n",
       "       [14, 15, 16, 17, 18, 19, 20],\n",
       "       [21, 22, 23, 24, 25, 26, 27],\n",
       "       [28, 29, 30, 31, 32, 33, 34]])"
      ]
     },
     "execution_count": 33,
     "metadata": {},
     "output_type": "execute_result"
    }
   ],
   "source": [
    "m"
   ]
  },
  {
   "cell_type": "code",
   "execution_count": 34,
   "metadata": {},
   "outputs": [
    {
     "data": {
      "text/plain": [
       "array([ 70,  75,  80,  85,  90,  95, 100])"
      ]
     },
     "execution_count": 34,
     "metadata": {},
     "output_type": "execute_result"
    }
   ],
   "source": [
    "np.einsum('ij->j',m)"
   ]
  },
  {
   "cell_type": "code",
   "execution_count": 35,
   "metadata": {},
   "outputs": [
    {
     "data": {
      "text/plain": [
       "array([[1., 1., 1., ..., 1., 1., 1.],\n",
       "       [1., 1., 1., ..., 1., 1., 1.],\n",
       "       [1., 1., 1., ..., 1., 1., 1.],\n",
       "       ...,\n",
       "       [1., 1., 1., ..., 1., 1., 1.],\n",
       "       [1., 1., 1., ..., 1., 1., 1.],\n",
       "       [1., 1., 1., ..., 1., 1., 1.]])"
      ]
     },
     "execution_count": 35,
     "metadata": {},
     "output_type": "execute_result"
    }
   ],
   "source": [
    "np.einsum('ijk->jk',f_inm)"
   ]
  },
  {
   "cell_type": "code",
   "execution_count": 36,
   "metadata": {},
   "outputs": [],
   "source": [
    "u_anm = np.ones((2,NX,NY))"
   ]
  },
  {
   "cell_type": "code",
   "execution_count": 37,
   "metadata": {},
   "outputs": [
    {
     "data": {
      "text/plain": [
       "array([1., 1.])"
      ]
     },
     "execution_count": 37,
     "metadata": {},
     "output_type": "execute_result"
    }
   ],
   "source": [
    "u_anm[:,50,50]"
   ]
  },
  {
   "cell_type": "code",
   "execution_count": 38,
   "metadata": {},
   "outputs": [],
   "source": [
    "L = NY\n",
    "x = np.arange(0,NX)\n",
    "y = np.arange(0,NY)\n",
    "v = np.sin(2.*np.pi/L*y)"
   ]
  },
  {
   "cell_type": "code",
   "execution_count": 53,
   "metadata": {},
   "outputs": [
    {
     "data": {
      "text/plain": [
       "[<matplotlib.lines.Line2D at 0x167f9d78128>]"
      ]
     },
     "execution_count": 53,
     "metadata": {},
     "output_type": "execute_result"
    },
    {
     "data": {
      "image/png": "[encoded data removed]",
      "text/plain": [
       "<Figure size 640x480 with 1 Axes>"
      ]
     },
     "metadata": {},
     "output_type": "display_data"
    }
   ],
   "source": [
    "plt.plot(v)\n",
    "plt.plot(0.5*v)"
   ]
  },
  {
   "cell_type": "code",
   "execution_count": 40,
   "metadata": {},
   "outputs": [],
   "source": [
    "X, Y = np.meshgrid(x,y)"
   ]
  },
  {
   "cell_type": "code",
   "execution_count": 41,
   "metadata": {},
   "outputs": [
    {
     "data": {
      "text/plain": [
       "array([[  0,   1,   2, ..., 297, 298, 299],\n",
       "       [  0,   1,   2, ..., 297, 298, 299],\n",
       "       [  0,   1,   2, ..., 297, 298, 299],\n",
       "       ...,\n",
       "       [  0,   1,   2, ..., 297, 298, 299],\n",
       "       [  0,   1,   2, ..., 297, 298, 299],\n",
       "       [  0,   1,   2, ..., 297, 298, 299]])"
      ]
     },
     "execution_count": 41,
     "metadata": {},
     "output_type": "execute_result"
    }
   ],
   "source": [
    "X"
   ]
  },
  {
   "cell_type": "code",
   "execution_count": 42,
   "metadata": {},
   "outputs": [
    {
     "data": {
      "text/plain": [
       "array([[  0,   0,   0, ...,   0,   0,   0],\n",
       "       [  1,   1,   1, ...,   1,   1,   1],\n",
       "       [  2,   2,   2, ...,   2,   2,   2],\n",
       "       ...,\n",
       "       [297, 297, 297, ..., 297, 297, 297],\n",
       "       [298, 298, 298, ..., 298, 298, 298],\n",
       "       [299, 299, 299, ..., 299, 299, 299]])"
      ]
     },
     "execution_count": 42,
     "metadata": {},
     "output_type": "execute_result"
    }
   ],
   "source": [
    "Y"
   ]
  },
  {
   "cell_type": "code",
   "execution_count": 43,
   "metadata": {},
   "outputs": [],
   "source": [
    "ux = np.sin(2.*np.pi/L*Y)\n",
    "uy = np.zeros((NX,NY))"
   ]
  },
  {
   "cell_type": "code",
   "execution_count": 44,
   "metadata": {},
   "outputs": [
    {
     "data": {
      "text/plain": [
       "(300, 300)"
      ]
     },
     "execution_count": 44,
     "metadata": {},
     "output_type": "execute_result"
    }
   ],
   "source": [
    "ux.shape"
   ]
  },
  {
   "cell_type": "code",
   "execution_count": 45,
   "metadata": {},
   "outputs": [
    {
     "data": {
      "text/plain": [
       "array([[0., 0., 0., ..., 0., 0., 0.],\n",
       "       [0., 0., 0., ..., 0., 0., 0.],\n",
       "       [0., 0., 0., ..., 0., 0., 0.],\n",
       "       ...,\n",
       "       [0., 0., 0., ..., 0., 0., 0.],\n",
       "       [0., 0., 0., ..., 0., 0., 0.],\n",
       "       [0., 0., 0., ..., 0., 0., 0.]])"
      ]
     },
     "execution_count": 45,
     "metadata": {},
     "output_type": "execute_result"
    }
   ],
   "source": [
    "uy"
   ]
  },
  {
   "cell_type": "code",
   "execution_count": 46,
   "metadata": {},
   "outputs": [],
   "source": [
    "u = np.stack((ux,uy), axis = 0)"
   ]
  },
  {
   "cell_type": "code",
   "execution_count": 47,
   "metadata": {},
   "outputs": [
    {
     "data": {
      "text/plain": [
       "[<matplotlib.lines.Line2D at 0x167f7198dd8>]"
      ]
     },
     "execution_count": 47,
     "metadata": {},
     "output_type": "execute_result"
    },
    {
     "data": {
      "image/png": "[encoded data removed]",
      "text/plain": [
       "<Figure size 640x480 with 1 Axes>"
      ]
     },
     "metadata": {},
     "output_type": "display_data"
    }
   ],
   "source": [
    "plt.plot(u[0,:,51])"
   ]
  },
  {
   "cell_type": "code",
   "execution_count": null,
   "metadata": {},
   "outputs": [],
   "source": []
  },
  {
   "cell_type": "code",
   "execution_count": 48,
   "metadata": {},
   "outputs": [],
   "source": [
    "u_anm_x_c_ai = np.einsum('ai,anm->inm',c_ai,u_anm)"
   ]
  },
  {
   "cell_type": "code",
   "execution_count": 49,
   "metadata": {},
   "outputs": [],
   "source": [
    "u_anm_x_u_anm = np.einsum('anm->nm',u**2)"
   ]
  },
  {
   "cell_type": "code",
   "execution_count": 50,
   "metadata": {},
   "outputs": [
    {
     "data": {
      "text/plain": [
       "array([[[0.        , 0.        , 0.        , ..., 0.        ,\n",
       "         0.        , 0.        ],\n",
       "        [0.00043858, 0.00043858, 0.00043858, ..., 0.00043858,\n",
       "         0.00043858, 0.00043858],\n",
       "        [0.00175357, 0.00175357, 0.00175357, ..., 0.00175357,\n",
       "         0.00175357, 0.00175357],\n",
       "        ...,\n",
       "        [0.00394265, 0.00394265, 0.00394265, ..., 0.00394265,\n",
       "         0.00394265, 0.00394265],\n",
       "        [0.00175357, 0.00175357, 0.00175357, ..., 0.00175357,\n",
       "         0.00175357, 0.00175357],\n",
       "        [0.00043858, 0.00043858, 0.00043858, ..., 0.00043858,\n",
       "         0.00043858, 0.00043858]]])"
      ]
     },
     "execution_count": 50,
     "metadata": {},
     "output_type": "execute_result"
    }
   ],
   "source": [
    "u_anm_x_u_anm[np.newaxis,:,:]"
   ]
  },
  {
   "cell_type": "code",
   "execution_count": 51,
   "metadata": {},
   "outputs": [
    {
     "data": {
      "text/plain": [
       "array([[[1., 1., 1., ..., 1., 1., 1.],\n",
       "        [1., 1., 1., ..., 1., 1., 1.],\n",
       "        [1., 1., 1., ..., 1., 1., 1.],\n",
       "        ...,\n",
       "        [1., 1., 1., ..., 1., 1., 1.],\n",
       "        [1., 1., 1., ..., 1., 1., 1.],\n",
       "        [1., 1., 1., ..., 1., 1., 1.]],\n",
       "\n",
       "       [[1., 1., 1., ..., 1., 1., 1.],\n",
       "        [1., 1., 1., ..., 1., 1., 1.],\n",
       "        [1., 1., 1., ..., 1., 1., 1.],\n",
       "        ...,\n",
       "        [1., 1., 1., ..., 1., 1., 1.],\n",
       "        [1., 1., 1., ..., 1., 1., 1.],\n",
       "        [1., 1., 1., ..., 1., 1., 1.]]])"
      ]
     },
     "execution_count": 51,
     "metadata": {},
     "output_type": "execute_result"
    }
   ],
   "source": [
    "u_anm"
   ]
  },
  {
   "cell_type": "code",
   "execution_count": null,
   "metadata": {},
   "outputs": [],
   "source": []
  }
 ],
 "metadata": {
  "kernelspec": {
   "display_name": "Python 3 (ipykernel)",
   "language": "python",
   "name": "python3"
  },
  "language_info": {
   "codemirror_mode": {
    "name": "ipython",
    "version": 3
   },
   "file_extension": ".py",
   "mimetype": "text/x-python",
   "name": "python",
   "nbconvert_exporter": "python",
   "pygments_lexer": "ipython3",
   "version": "3.7.0"
  }
 },
 "nbformat": 4,
 "nbformat_minor": 4
}
